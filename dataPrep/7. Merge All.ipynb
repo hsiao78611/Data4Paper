{
 "cells": [
  {
   "cell_type": "code",
   "execution_count": 75,
   "metadata": {},
   "outputs": [],
   "source": [
    "import pandas as pd\n",
    "import sqlite3\n",
    "import os\n",
    "import re\n",
    "import numpy as np"
   ]
  },
  {
   "cell_type": "code",
   "execution_count": 2,
   "metadata": {},
   "outputs": [],
   "source": [
    "directory = os.path.abspath(os.path.join(os.getcwd(), os.pardir))"
   ]
  },
  {
   "cell_type": "markdown",
   "metadata": {},
   "source": [
    "# Tools"
   ]
  },
  {
   "cell_type": "code",
   "execution_count": 3,
   "metadata": {},
   "outputs": [],
   "source": [
    "def pid_count(df, *the_rest):\n",
    "    def _cal(df):\n",
    "        return len(df.drop_duplicates('pid'))\n",
    "    print(*list(map(_cal, [df]+list(the_rest))), sep=', ')"
   ]
  },
  {
   "cell_type": "code",
   "execution_count": 4,
   "metadata": {},
   "outputs": [],
   "source": [
    "def save_db(db_name, df_name, *path):\n",
    "    if len(path) == 1:\n",
    "        conn_save = sqlite3.connect(directory + path[0] + db_name + '.db')\n",
    "    else:\n",
    "        conn_save = sqlite3.connect(directory + '/dataPrep/source/' + db_name + '.db')\n",
    "    df_name.to_sql(name=db_name, con=conn_save, if_exists='replace', index=False)"
   ]
  },
  {
   "cell_type": "markdown",
   "metadata": {},
   "source": [
    "# Data"
   ]
  },
  {
   "cell_type": "code",
   "execution_count": 172,
   "metadata": {},
   "outputs": [],
   "source": [
    "conn_proj_factor = sqlite3.connect(directory + '/dataPrep/source/constructs/' + 'proj_factor.db')\n",
    "proj_factor = pd.read_sql_query(\"SELECT * FROM proj_factor\", conn_proj_factor)\n",
    "\n",
    "conn_crt_exp = sqlite3.connect(directory + '/dataPrep/source/constructs/' + 'crt_exp.db')\n",
    "crt_exp = pd.read_sql_query(\"SELECT * FROM crt_exp\", conn_crt_exp)\n",
    "\n",
    "conn_interact_faq_upd = sqlite3.connect(directory + '/dataPrep/source/constructs/' + 'interact_faq_upd.db')\n",
    "interact_faq_upd = pd.read_sql_query(\"SELECT * FROM interact_faq_upd\", conn_interact_faq_upd)\n",
    "\n",
    "conn_interact_cmt = sqlite3.connect(directory + '/dataPrep/source/constructs/' + 'interact_cmt.db')\n",
    "interact_cmt = pd.read_sql_query(\"SELECT * FROM interact_cmt\", conn_interact_cmt)"
   ]
  },
  {
   "cell_type": "code",
   "execution_count": 8,
   "metadata": {},
   "outputs": [
    {
     "name": "stdout",
     "output_type": "stream",
     "text": [
      "2137, 2137, 2137, 2137\n"
     ]
    }
   ],
   "source": [
    "pid_count(proj_factor, crt_exp, interact_faq_upd, interact_cmt)"
   ]
  },
  {
   "cell_type": "code",
   "execution_count": 138,
   "metadata": {},
   "outputs": [],
   "source": [
    "conn_proj = sqlite3.connect(directory + '/dataPrep/source/ds_ind_26229/' + 'proj.db')\n",
    "proj = pd.read_sql_query(\"SELECT * FROM proj\", conn_proj)\n",
    "proj = proj[proj.pid.isin(proj_factor.pid)].copy()"
   ]
  },
  {
   "cell_type": "code",
   "execution_count": 32,
   "metadata": {},
   "outputs": [],
   "source": [
    "conn_rmO_lm_b03 = sqlite3.connect(directory + '/dataPrep/source/constructs/' + 'rmO_lm_b03.db')\n",
    "rmO_lm_b03 = pd.read_sql_query(\"SELECT * FROM rmO_lm_b03\", conn_rmO_lm_b03)\n",
    "\n",
    "conn_rmO_lm_b03_neg = sqlite3.connect(directory + '/dataPrep/source/constructs/' + 'rmO_lm_b03_neg.db')\n",
    "rmO_lm_b03_neg = pd.read_sql_query(\"SELECT * FROM rmO_lm_b03_neg\", conn_rmO_lm_b03_neg)"
   ]
  },
  {
   "cell_type": "code",
   "execution_count": 46,
   "metadata": {},
   "outputs": [
    {
     "name": "stdout",
     "output_type": "stream",
     "text": [
      "2137, 2137, 762\n"
     ]
    }
   ],
   "source": [
    "pid_count(proj, rmO_lm_b03, neg_rmO_lm_b03)"
   ]
  },
  {
   "cell_type": "code",
   "execution_count": 61,
   "metadata": {},
   "outputs": [],
   "source": [
    "conn_dates = sqlite3.connect(directory + '/dataPrep/source/overall/' + 'dates.db')\n",
    "dates = pd.read_sql_query(\"SELECT * FROM dates\", conn_dates)"
   ]
  },
  {
   "cell_type": "markdown",
   "metadata": {},
   "source": [
    "# Merge"
   ]
  },
  {
   "cell_type": "code",
   "execution_count": 142,
   "metadata": {},
   "outputs": [],
   "source": [
    "proj = proj[['pid', 'proj_start_date', 'proj_end_date', 'proj_url']].copy()\n",
    "proj.proj_start_date = proj.proj_start_date.apply(lambda str_date: re.sub('-.[\\d]:.[\\d]$', '', str_date))\n",
    "proj.proj_start_date = proj.proj_start_date.apply(\n",
    "    lambda str_date: datetime.datetime.strptime(str_date, \"%Y-%m-%dT%H:%M:%S\"))\n",
    "proj.proj_end_date = proj.proj_end_date.apply(lambda str_date: re.sub('-.[\\d]:.[\\d]$', '', str_date))\n",
    "proj.proj_end_date = proj.proj_end_date.apply(\n",
    "    lambda str_date: datetime.datetime.strptime(str_date, \"%Y-%m-%dT%H:%M:%S\"))\n",
    "proj.proj_url = proj.proj_url.apply(lambda i: re.sub(' ', '', i))"
   ]
  },
  {
   "cell_type": "code",
   "execution_count": 178,
   "metadata": {},
   "outputs": [],
   "source": [
    "mergeAll = proj.merge(proj_factor, on=['pid'])\n",
    "mergeAll = mergeAll.merge(crt_exp, on=['pid'])\n",
    "mergeAll = mergeAll.merge(interact_faq_upd, on=['pid'])\n",
    "mergeAll = mergeAll.merge(interact_cmt, on=['pid']).copy()"
   ]
  },
  {
   "cell_type": "code",
   "execution_count": 180,
   "metadata": {},
   "outputs": [],
   "source": [
    "mergeAll = mergeAll.merge(rmO_lm_b03[[\n",
    "    'pid', 'cmt_total', 'backer_cmt', 'backer_rate', 'neg_1', 'neg_2', 'neg_3', 'neg_all', 'neg_2_3',\n",
    "    'neg_1_rate', 'neg_2_rate', 'neg_3_rate', 'neg_all_rate', 'neg_2_3_rate']], on=['pid'])"
   ]
  },
  {
   "cell_type": "code",
   "execution_count": 182,
   "metadata": {},
   "outputs": [],
   "source": [
    "# check whether is severe case\n",
    "mergeAll['severity'] = mergeAll.neg_2_3_rate > mergeAll.neg_all_rate * 0.5\n",
    "mergeAll.severity = mergeAll.severity.apply(lambda i: 1 if i==True else 0)"
   ]
  },
  {
   "cell_type": "code",
   "execution_count": 183,
   "metadata": {},
   "outputs": [],
   "source": [
    "# calculate creation period\n",
    "creation_period = dates[['pid', 'first_date', 'proj_end_date']].copy()\n",
    "creation_period.first_date = creation_period.first_date.apply(\n",
    "    lambda str_date: datetime.datetime.strptime(str_date, \"%Y-%m-%d %H:%M:%S\"))\n",
    "creation_period.proj_end_date = creation_period.proj_end_date.apply(\n",
    "    lambda str_date: datetime.datetime.strptime(str_date, \"%Y-%m-%d %H:%M:%S\"))\n",
    "\n",
    "creation_period['waiting_days'] = creation_period.first_date - creation_period.proj_end_date\n",
    "creation_period.waiting_days = creation_period.waiting_days.apply(lambda td: (td / np.timedelta64(1, 'D')).astype(int))\n",
    "\n",
    "mergeAll = mergeAll.merge(creation_period[['pid', 'waiting_days']], on=['pid'])"
   ]
  },
  {
   "cell_type": "code",
   "execution_count": 184,
   "metadata": {},
   "outputs": [],
   "source": [
    "# check whether using early bird and shipping limit\n",
    "mergeAll['early_bird'] = mergeAll.eb_rate > 0\n",
    "mergeAll.early_bird = mergeAll.early_bird.apply(lambda i: 1 if i==True else 0)\n",
    "\n",
    "mergeAll['ship_limit'] = mergeAll.reward_ship_limit_rate > 0\n",
    "mergeAll.ship_limit = mergeAll.ship_limit.apply(lambda i: 1 if i==True else 0)"
   ]
  },
  {
   "cell_type": "code",
   "execution_count": 185,
   "metadata": {},
   "outputs": [
    {
     "data": {
      "text/plain": [
       "array(['pid', 'proj_start_date', 'proj_end_date', 'proj_url',\n",
       "       'proj_category', 'proj_subcategory', 'proj_location',\n",
       "       'proj_currency', 'proj_goal', 'percent_raised', 'duration',\n",
       "       'proj_backer_count', 'has_collaborator', 'early_bird_count',\n",
       "       'rew_count', 'eb_rate', 'reward_quota_rate',\n",
       "       'reward_ship_limit_rate', 'body_length', 'body_image_count',\n",
       "       'body_video_count', 'cid', 'joined_days', 'firstTime',\n",
       "       'created_count', 'created_suc_rate', 'backed_count', 'next_suc',\n",
       "       'has_faq', 'has_faq_0', 'has_faq_1', 'upd_count', 'upd_count_b',\n",
       "       'upd_freq', 'backer_only', 'upd_len', 'upd_image', 'upd_video',\n",
       "       'upd_avg_len', 'upd_avg_image', 'upd_avg_video', 'upd_count_0',\n",
       "       'upd_count_a_0', 'upd_freq_0', 'upd_len_0', 'upd_image_0',\n",
       "       'upd_video_0', 'upd_avg_len_0', 'upd_avg_image_0',\n",
       "       'upd_avg_video_0', 'upd_count_3', 'upd_count_a_3', 'upd_freq_3',\n",
       "       'upd_len_3', 'upd_image_3', 'upd_video_3', 'upd_avg_len_3',\n",
       "       'upd_avg_image_3', 'upd_avg_video_3', 'upd_count_6',\n",
       "       'upd_count_a_6', 'upd_freq_6', 'upd_len_6', 'upd_image_6',\n",
       "       'upd_video_6', 'upd_avg_len_6', 'upd_avg_image_6',\n",
       "       'upd_avg_video_6', 'upd_count_9', 'upd_count_a_9', 'upd_freq_9',\n",
       "       'upd_len_9', 'upd_image_9', 'upd_video_9', 'upd_avg_len_9',\n",
       "       'upd_avg_image_9', 'upd_avg_video_9', 'upd_count_1',\n",
       "       'upd_count_a_1', 'upd_freq_1', 'upd_len_1', 'upd_image_1',\n",
       "       'upd_video_1', 'upd_avg_len_1', 'upd_avg_image_1',\n",
       "       'upd_avg_video_1', 'upd_count_0103', 'upd_count_a_0103',\n",
       "       'upd_freq_0103', 'upd_len_0103', 'upd_image_0103', 'upd_video_0103',\n",
       "       'upd_avg_len_0103', 'upd_avg_image_0103', 'upd_avg_video_0103',\n",
       "       'upd_count_0406', 'upd_count_a_0406', 'upd_freq_0406',\n",
       "       'upd_len_0406', 'upd_image_0406', 'upd_video_0406',\n",
       "       'upd_avg_len_0406', 'upd_avg_image_0406', 'upd_avg_video_0406',\n",
       "       'upd_count_0709', 'upd_count_a_0709', 'upd_freq_0709',\n",
       "       'upd_len_0709', 'upd_image_0709', 'upd_video_0709',\n",
       "       'upd_avg_len_0709', 'upd_avg_image_0709', 'upd_avg_video_0709',\n",
       "       'upd_count_1012', 'upd_count_a_1012', 'upd_freq_1012',\n",
       "       'upd_len_1012', 'upd_image_1012', 'upd_video_1012',\n",
       "       'upd_avg_len_1012', 'upd_avg_image_1012', 'upd_avg_video_1012',\n",
       "       'upd_count_0106', 'upd_count_a_0106', 'upd_freq_0106',\n",
       "       'upd_len_0106', 'upd_image_0106', 'upd_video_0106',\n",
       "       'upd_avg_len_0106', 'upd_avg_image_0106', 'upd_avg_video_0106',\n",
       "       'upd_count_0712', 'upd_count_a_0712', 'upd_freq_0712',\n",
       "       'upd_len_0712', 'upd_image_0712', 'upd_video_0712',\n",
       "       'upd_avg_len_0712', 'upd_avg_image_0712', 'upd_avg_video_0712',\n",
       "       'cmt_count', 'cmt_crt_count', 'cmt_bac_count', 'cmt_collaborator',\n",
       "       'cmt_creator', 'cmt_superbaker', 'cmt_len', 'cmt_email',\n",
       "       'cmt_rpt_l', 'cmt_rpt_f', 'cmt_rbn', 'cmt_crt_rate', 'cmt_avg_len',\n",
       "       'cmt_avg_rpt_f', 'cmt_avg_rpt_l', 'cmt_email_rate', 'cmt_rbn_rate',\n",
       "       'cmt_count_0', 'cmt_crt_count_0', 'cmt_bac_count_0', 'cmt_len_0',\n",
       "       'cmt_rpt_l_0', 'cmt_rpt_f_0', 'cmt_email_0', 'cmt_rbn_0',\n",
       "       'cmt_crt_rate_0', 'cmt_avg_len_0', 'cmt_avg_rpt_f_0',\n",
       "       'cmt_avg_rpt_l_0', 'cmt_email_rate_0', 'cmt_rbn_rate_0',\n",
       "       'cmt_count_3', 'cmt_crt_count_3', 'cmt_bac_count_3', 'cmt_len_3',\n",
       "       'cmt_rpt_l_3', 'cmt_rpt_f_3', 'cmt_email_3', 'cmt_rbn_3',\n",
       "       'cmt_crt_rate_3', 'cmt_avg_len_3', 'cmt_avg_rpt_f_3',\n",
       "       'cmt_avg_rpt_l_3', 'cmt_email_rate_3', 'cmt_rbn_rate_3',\n",
       "       'cmt_count_6', 'cmt_crt_count_6', 'cmt_bac_count_6', 'cmt_len_6',\n",
       "       'cmt_rpt_l_6', 'cmt_rpt_f_6', 'cmt_email_6', 'cmt_rbn_6',\n",
       "       'cmt_crt_rate_6', 'cmt_avg_len_6', 'cmt_avg_rpt_f_6',\n",
       "       'cmt_avg_rpt_l_6', 'cmt_email_rate_6', 'cmt_rbn_rate_6',\n",
       "       'cmt_count_9', 'cmt_crt_count_9', 'cmt_bac_count_9', 'cmt_len_9',\n",
       "       'cmt_rpt_l_9', 'cmt_rpt_f_9', 'cmt_email_9', 'cmt_rbn_9',\n",
       "       'cmt_crt_rate_9', 'cmt_avg_len_9', 'cmt_avg_rpt_f_9',\n",
       "       'cmt_avg_rpt_l_9', 'cmt_email_rate_9', 'cmt_rbn_rate_9',\n",
       "       'cmt_count_1', 'cmt_crt_count_1', 'cmt_bac_count_1', 'cmt_len_1',\n",
       "       'cmt_rpt_l_1', 'cmt_rpt_f_1', 'cmt_email_1', 'cmt_rbn_1',\n",
       "       'cmt_crt_rate_1', 'cmt_avg_len_1', 'cmt_avg_rpt_f_1',\n",
       "       'cmt_avg_rpt_l_1', 'cmt_email_rate_1', 'cmt_rbn_rate_1',\n",
       "       'cmt_count_0103', 'cmt_crt_count_0103', 'cmt_bac_count_0103',\n",
       "       'cmt_len_0103', 'cmt_rpt_l_0103', 'cmt_rpt_f_0103',\n",
       "       'cmt_email_0103', 'cmt_rbn_0103', 'cmt_crt_rate_0103',\n",
       "       'cmt_avg_len_0103', 'cmt_avg_rpt_f_0103', 'cmt_avg_rpt_l_0103',\n",
       "       'cmt_email_rate_0103', 'cmt_rbn_rate_0103', 'cmt_count_0406',\n",
       "       'cmt_crt_count_0406', 'cmt_bac_count_0406', 'cmt_len_0406',\n",
       "       'cmt_rpt_l_0406', 'cmt_rpt_f_0406', 'cmt_email_0406',\n",
       "       'cmt_rbn_0406', 'cmt_crt_rate_0406', 'cmt_avg_len_0406',\n",
       "       'cmt_avg_rpt_f_0406', 'cmt_avg_rpt_l_0406', 'cmt_email_rate_0406',\n",
       "       'cmt_rbn_rate_0406', 'cmt_count_0709', 'cmt_crt_count_0709',\n",
       "       'cmt_bac_count_0709', 'cmt_len_0709', 'cmt_rpt_l_0709',\n",
       "       'cmt_rpt_f_0709', 'cmt_email_0709', 'cmt_rbn_0709',\n",
       "       'cmt_crt_rate_0709', 'cmt_avg_len_0709', 'cmt_avg_rpt_f_0709',\n",
       "       'cmt_avg_rpt_l_0709', 'cmt_email_rate_0709', 'cmt_rbn_rate_0709',\n",
       "       'cmt_count_1012', 'cmt_crt_count_1012', 'cmt_bac_count_1012',\n",
       "       'cmt_len_1012', 'cmt_rpt_l_1012', 'cmt_rpt_f_1012',\n",
       "       'cmt_email_1012', 'cmt_rbn_1012', 'cmt_crt_rate_1012',\n",
       "       'cmt_avg_len_1012', 'cmt_avg_rpt_f_1012', 'cmt_avg_rpt_l_1012',\n",
       "       'cmt_email_rate_1012', 'cmt_rbn_rate_1012', 'cmt_count_0106',\n",
       "       'cmt_crt_count_0106', 'cmt_bac_count_0106', 'cmt_len_0106',\n",
       "       'cmt_rpt_l_0106', 'cmt_rpt_f_0106', 'cmt_email_0106',\n",
       "       'cmt_rbn_0106', 'cmt_crt_rate_0106', 'cmt_avg_len_0106',\n",
       "       'cmt_avg_rpt_f_0106', 'cmt_avg_rpt_l_0106', 'cmt_email_rate_0106',\n",
       "       'cmt_rbn_rate_0106', 'cmt_count_0712', 'cmt_crt_count_0712',\n",
       "       'cmt_bac_count_0712', 'cmt_len_0712', 'cmt_rpt_l_0712',\n",
       "       'cmt_rpt_f_0712', 'cmt_email_0712', 'cmt_rbn_0712',\n",
       "       'cmt_crt_rate_0712', 'cmt_avg_len_0712', 'cmt_avg_rpt_f_0712',\n",
       "       'cmt_avg_rpt_l_0712', 'cmt_email_rate_0712', 'cmt_rbn_rate_0712',\n",
       "       'cmt_total', 'backer_cmt', 'backer_rate', 'neg_1', 'neg_2', 'neg_3',\n",
       "       'neg_all', 'neg_2_3', 'neg_1_rate', 'neg_2_rate', 'neg_3_rate',\n",
       "       'neg_all_rate', 'neg_2_3_rate', 'severity', 'waiting_days',\n",
       "       'early_bird', 'ship_limit'], dtype=object)"
      ]
     },
     "execution_count": 185,
     "metadata": {},
     "output_type": "execute_result"
    }
   ],
   "source": [
    "mergeAll.columns.values"
   ]
  },
  {
   "cell_type": "code",
   "execution_count": 186,
   "metadata": {},
   "outputs": [],
   "source": [
    "save_db('mergeAll', mergeAll)"
   ]
  },
  {
   "cell_type": "code",
   "execution_count": 187,
   "metadata": {},
   "outputs": [],
   "source": [
    "dataset = mergeAll[[\n",
    "    'pid', 'proj_start_date', 'proj_end_date', 'waiting_days',\n",
    "    'proj_category', 'proj_subcategory', 'proj_url', 'percent_raised',\n",
    "    'duration', 'proj_backer_count', 'early_bird', 'ship_limit',\n",
    "    'body_length', 'body_image_count', 'body_video_count', 'has_faq',\n",
    "    'joined_days', 'firstTime', 'created_count', 'backed_count', \n",
    "    \n",
    "    'upd_count_0',\n",
    "    'upd_avg_len_0', 'upd_avg_image_0', 'upd_avg_video_0',\n",
    "    'cmt_crt_rate_0', 'cmt_avg_len_0', 'cmt_avg_rpt_l_0',\n",
    "    'cmt_email_rate_0', 'cmt_rbn_rate_0', \n",
    "    \n",
    "    'upd_count_1',\n",
    "    'upd_avg_len_1', 'upd_avg_image_1', 'upd_avg_video_1',\n",
    "    'cmt_crt_rate_1', 'cmt_avg_len_1', 'cmt_avg_rpt_l_1',\n",
    "    'cmt_email_rate_1', 'cmt_rbn_rate_1', \n",
    "    \n",
    "    'upd_count_0106',\n",
    "    'upd_avg_len_0106', 'upd_avg_image_0106', 'upd_avg_video_0106',\n",
    "    'cmt_crt_rate_0106', 'cmt_avg_len_0106', 'cmt_avg_rpt_l_0106',\n",
    "    'cmt_email_rate_0106', 'cmt_rbn_rate_0106', \n",
    "    \n",
    "    'upd_count_0712',\n",
    "    'upd_avg_len_0712', 'upd_avg_image_0712', 'upd_avg_video_0712',\n",
    "    'cmt_crt_rate_0712', 'cmt_avg_len_0712', 'cmt_avg_rpt_l_0712',\n",
    "    'cmt_email_rate_0712', 'cmt_rbn_rate_0712', \n",
    "    \n",
    "    'neg_1_rate','neg_2_rate', 'neg_3_rate', 'neg_2_3_rate', 'neg_all_rate', 'severity']]"
   ]
  },
  {
   "cell_type": "code",
   "execution_count": 191,
   "metadata": {},
   "outputs": [],
   "source": [
    "dataset = dataset.rename(index=str, columns={\n",
    "    'percent_raised':'percentRaised',\n",
    "    'duration':'projectDuration',    \n",
    "    'proj_backer_count':'backers',\n",
    "    'early_bird':'earlyBird',\n",
    "    'ship_limit':'limit',\n",
    "    'body_length':'word_count',\n",
    "    'body_image_count':'image_count', \n",
    "    'body_video_count':'video_count',\n",
    "    'has_faq':'faqs',\n",
    "    'joined_days': 'joinDays',\n",
    "    'firstTime':'novice',\n",
    "    'created_count':'created',\n",
    "    'backed_count':'backed',\n",
    "    'upd_count_0':'updates_BEDD',\n",
    "    'upd_avg_len_0':'upd_avg_word_BEDD', \n",
    "    'upd_avg_image_0':'upd_avg_image_BEDD',\n",
    "    'upd_avg_video_0':'upd_avg_video_BEDD', \n",
    "    'cmt_crt_rate_0':'replyRate_BEDD', \n",
    "    'cmt_avg_len_0':'avgWord_BEDD',\n",
    "    'cmt_avg_rpt_l_0':'avgTime_BEDD', \n",
    "    'cmt_email_rate_0':'emailRate_BEDD', \n",
    "    'cmt_rbn_rate_0':'nameRate_BEDD', \n",
    "    'upd_count_1':'updates_AEDD',\n",
    "    'upd_avg_len_1':'upd_avg_word_AEDD', \n",
    "    'upd_avg_image_1':'upd_avg_image_AEDD', \n",
    "    'upd_avg_video_1':'upd_avg_video_AEDD',\n",
    "    'cmt_crt_rate_1':'replyRate_AEDD', \n",
    "    'cmt_avg_len_1':'avgWord_AEDD', \n",
    "    'cmt_avg_rpt_l_1':'avgTime_AEDD', \n",
    "    'cmt_email_rate_1':'emailRate_AEDD',\n",
    "    'cmt_rbn_rate_1':'nameRate_AEDD', \n",
    "    'upd_count_0106':'updates_0106', \n",
    "    'upd_avg_len_0106':'upd_avg_word_0106', \n",
    "    'cmt_crt_rate_0106':'replyRate_0106',\n",
    "    'cmt_avg_len_0106':'avgWord_0106', \n",
    "    'cmt_avg_rpt_l_0106':'avgTime_0106', \n",
    "    'cmt_email_rate_0106':'emailRate_0106', \n",
    "    'cmt_rbn_rate_0106':'nameRate_0106',\n",
    "    'upd_count_0712':'updates_0712', \n",
    "    'upd_avg_len_0712':'upd_avg_word_0712', \n",
    "    'cmt_crt_rate_0712':'replyRate_0712', \n",
    "    'cmt_avg_len_0712':'avgWord_0712',\n",
    "    'cmt_avg_rpt_l_0712':'avgTime_0712', \n",
    "    'cmt_email_rate_0712':'emailRate_0712', \n",
    "    'cmt_rbn_rate_0712':'nameRate_0712',\n",
    "    'neg_all_rate':'complaintRate'})"
   ]
  },
  {
   "cell_type": "code",
   "execution_count": 208,
   "metadata": {},
   "outputs": [],
   "source": [
    "# re-defined the 'novice'\n",
    "# if the creator had created a project: 0\n",
    "# if the creator had never created a project: 1/days since the creator joined KS\n",
    "dataset.novice = dataset.novice/dataset.joinDays"
   ]
  },
  {
   "cell_type": "markdown",
   "metadata": {},
   "source": [
    "# Null Value"
   ]
  },
  {
   "cell_type": "code",
   "execution_count": 211,
   "metadata": {
    "scrolled": true
   },
   "outputs": [
    {
     "name": "stdout",
     "output_type": "stream",
     "text": [
      "updates_BEDD\n",
      "upd_avg_word_BEDD\n",
      "upd_avg_image_BEDD\n",
      "upd_avg_video_BEDD\n",
      "replyRate_BEDD\n",
      "avgWord_BEDD\n",
      "avgTime_BEDD\n",
      "emailRate_BEDD\n",
      "nameRate_BEDD\n",
      "updates_AEDD\n",
      "upd_avg_word_AEDD\n",
      "upd_avg_image_AEDD\n",
      "upd_avg_video_AEDD\n",
      "replyRate_AEDD\n",
      "avgWord_AEDD\n",
      "avgTime_AEDD\n",
      "emailRate_AEDD\n",
      "nameRate_AEDD\n",
      "updates_0106\n",
      "upd_avg_word_0106\n",
      "upd_avg_image_0106\n",
      "upd_avg_video_0106\n",
      "replyRate_0106\n",
      "avgWord_0106\n",
      "avgTime_0106\n",
      "emailRate_0106\n",
      "nameRate_0106\n",
      "updates_0712\n",
      "upd_avg_word_0712\n",
      "upd_avg_image_0712\n",
      "upd_avg_video_0712\n",
      "replyRate_0712\n",
      "avgWord_0712\n",
      "avgTime_0712\n",
      "emailRate_0712\n",
      "nameRate_0712\n",
      "neg_1_rate\n",
      "neg_2_rate\n",
      "neg_3_rate\n",
      "neg_2_3_rate\n",
      "complaintRate\n"
     ]
    }
   ],
   "source": [
    "count = 0\n",
    "for i in dataset.columns.values.tolist():\n",
    "    while dataset[i].isnull().values.any(): count+=1;print(i); break"
   ]
  },
  {
   "cell_type": "code",
   "execution_count": 212,
   "metadata": {},
   "outputs": [],
   "source": [
    "fill_0 = [\n",
    "'updates_BEDD',\n",
    "'updates_AEDD',\n",
    "'updates_0106',\n",
    "'updates_0712',\n",
    "'neg_1_rate','neg_2_rate','neg_3_rate', 'neg_2_3_rate', 'complaintRate'\n",
    "]\n",
    "\n",
    "fill_mean = [\n",
    "    'replyRate_BEDD','replyRate_AEDD','replyRate_0106','replyRate_0712',\n",
    "    \n",
    "    'upd_avg_word_BEDD','upd_avg_image_BEDD','upd_avg_video_BEDD',\n",
    "    'avgWord_BEDD','avgTime_BEDD','emailRate_BEDD','nameRate_BEDD',\n",
    "    \n",
    "    'upd_avg_word_AEDD','upd_avg_image_AEDD','upd_avg_video_AEDD',\n",
    "    'avgWord_AEDD','avgTime_AEDD','emailRate_AEDD','nameRate_AEDD',\n",
    "    \n",
    "    'upd_avg_word_0106','upd_avg_image_0106','upd_avg_video_0106',\n",
    "    'avgWord_0106','avgTime_0106','emailRate_0106','nameRate_0106',\n",
    "    \n",
    "    'upd_avg_word_0712','upd_avg_image_0712','upd_avg_video_0712',\n",
    "    'avgWord_0712','avgTime_0712','emailRate_0712','nameRate_0712']"
   ]
  },
  {
   "cell_type": "code",
   "execution_count": 213,
   "metadata": {},
   "outputs": [],
   "source": [
    "dataSet_fill0 = dataset.copy()\n",
    "for i in fill_0:\n",
    "    dataSet_fill0[i] = dataSet_fill0[i].fillna(0)"
   ]
  },
  {
   "cell_type": "code",
   "execution_count": 214,
   "metadata": {},
   "outputs": [],
   "source": [
    "dataSet_fillMean = dataSet_fill0.copy()\n",
    "for i in fill_mean:\n",
    "    dataSet_fillMean[i] = dataSet_fillMean[i].fillna(dataSet_fillMean[i].mean())"
   ]
  },
  {
   "cell_type": "code",
   "execution_count": 215,
   "metadata": {},
   "outputs": [],
   "source": [
    "count = 0\n",
    "for i in dataSet_fillMean.columns.values.tolist():\n",
    "    while dataSet_fillMean[i].isnull().values.any(): count+=1;print(i); break"
   ]
  },
  {
   "cell_type": "code",
   "execution_count": 216,
   "metadata": {},
   "outputs": [
    {
     "data": {
      "text/html": [
       "<div>\n",
       "<style>\n",
       "    .dataframe thead tr:only-child th {\n",
       "        text-align: right;\n",
       "    }\n",
       "\n",
       "    .dataframe thead th {\n",
       "        text-align: left;\n",
       "    }\n",
       "\n",
       "    .dataframe tbody tr th {\n",
       "        vertical-align: top;\n",
       "    }\n",
       "</style>\n",
       "<table border=\"1\" class=\"dataframe\">\n",
       "  <thead>\n",
       "    <tr style=\"text-align: right;\">\n",
       "      <th></th>\n",
       "      <th>pid</th>\n",
       "      <th>proj_start_date</th>\n",
       "      <th>proj_end_date</th>\n",
       "      <th>waiting_days</th>\n",
       "      <th>proj_category</th>\n",
       "      <th>proj_subcategory</th>\n",
       "      <th>proj_url</th>\n",
       "      <th>percentRaised</th>\n",
       "      <th>projectDuration</th>\n",
       "      <th>backers</th>\n",
       "      <th>...</th>\n",
       "      <th>avgWord_0712</th>\n",
       "      <th>avgTime_0712</th>\n",
       "      <th>emailRate_0712</th>\n",
       "      <th>nameRate_0712</th>\n",
       "      <th>neg_1_rate</th>\n",
       "      <th>neg_2_rate</th>\n",
       "      <th>neg_3_rate</th>\n",
       "      <th>neg_2_3_rate</th>\n",
       "      <th>complaintRate</th>\n",
       "      <th>severity</th>\n",
       "    </tr>\n",
       "  </thead>\n",
       "  <tbody>\n",
       "    <tr>\n",
       "      <th>0</th>\n",
       "      <td>156564766</td>\n",
       "      <td>2016-02-10 09:57:01</td>\n",
       "      <td>2016-03-11 09:57:01</td>\n",
       "      <td>21</td>\n",
       "      <td>design</td>\n",
       "      <td>Product Design</td>\n",
       "      <td>https://www.kickstarter.com/projects/541540245...</td>\n",
       "      <td>1.035771</td>\n",
       "      <td>30</td>\n",
       "      <td>508.0</td>\n",
       "      <td>...</td>\n",
       "      <td>40.600000</td>\n",
       "      <td>1.186699</td>\n",
       "      <td>0.000000</td>\n",
       "      <td>0.800000</td>\n",
       "      <td>0.240000</td>\n",
       "      <td>0.130000</td>\n",
       "      <td>0.030000</td>\n",
       "      <td>0.150000</td>\n",
       "      <td>0.370000</td>\n",
       "      <td>0</td>\n",
       "    </tr>\n",
       "    <tr>\n",
       "      <th>1</th>\n",
       "      <td>52884144</td>\n",
       "      <td>2015-12-07 15:17:35</td>\n",
       "      <td>2016-01-19 15:17:35</td>\n",
       "      <td>73</td>\n",
       "      <td>design</td>\n",
       "      <td>Product Design</td>\n",
       "      <td>https://www.kickstarter.com/projects/123777977...</td>\n",
       "      <td>11.327083</td>\n",
       "      <td>43</td>\n",
       "      <td>674.0</td>\n",
       "      <td>...</td>\n",
       "      <td>25.000000</td>\n",
       "      <td>3.236111</td>\n",
       "      <td>0.000000</td>\n",
       "      <td>1.000000</td>\n",
       "      <td>0.150327</td>\n",
       "      <td>0.137255</td>\n",
       "      <td>0.000000</td>\n",
       "      <td>0.137255</td>\n",
       "      <td>0.267974</td>\n",
       "      <td>1</td>\n",
       "    </tr>\n",
       "    <tr>\n",
       "      <th>2</th>\n",
       "      <td>1770840100</td>\n",
       "      <td>2016-01-16 16:37:37</td>\n",
       "      <td>2016-03-01 16:37:37</td>\n",
       "      <td>31</td>\n",
       "      <td>design</td>\n",
       "      <td>Product Design</td>\n",
       "      <td>https://www.kickstarter.com/projects/optiscoop...</td>\n",
       "      <td>1.089200</td>\n",
       "      <td>45</td>\n",
       "      <td>228.0</td>\n",
       "      <td>...</td>\n",
       "      <td>30.325107</td>\n",
       "      <td>3.776239</td>\n",
       "      <td>0.103495</td>\n",
       "      <td>0.723373</td>\n",
       "      <td>0.454545</td>\n",
       "      <td>0.090909</td>\n",
       "      <td>0.000000</td>\n",
       "      <td>0.090909</td>\n",
       "      <td>0.545455</td>\n",
       "      <td>0</td>\n",
       "    </tr>\n",
       "    <tr>\n",
       "      <th>3</th>\n",
       "      <td>1907099186</td>\n",
       "      <td>2016-01-05 21:00:53</td>\n",
       "      <td>2016-02-19 21:00:53</td>\n",
       "      <td>11</td>\n",
       "      <td>technology</td>\n",
       "      <td>Hardware</td>\n",
       "      <td>https://www.kickstarter.com/projects/593018456...</td>\n",
       "      <td>3.530480</td>\n",
       "      <td>45</td>\n",
       "      <td>541.0</td>\n",
       "      <td>...</td>\n",
       "      <td>95.777778</td>\n",
       "      <td>0.207773</td>\n",
       "      <td>0.222222</td>\n",
       "      <td>0.555556</td>\n",
       "      <td>0.171515</td>\n",
       "      <td>0.125376</td>\n",
       "      <td>0.054664</td>\n",
       "      <td>0.166499</td>\n",
       "      <td>0.299900</td>\n",
       "      <td>1</td>\n",
       "    </tr>\n",
       "    <tr>\n",
       "      <th>4</th>\n",
       "      <td>215985998</td>\n",
       "      <td>2015-04-14 11:01:06</td>\n",
       "      <td>2015-05-15 01:00:00</td>\n",
       "      <td>231</td>\n",
       "      <td>games</td>\n",
       "      <td>Tabletop Games</td>\n",
       "      <td>https://www.kickstarter.com/projects/ruddygame...</td>\n",
       "      <td>2.239200</td>\n",
       "      <td>30</td>\n",
       "      <td>1049.0</td>\n",
       "      <td>...</td>\n",
       "      <td>30.325107</td>\n",
       "      <td>3.776239</td>\n",
       "      <td>0.103495</td>\n",
       "      <td>0.723373</td>\n",
       "      <td>0.053571</td>\n",
       "      <td>0.035714</td>\n",
       "      <td>0.000000</td>\n",
       "      <td>0.035714</td>\n",
       "      <td>0.089286</td>\n",
       "      <td>0</td>\n",
       "    </tr>\n",
       "  </tbody>\n",
       "</table>\n",
       "<p>5 rows × 62 columns</p>\n",
       "</div>"
      ],
      "text/plain": [
       "          pid     proj_start_date       proj_end_date  waiting_days  \\\n",
       "0   156564766 2016-02-10 09:57:01 2016-03-11 09:57:01            21   \n",
       "1    52884144 2015-12-07 15:17:35 2016-01-19 15:17:35            73   \n",
       "2  1770840100 2016-01-16 16:37:37 2016-03-01 16:37:37            31   \n",
       "3  1907099186 2016-01-05 21:00:53 2016-02-19 21:00:53            11   \n",
       "4   215985998 2015-04-14 11:01:06 2015-05-15 01:00:00           231   \n",
       "\n",
       "  proj_category proj_subcategory  \\\n",
       "0        design   Product Design   \n",
       "1        design   Product Design   \n",
       "2        design   Product Design   \n",
       "3    technology         Hardware   \n",
       "4         games   Tabletop Games   \n",
       "\n",
       "                                            proj_url  percentRaised  \\\n",
       "0  https://www.kickstarter.com/projects/541540245...       1.035771   \n",
       "1  https://www.kickstarter.com/projects/123777977...      11.327083   \n",
       "2  https://www.kickstarter.com/projects/optiscoop...       1.089200   \n",
       "3  https://www.kickstarter.com/projects/593018456...       3.530480   \n",
       "4  https://www.kickstarter.com/projects/ruddygame...       2.239200   \n",
       "\n",
       "   projectDuration  backers    ...     avgWord_0712  avgTime_0712  \\\n",
       "0               30    508.0    ...        40.600000      1.186699   \n",
       "1               43    674.0    ...        25.000000      3.236111   \n",
       "2               45    228.0    ...        30.325107      3.776239   \n",
       "3               45    541.0    ...        95.777778      0.207773   \n",
       "4               30   1049.0    ...        30.325107      3.776239   \n",
       "\n",
       "   emailRate_0712  nameRate_0712  neg_1_rate  neg_2_rate  neg_3_rate  \\\n",
       "0        0.000000       0.800000    0.240000    0.130000    0.030000   \n",
       "1        0.000000       1.000000    0.150327    0.137255    0.000000   \n",
       "2        0.103495       0.723373    0.454545    0.090909    0.000000   \n",
       "3        0.222222       0.555556    0.171515    0.125376    0.054664   \n",
       "4        0.103495       0.723373    0.053571    0.035714    0.000000   \n",
       "\n",
       "   neg_2_3_rate  complaintRate  severity  \n",
       "0      0.150000       0.370000         0  \n",
       "1      0.137255       0.267974         1  \n",
       "2      0.090909       0.545455         0  \n",
       "3      0.166499       0.299900         1  \n",
       "4      0.035714       0.089286         0  \n",
       "\n",
       "[5 rows x 62 columns]"
      ]
     },
     "execution_count": 216,
     "metadata": {},
     "output_type": "execute_result"
    }
   ],
   "source": [
    "dataSet_fillMean.head()"
   ]
  },
  {
   "cell_type": "code",
   "execution_count": 217,
   "metadata": {},
   "outputs": [],
   "source": [
    "save_db('dataset_0515', dataSet_fillMean)\n",
    "dataSet_fillMean.to_csv(directory + '/dataPrep/source/' + 'dataset_0515' + '.csv', encoding='utf-8-sig')"
   ]
  },
  {
   "cell_type": "code",
   "execution_count": 218,
   "metadata": {},
   "outputs": [],
   "source": [
    "dataSet_fillMean_neg = dataSet_fillMean[dataSet_fillMean.pid.isin(rmO_lm_b03_neg.pid)].copy()"
   ]
  },
  {
   "cell_type": "code",
   "execution_count": 219,
   "metadata": {},
   "outputs": [],
   "source": [
    "save_db('dataset_0515_neg', dataSet_fillMean_neg)\n",
    "dataSet_fillMean_neg.to_csv(directory + '/dataPrep/source/' + 'dataset_0515_neg' + '.csv', encoding='utf-8-sig')"
   ]
  },
  {
   "cell_type": "code",
   "execution_count": 220,
   "metadata": {},
   "outputs": [
    {
     "data": {
      "text/plain": [
       "762"
      ]
     },
     "execution_count": 220,
     "metadata": {},
     "output_type": "execute_result"
    }
   ],
   "source": [
    "len(dataSet_fillMean_neg)"
   ]
  },
  {
   "cell_type": "code",
   "execution_count": 221,
   "metadata": {},
   "outputs": [],
   "source": [
    "dataSet_fillMean_pos = dataSet_fillMean[~dataSet_fillMean.pid.isin(dataSet_fillMean_neg.pid)]"
   ]
  },
  {
   "cell_type": "code",
   "execution_count": 222,
   "metadata": {},
   "outputs": [
    {
     "data": {
      "text/plain": [
       "1375"
      ]
     },
     "execution_count": 222,
     "metadata": {},
     "output_type": "execute_result"
    }
   ],
   "source": [
    "len(dataSet_fillMean_pos)"
   ]
  },
  {
   "cell_type": "code",
   "execution_count": 223,
   "metadata": {},
   "outputs": [],
   "source": [
    "save_db('dataset_0515_pos', dataSet_fillMean_pos)\n",
    "dataSet_fillMean_pos.to_csv(directory + '/dataPrep/source/' + 'dataset_0515_pos' + '.csv', encoding='utf-8-sig')"
   ]
  },
  {
   "cell_type": "code",
   "execution_count": null,
   "metadata": {},
   "outputs": [],
   "source": [
    ""
   ]
  },
  {
   "cell_type": "code",
   "execution_count": null,
   "metadata": {},
   "outputs": [],
   "source": [
    ""
   ]
  },
  {
   "cell_type": "code",
   "execution_count": null,
   "metadata": {},
   "outputs": [],
   "source": [
    ""
   ]
  }
 ],
 "metadata": {
  "kernelspec": {
   "display_name": "Python 3",
   "language": "python",
   "name": "python3"
  },
  "language_info": {
   "codemirror_mode": {
    "name": "ipython",
    "version": 3.0
   },
   "file_extension": ".py",
   "mimetype": "text/x-python",
   "name": "python",
   "nbconvert_exporter": "python",
   "pygments_lexer": "ipython3",
   "version": "3.6.1"
  }
 },
 "nbformat": 4,
 "nbformat_minor": 0
}