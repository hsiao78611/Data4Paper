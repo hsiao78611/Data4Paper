{
 "cells": [
  {
   "cell_type": "code",
   "execution_count": 77,
   "metadata": {},
   "outputs": [],
   "source": [
    "import pandas as pd\n",
    "import sqlite3\n",
    "import os\n",
    "import re"
   ]
  },
  {
   "cell_type": "code",
   "execution_count": 2,
   "metadata": {},
   "outputs": [],
   "source": [
    "directory = os.path.abspath(os.path.join(os.getcwd(), os.pardir))"
   ]
  },
  {
   "cell_type": "markdown",
   "metadata": {},
   "source": [
    "# Tools"
   ]
  },
  {
   "cell_type": "code",
   "execution_count": 113,
   "metadata": {},
   "outputs": [],
   "source": [
    "def save_db(db_name, df_name, *path):\n",
    "    if len(path) == 1:\n",
    "        conn_save = sqlite3.connect(directory + path[0] + db_name + '.db')\n",
    "    else:\n",
    "        conn_save = sqlite3.connect(directory + '/dataPrep/source/' + db_name + '.db')\n",
    "    df_name.to_sql(name=db_name, con=conn_save, if_exists='replace', index=False)"
   ]
  },
  {
   "cell_type": "code",
   "execution_count": 80,
   "metadata": {},
   "outputs": [],
   "source": [
    "def pid_count(df, *the_rest):\n",
    "    def _cal(df):\n",
    "        return len(df.drop_duplicates('pid'))\n",
    "    print(*list(map(_cal, [df]+list(the_rest))), sep=', ')"
   ]
  },
  {
   "cell_type": "code",
   "execution_count": 94,
   "metadata": {},
   "outputs": [],
   "source": [
    "def link(pid):\n",
    "    return print(all_date.loc[all_date.pid==str(pid)].proj_url[:1].item())"
   ]
  },
  {
   "cell_type": "code",
   "execution_count": 156,
   "metadata": {
    "scrolled": true
   },
   "outputs": [],
   "source": [
    "def describe_table(df):\n",
    "    table = df.groupby('proj_category').mean()[['proj_backer_count']].rename(\n",
    "    columns={'proj_backer_count': 'Mean'}).reset_index().merge(\n",
    "    df.groupby('proj_category').min()[['proj_backer_count']].rename(\n",
    "        columns={'proj_backer_count': 'Min'}).reset_index(), \n",
    "    on=['proj_category']).merge(\n",
    "    df.groupby('proj_category').quantile(.25)[['proj_backer_count']].rename(\n",
    "        columns={'proj_backer_count': 'Q1'}).reset_index(), \n",
    "    on=['proj_category']).merge(\n",
    "    df.groupby('proj_category').quantile(.5)[['proj_backer_count']].rename(\n",
    "        columns={'proj_backer_count': 'Q2'}).reset_index(), \n",
    "    on=['proj_category']).merge(\n",
    "    df.groupby('proj_category').quantile(.75)[['proj_backer_count']].rename(\n",
    "        columns={'proj_backer_count': 'Q3'}).reset_index(),\n",
    "    on=['proj_category']).merge(    \n",
    "    df.groupby('proj_category').max()[['proj_backer_count']].rename(\n",
    "        columns={'proj_backer_count': 'Max'}).reset_index(), \n",
    "    on=['proj_category']).merge(\n",
    "    df.groupby('proj_category').count()[['pid']].rename(\n",
    "        columns={'pid': 'Total'}).reset_index(), on=['proj_category'])\n",
    "    return table"
   ]
  },
  {
   "cell_type": "markdown",
   "metadata": {},
   "source": [
    "# Data"
   ]
  },
  {
   "cell_type": "markdown",
   "metadata": {},
   "source": [
    "##### produced order\n",
    "1. proj_urls\n",
    "2. date_fund, date_rew\n",
    "3. all_date, all_date_year\n",
    "4. proj, rew, faq, upd, cmt (ds_ind_26229)\n",
    "5. first_last_date, dates\n",
    "6. _all, _year, _pre (ds_ind_26229)\n",
    "7. cmt_rmO_lm_b03\n",
    "8. rmO_lm_b03, rmO_lm_b03_neg\n",
    "9. proj_factor, crt_exp, interact_faq_upd, interact_cmt"
   ]
  },
  {
   "cell_type": "code",
   "execution_count": 100,
   "metadata": {},
   "outputs": [
    {
     "name": "stdout",
     "output_type": "stream",
     "text": [
      "127433, 127366, 127433, 127433\n"
     ]
    }
   ],
   "source": [
    "pid_count(date_fund, date_rew, all_proj, all_date)"
   ]
  },
  {
   "cell_type": "markdown",
   "metadata": {},
   "source": [
    "## 1. & 2. Explore & Time-related"
   ]
  },
  {
   "cell_type": "code",
   "execution_count": 19,
   "metadata": {},
   "outputs": [],
   "source": [
    "\"\"\"\n",
    "127,440 projects funded projects before July 8 2017.\n",
    "Our dataset has 120,825 URLs crawled from the Explore page.\n",
    "Finally we have 127,433 URLs after merge with an external dataset provided by CrowdBerkeley.\n",
    "\"\"\"\n",
    "conn_proj_urls = sqlite3.connect(directory + '/dataPrep/source/overall/' + 'proj_urls.db')\n",
    "\n",
    "# time-related data ... funding& reward\n",
    "conn_date_fund = sqlite3.connect(directory + '/dataPrep/source/overall/' + 'date_fund.db')\n",
    "conn_date_rew = sqlite3.connect(directory + '/dataPrep/source/overall/' + 'date_rew.db')"
   ]
  },
  {
   "cell_type": "code",
   "execution_count": 20,
   "metadata": {},
   "outputs": [],
   "source": [
    "proj_urls = pd.read_sql_query('SELECT * FROM proj_urls', conn_proj_urls)\n",
    "date_fund = pd.read_sql_query('SELECT * FROM date_funding', conn_date_fund)\n",
    "date_rew = pd.read_sql_query('SELECT * FROM date_reward', conn_date_rew)"
   ]
  },
  {
   "cell_type": "code",
   "execution_count": 181,
   "metadata": {},
   "outputs": [
    {
     "name": "stdout",
     "output_type": "stream",
     "text": [
      "127433, 127433, 127366\n"
     ]
    }
   ],
   "source": [
    "pid_count(proj_urls, date_fund, date_rew)"
   ]
  },
  {
   "cell_type": "code",
   "execution_count": 75,
   "metadata": {},
   "outputs": [
    {
     "data": {
      "text/html": [
       "<div>\n",
       "<style>\n",
       "    .dataframe thead tr:only-child th {\n",
       "        text-align: right;\n",
       "    }\n",
       "\n",
       "    .dataframe thead th {\n",
       "        text-align: left;\n",
       "    }\n",
       "\n",
       "    .dataframe tbody tr th {\n",
       "        vertical-align: top;\n",
       "    }\n",
       "</style>\n",
       "<table border=\"1\" class=\"dataframe\">\n",
       "  <thead>\n",
       "    <tr style=\"text-align: right;\">\n",
       "      <th></th>\n",
       "      <th>pid</th>\n",
       "      <th>proj_end_date</th>\n",
       "      <th>proj_start_date</th>\n",
       "      <th>proj_url</th>\n",
       "      <th>category</th>\n",
       "      <th>subcategory</th>\n",
       "    </tr>\n",
       "  </thead>\n",
       "  <tbody>\n",
       "    <tr>\n",
       "      <th>0</th>\n",
       "      <td>841825846</td>\n",
       "      <td>2012-08-25</td>\n",
       "      <td>2012-07-26</td>\n",
       "      <td>https://www.kickstarter.com/projects/834182258...</td>\n",
       "      <td>food</td>\n",
       "      <td>Food</td>\n",
       "    </tr>\n",
       "  </tbody>\n",
       "</table>\n",
       "</div>"
      ],
      "text/plain": [
       "         pid proj_end_date proj_start_date  \\\n",
       "0  841825846    2012-08-25      2012-07-26   \n",
       "\n",
       "                                            proj_url category subcategory  \n",
       "0  https://www.kickstarter.com/projects/834182258...     food        Food  "
      ]
     },
     "execution_count": 75,
     "metadata": {},
     "output_type": "execute_result"
    }
   ],
   "source": [
    "# we had merged with funding dates and category.\n",
    "proj_urls.head(1)"
   ]
  },
  {
   "cell_type": "code",
   "execution_count": 27,
   "metadata": {},
   "outputs": [
    {
     "data": {
      "text/html": [
       "<div>\n",
       "<style>\n",
       "    .dataframe thead tr:only-child th {\n",
       "        text-align: right;\n",
       "    }\n",
       "\n",
       "    .dataframe thead th {\n",
       "        text-align: left;\n",
       "    }\n",
       "\n",
       "    .dataframe tbody tr th {\n",
       "        vertical-align: top;\n",
       "    }\n",
       "</style>\n",
       "<table border=\"1\" class=\"dataframe\">\n",
       "  <thead>\n",
       "    <tr style=\"text-align: right;\">\n",
       "      <th></th>\n",
       "      <th>pid</th>\n",
       "      <th>proj_end_date</th>\n",
       "      <th>proj_start_date</th>\n",
       "      <th>proj_url</th>\n",
       "    </tr>\n",
       "  </thead>\n",
       "  <tbody>\n",
       "    <tr>\n",
       "      <th>0</th>\n",
       "      <td>841825846</td>\n",
       "      <td>2012-08-25T15:35:39-04:00</td>\n",
       "      <td>2012-07-26T15:35:39-04:00</td>\n",
       "      <td>https://www.kickstarter.com/projects/834182258...</td>\n",
       "    </tr>\n",
       "  </tbody>\n",
       "</table>\n",
       "</div>"
      ],
      "text/plain": [
       "         pid              proj_end_date            proj_start_date  \\\n",
       "0  841825846  2012-08-25T15:35:39-04:00  2012-07-26T15:35:39-04:00   \n",
       "\n",
       "                                            proj_url  \n",
       "0  https://www.kickstarter.com/projects/834182258...  "
      ]
     },
     "execution_count": 27,
     "metadata": {},
     "output_type": "execute_result"
    }
   ],
   "source": [
    "date_fund.head(1)"
   ]
  },
  {
   "cell_type": "code",
   "execution_count": 82,
   "metadata": {},
   "outputs": [
    {
     "data": {
      "text/html": [
       "<div>\n",
       "<style>\n",
       "    .dataframe thead tr:only-child th {\n",
       "        text-align: right;\n",
       "    }\n",
       "\n",
       "    .dataframe thead th {\n",
       "        text-align: left;\n",
       "    }\n",
       "\n",
       "    .dataframe tbody tr th {\n",
       "        vertical-align: top;\n",
       "    }\n",
       "</style>\n",
       "<table border=\"1\" class=\"dataframe\">\n",
       "  <thead>\n",
       "    <tr style=\"text-align: right;\">\n",
       "      <th></th>\n",
       "      <th>pid</th>\n",
       "      <th>rew_amount_required</th>\n",
       "      <th>rew_backer_count</th>\n",
       "      <th>rew_backer_limit</th>\n",
       "      <th>rew_delivery</th>\n",
       "      <th>rew_id</th>\n",
       "    </tr>\n",
       "  </thead>\n",
       "  <tbody>\n",
       "    <tr>\n",
       "      <th>0</th>\n",
       "      <td>841825846</td>\n",
       "      <td>1.0</td>\n",
       "      <td>5.0</td>\n",
       "      <td>None</td>\n",
       "      <td>2012-10-01</td>\n",
       "      <td>0.0</td>\n",
       "    </tr>\n",
       "  </tbody>\n",
       "</table>\n",
       "</div>"
      ],
      "text/plain": [
       "         pid  rew_amount_required  rew_backer_count rew_backer_limit  \\\n",
       "0  841825846                  1.0               5.0             None   \n",
       "\n",
       "  rew_delivery  rew_id  \n",
       "0   2012-10-01     0.0  "
      ]
     },
     "execution_count": 82,
     "metadata": {},
     "output_type": "execute_result"
    }
   ],
   "source": [
    "date_rew.head(1)"
   ]
  },
  {
   "cell_type": "markdown",
   "metadata": {},
   "source": [
    "## 3. create a dataset contains all time-related data"
   ]
  },
  {
   "cell_type": "code",
   "execution_count": 87,
   "metadata": {},
   "outputs": [],
   "source": [
    "# Merge categories into 'date_rew' dataframe\n",
    "all_date = date_rew.merge(all_proj[['pid','proj_start_date','proj_end_date',\n",
    "                                    'category','subcategory','proj_url']], on=['pid'], how='outer').copy()\n",
    "# save_db('all_date', all_date)"
   ]
  },
  {
   "cell_type": "code",
   "execution_count": 133,
   "metadata": {},
   "outputs": [],
   "source": [
    "# conn_all_date = sqlite3.connect(directory + '/dataPrep/source/overall/' + 'all_date.db')\n",
    "# all_date = pd.read_sql_query(\"SELECT * FROM all_date\", conn_all_date)"
   ]
  },
  {
   "cell_type": "markdown",
   "metadata": {},
   "source": [
    "#### projects which deliver rewards within 2015-07 and 2016-06"
   ]
  },
  {
   "cell_type": "code",
   "execution_count": 102,
   "metadata": {},
   "outputs": [],
   "source": [
    "all_date_year = all_date[(all_date['rew_delivery'] > '2015-06-30') & \n",
    "                         (all_date['rew_delivery'] < '2016-07-01')].sort_values('category')\n",
    "# save_db('all_date_year', all_date_year)"
   ]
  },
  {
   "cell_type": "code",
   "execution_count": 104,
   "metadata": {},
   "outputs": [
    {
     "name": "stdout",
     "output_type": "stream",
     "text": [
      "26229\n"
     ]
    }
   ],
   "source": [
    "pid_count(all_date_year)"
   ]
  },
  {
   "cell_type": "code",
   "execution_count": 185,
   "metadata": {},
   "outputs": [
    {
     "data": {
      "text/html": [
       "<div>\n",
       "<style>\n",
       "    .dataframe thead tr:only-child th {\n",
       "        text-align: right;\n",
       "    }\n",
       "\n",
       "    .dataframe thead th {\n",
       "        text-align: left;\n",
       "    }\n",
       "\n",
       "    .dataframe tbody tr th {\n",
       "        vertical-align: top;\n",
       "    }\n",
       "</style>\n",
       "<table border=\"1\" class=\"dataframe\">\n",
       "  <thead>\n",
       "    <tr style=\"text-align: right;\">\n",
       "      <th></th>\n",
       "      <th>pid</th>\n",
       "      <th>rew_amount_required</th>\n",
       "      <th>rew_backer_count</th>\n",
       "      <th>rew_backer_limit</th>\n",
       "      <th>rew_delivery</th>\n",
       "      <th>rew_id</th>\n",
       "      <th>proj_start_date</th>\n",
       "      <th>proj_end_date</th>\n",
       "      <th>category</th>\n",
       "      <th>subcategory</th>\n",
       "      <th>proj_url</th>\n",
       "    </tr>\n",
       "  </thead>\n",
       "  <tbody>\n",
       "    <tr>\n",
       "      <th>292008</th>\n",
       "      <td>1446685548</td>\n",
       "      <td>2000.0</td>\n",
       "      <td>0.0</td>\n",
       "      <td>Limited</td>\n",
       "      <td>2015-12-01</td>\n",
       "      <td>10.0</td>\n",
       "      <td>2015-07-22</td>\n",
       "      <td>2015-08-31</td>\n",
       "      <td>art</td>\n",
       "      <td>Painting</td>\n",
       "      <td>https://www.kickstarter.com/projects/colleenbr...</td>\n",
       "    </tr>\n",
       "  </tbody>\n",
       "</table>\n",
       "</div>"
      ],
      "text/plain": [
       "               pid  rew_amount_required  rew_backer_count rew_backer_limit  \\\n",
       "292008  1446685548               2000.0               0.0          Limited   \n",
       "\n",
       "       rew_delivery  rew_id proj_start_date proj_end_date category  \\\n",
       "292008   2015-12-01    10.0      2015-07-22    2015-08-31      art   \n",
       "\n",
       "       subcategory                                           proj_url  \n",
       "292008    Painting  https://www.kickstarter.com/projects/colleenbr...  "
      ]
     },
     "execution_count": 185,
     "metadata": {},
     "output_type": "execute_result"
    }
   ],
   "source": [
    "all_date_year.head(1)"
   ]
  },
  {
   "cell_type": "code",
   "execution_count": 131,
   "metadata": {},
   "outputs": [],
   "source": [
    "# conn_all_date_year = sqlite3.connect(directory + '/dataPrep/source/overall/' + 'all_date_year.db')\n",
    "# all_date_year = pd.read_sql_query(\"SELECT * FROM all_date_year\", conn_all_date_year)"
   ]
  },
  {
   "cell_type": "markdown",
   "metadata": {},
   "source": [
    "## 4. Projects, Rewards, FAQs, Updates, and Comments"
   ]
  },
  {
   "cell_type": "code",
   "execution_count": 141,
   "metadata": {},
   "outputs": [],
   "source": [
    "# conn_proj = sqlite3.connect(directory + '/dataPrep/source/ds_ind_26229/' + 'proj.db')\n",
    "# proj = pd.read_sql_query(\"SELECT * FROM proj\", conn_proj)\n",
    "\n",
    "# conn_rew = sqlite3.connect(directory + '/dataPrep/source/ds_ind_26229/' + 'rew.db')\n",
    "# rew = pd.read_sql_query(\"SELECT * FROM rew\", conn_rew)\n",
    "\n",
    "# conn_faq = sqlite3.connect(directory + '/dataPrep/source/ds_ind_26229/' + 'faq.db')\n",
    "# faq = pd.read_sql_query(\"SELECT * FROM faq\", conn_faq)\n",
    "\n",
    "# conn_upd = sqlite3.connect(directory + '/dataPrep/source/ds_ind_26229/' + 'upd.db')\n",
    "# upd = pd.read_sql_query(\"SELECT * FROM upd\", conn_upd)\n",
    "\n",
    "# conn_cmt = sqlite3.connect(directory + '/dataPrep/source/ds_ind_26229/' + 'cmt.db')\n",
    "# cmt = pd.read_sql_query(\"SELECT * FROM cmt\", conn_cmt)"
   ]
  },
  {
   "cell_type": "code",
   "execution_count": 159,
   "metadata": {},
   "outputs": [
    {
     "data": {
      "text/html": [
       "<div>\n",
       "<style>\n",
       "    .dataframe thead tr:only-child th {\n",
       "        text-align: right;\n",
       "    }\n",
       "\n",
       "    .dataframe thead th {\n",
       "        text-align: left;\n",
       "    }\n",
       "\n",
       "    .dataframe tbody tr th {\n",
       "        vertical-align: top;\n",
       "    }\n",
       "</style>\n",
       "<table border=\"1\" class=\"dataframe\">\n",
       "  <thead>\n",
       "    <tr style=\"text-align: right;\">\n",
       "      <th></th>\n",
       "      <th>proj_category</th>\n",
       "      <th>Mean</th>\n",
       "      <th>Min</th>\n",
       "      <th>Q1</th>\n",
       "      <th>Q2</th>\n",
       "      <th>Q3</th>\n",
       "      <th>Max</th>\n",
       "      <th>Total</th>\n",
       "    </tr>\n",
       "  </thead>\n",
       "  <tbody>\n",
       "    <tr>\n",
       "      <th>0</th>\n",
       "      <td>art</td>\n",
       "      <td>106.030194</td>\n",
       "      <td>1.0</td>\n",
       "      <td>22.00</td>\n",
       "      <td>45.0</td>\n",
       "      <td>98.00</td>\n",
       "      <td>7663.0</td>\n",
       "      <td>1954</td>\n",
       "    </tr>\n",
       "    <tr>\n",
       "      <th>1</th>\n",
       "      <td>comics</td>\n",
       "      <td>230.397093</td>\n",
       "      <td>1.0</td>\n",
       "      <td>47.00</td>\n",
       "      <td>98.0</td>\n",
       "      <td>215.00</td>\n",
       "      <td>7119.0</td>\n",
       "      <td>1307</td>\n",
       "    </tr>\n",
       "    <tr>\n",
       "      <th>2</th>\n",
       "      <td>crafts</td>\n",
       "      <td>91.062837</td>\n",
       "      <td>1.0</td>\n",
       "      <td>17.00</td>\n",
       "      <td>38.0</td>\n",
       "      <td>93.00</td>\n",
       "      <td>1203.0</td>\n",
       "      <td>557</td>\n",
       "    </tr>\n",
       "    <tr>\n",
       "      <th>3</th>\n",
       "      <td>dance</td>\n",
       "      <td>70.880223</td>\n",
       "      <td>1.0</td>\n",
       "      <td>28.00</td>\n",
       "      <td>48.0</td>\n",
       "      <td>85.00</td>\n",
       "      <td>863.0</td>\n",
       "      <td>359</td>\n",
       "    </tr>\n",
       "    <tr>\n",
       "      <th>4</th>\n",
       "      <td>design</td>\n",
       "      <td>631.510239</td>\n",
       "      <td>1.0</td>\n",
       "      <td>65.00</td>\n",
       "      <td>163.0</td>\n",
       "      <td>455.75</td>\n",
       "      <td>78471.0</td>\n",
       "      <td>2344</td>\n",
       "    </tr>\n",
       "    <tr>\n",
       "      <th>5</th>\n",
       "      <td>fashion</td>\n",
       "      <td>240.359836</td>\n",
       "      <td>1.0</td>\n",
       "      <td>38.00</td>\n",
       "      <td>89.0</td>\n",
       "      <td>191.00</td>\n",
       "      <td>13642.0</td>\n",
       "      <td>1220</td>\n",
       "    </tr>\n",
       "    <tr>\n",
       "      <th>6</th>\n",
       "      <td>film &amp; video</td>\n",
       "      <td>209.717241</td>\n",
       "      <td>1.0</td>\n",
       "      <td>27.00</td>\n",
       "      <td>66.0</td>\n",
       "      <td>163.00</td>\n",
       "      <td>48270.0</td>\n",
       "      <td>4205</td>\n",
       "    </tr>\n",
       "    <tr>\n",
       "      <th>7</th>\n",
       "      <td>food</td>\n",
       "      <td>222.149442</td>\n",
       "      <td>1.0</td>\n",
       "      <td>45.00</td>\n",
       "      <td>103.0</td>\n",
       "      <td>200.00</td>\n",
       "      <td>13116.0</td>\n",
       "      <td>1345</td>\n",
       "    </tr>\n",
       "    <tr>\n",
       "      <th>8</th>\n",
       "      <td>games</td>\n",
       "      <td>846.469849</td>\n",
       "      <td>1.0</td>\n",
       "      <td>84.00</td>\n",
       "      <td>227.5</td>\n",
       "      <td>635.00</td>\n",
       "      <td>219382.0</td>\n",
       "      <td>2786</td>\n",
       "    </tr>\n",
       "    <tr>\n",
       "      <th>9</th>\n",
       "      <td>journalism</td>\n",
       "      <td>157.563433</td>\n",
       "      <td>1.0</td>\n",
       "      <td>27.75</td>\n",
       "      <td>66.0</td>\n",
       "      <td>185.75</td>\n",
       "      <td>1951.0</td>\n",
       "      <td>268</td>\n",
       "    </tr>\n",
       "    <tr>\n",
       "      <th>10</th>\n",
       "      <td>music</td>\n",
       "      <td>112.646185</td>\n",
       "      <td>1.0</td>\n",
       "      <td>34.00</td>\n",
       "      <td>65.0</td>\n",
       "      <td>115.00</td>\n",
       "      <td>11169.0</td>\n",
       "      <td>3971</td>\n",
       "    </tr>\n",
       "    <tr>\n",
       "      <th>11</th>\n",
       "      <td>photography</td>\n",
       "      <td>131.010802</td>\n",
       "      <td>1.0</td>\n",
       "      <td>26.00</td>\n",
       "      <td>64.5</td>\n",
       "      <td>146.50</td>\n",
       "      <td>3536.0</td>\n",
       "      <td>648</td>\n",
       "    </tr>\n",
       "    <tr>\n",
       "      <th>12</th>\n",
       "      <td>publishing</td>\n",
       "      <td>174.310704</td>\n",
       "      <td>1.0</td>\n",
       "      <td>33.00</td>\n",
       "      <td>71.0</td>\n",
       "      <td>158.00</td>\n",
       "      <td>13454.0</td>\n",
       "      <td>2401</td>\n",
       "    </tr>\n",
       "    <tr>\n",
       "      <th>13</th>\n",
       "      <td>technology</td>\n",
       "      <td>781.116494</td>\n",
       "      <td>1.0</td>\n",
       "      <td>60.00</td>\n",
       "      <td>188.0</td>\n",
       "      <td>590.00</td>\n",
       "      <td>105857.0</td>\n",
       "      <td>1837</td>\n",
       "    </tr>\n",
       "    <tr>\n",
       "      <th>14</th>\n",
       "      <td>theater</td>\n",
       "      <td>75.913340</td>\n",
       "      <td>1.0</td>\n",
       "      <td>23.00</td>\n",
       "      <td>44.0</td>\n",
       "      <td>81.00</td>\n",
       "      <td>3722.0</td>\n",
       "      <td>1027</td>\n",
       "    </tr>\n",
       "  </tbody>\n",
       "</table>\n",
       "</div>"
      ],
      "text/plain": [
       "   proj_category        Mean  Min     Q1     Q2      Q3       Max  Total\n",
       "0            art  106.030194  1.0  22.00   45.0   98.00    7663.0   1954\n",
       "1         comics  230.397093  1.0  47.00   98.0  215.00    7119.0   1307\n",
       "2         crafts   91.062837  1.0  17.00   38.0   93.00    1203.0    557\n",
       "3          dance   70.880223  1.0  28.00   48.0   85.00     863.0    359\n",
       "4         design  631.510239  1.0  65.00  163.0  455.75   78471.0   2344\n",
       "5        fashion  240.359836  1.0  38.00   89.0  191.00   13642.0   1220\n",
       "6   film & video  209.717241  1.0  27.00   66.0  163.00   48270.0   4205\n",
       "7           food  222.149442  1.0  45.00  103.0  200.00   13116.0   1345\n",
       "8          games  846.469849  1.0  84.00  227.5  635.00  219382.0   2786\n",
       "9     journalism  157.563433  1.0  27.75   66.0  185.75    1951.0    268\n",
       "10         music  112.646185  1.0  34.00   65.0  115.00   11169.0   3971\n",
       "11   photography  131.010802  1.0  26.00   64.5  146.50    3536.0    648\n",
       "12    publishing  174.310704  1.0  33.00   71.0  158.00   13454.0   2401\n",
       "13    technology  781.116494  1.0  60.00  188.0  590.00  105857.0   1837\n",
       "14       theater   75.913340  1.0  23.00   44.0   81.00    3722.0   1027"
      ]
     },
     "execution_count": 159,
     "metadata": {},
     "output_type": "execute_result"
    }
   ],
   "source": [
    "describe_table(proj)"
   ]
  },
  {
   "cell_type": "markdown",
   "metadata": {},
   "source": [
    "# 5. the last delivery day and the day after one year"
   ]
  },
  {
   "cell_type": "code",
   "execution_count": 108,
   "metadata": {},
   "outputs": [],
   "source": [
    "from dateutil.relativedelta import relativedelta\n",
    "\n",
    "# 2015-07-01 to 2016-06-31\n",
    "first_day = datetime.datetime.strptime('2015-07-01', \"%Y-%m-%d\")\n",
    "last_day = datetime.datetime.strptime('2016-06-30', \"%Y-%m-%d\")\n",
    "\n",
    "# choose the last EDD\n",
    "rew['rew_delivery'] = rew['rew_delivery'].apply(\n",
    "    lambda str_date: datetime.datetime.strptime(str_date, \"%Y-%m-%d\"))\n",
    "rew_in_year = rew[(rew.rew_delivery >= first_day) & (rew.rew_delivery <= last_day)]\n",
    "rew_in_year = rew_in_year.sort_values('rew_delivery')\n",
    "\n",
    "# we choose the last delivery date of each project \n",
    "first_last_date = rew_in_year.drop_duplicates('pid', keep='last') \n",
    "\n",
    "# set the date after the last EDD\n",
    "first_last_date = first_last_date[['pid', 'rew_delivery']].copy()\n",
    "first_last_date = first_last_date.rename(index=str, columns={'rew_delivery':'first_date'})\n",
    "\n",
    "one_year = relativedelta(months=12)\n",
    "first_last_date['last_date'] = first_last_date.first_date.apply(lambda ori_date: ori_date + one_year)\n",
    "\n",
    "# save_db('first_last_date', first_last_date)"
   ]
  },
  {
   "cell_type": "code",
   "execution_count": 132,
   "metadata": {},
   "outputs": [],
   "source": [
    "# conn_first_last_date = sqlite3.connect(directory + '/dataPrep/source/overall/' + 'first_last_date.db')\n",
    "# first_last_date = pd.read_sql_query(\"SELECT * FROM first_last_date\", conn_first_last_date)"
   ]
  },
  {
   "cell_type": "code",
   "execution_count": 203,
   "metadata": {},
   "outputs": [
    {
     "data": {
      "text/html": [
       "<div>\n",
       "<style>\n",
       "    .dataframe thead tr:only-child th {\n",
       "        text-align: right;\n",
       "    }\n",
       "\n",
       "    .dataframe thead th {\n",
       "        text-align: left;\n",
       "    }\n",
       "\n",
       "    .dataframe tbody tr th {\n",
       "        vertical-align: top;\n",
       "    }\n",
       "</style>\n",
       "<table border=\"1\" class=\"dataframe\">\n",
       "  <thead>\n",
       "    <tr style=\"text-align: right;\">\n",
       "      <th></th>\n",
       "      <th>pid</th>\n",
       "      <th>first_date</th>\n",
       "      <th>last_date</th>\n",
       "    </tr>\n",
       "  </thead>\n",
       "  <tbody>\n",
       "    <tr>\n",
       "      <th>237546</th>\n",
       "      <td>855332797</td>\n",
       "      <td>2015-07-01</td>\n",
       "      <td>2016-07-01</td>\n",
       "    </tr>\n",
       "  </tbody>\n",
       "</table>\n",
       "</div>"
      ],
      "text/plain": [
       "              pid first_date  last_date\n",
       "237546  855332797 2015-07-01 2016-07-01"
      ]
     },
     "execution_count": 203,
     "metadata": {},
     "output_type": "execute_result"
    }
   ],
   "source": [
    "first_last_date.head(1)"
   ]
  },
  {
   "cell_type": "code",
   "execution_count": 201,
   "metadata": {},
   "outputs": [],
   "source": [
    "# processed in 5. Interaction in FAQs and Updates\n",
    "conn_dates = sqlite3.connect(directory + '/dataPrep/source/overall/' + 'dates.db')\n",
    "dates = pd.read_sql_query(\"SELECT * FROM dates\", conn_dates)"
   ]
  },
  {
   "cell_type": "code",
   "execution_count": 202,
   "metadata": {},
   "outputs": [
    {
     "data": {
      "text/html": [
       "<div>\n",
       "<style>\n",
       "    .dataframe thead tr:only-child th {\n",
       "        text-align: right;\n",
       "    }\n",
       "\n",
       "    .dataframe thead th {\n",
       "        text-align: left;\n",
       "    }\n",
       "\n",
       "    .dataframe tbody tr th {\n",
       "        vertical-align: top;\n",
       "    }\n",
       "</style>\n",
       "<table border=\"1\" class=\"dataframe\">\n",
       "  <thead>\n",
       "    <tr style=\"text-align: right;\">\n",
       "      <th></th>\n",
       "      <th>pid</th>\n",
       "      <th>proj_start_date</th>\n",
       "      <th>first_date</th>\n",
       "      <th>after_d_3</th>\n",
       "      <th>after_d_6</th>\n",
       "      <th>after_d_9</th>\n",
       "      <th>after_d_1</th>\n",
       "      <th>interval_0</th>\n",
       "      <th>interval_3</th>\n",
       "      <th>interval_6</th>\n",
       "      <th>interval_9</th>\n",
       "      <th>interval_1</th>\n",
       "      <th>interval</th>\n",
       "      <th>interval_0103</th>\n",
       "      <th>interval_0406</th>\n",
       "      <th>interval_0709</th>\n",
       "      <th>interval_1012</th>\n",
       "      <th>interval_0106</th>\n",
       "      <th>interval_0712</th>\n",
       "    </tr>\n",
       "  </thead>\n",
       "  <tbody>\n",
       "    <tr>\n",
       "      <th>0</th>\n",
       "      <td>1446685548</td>\n",
       "      <td>2015-07-22 00:00:00</td>\n",
       "      <td>2015-12-01 00:00:00</td>\n",
       "      <td>2016-03-01 00:00:00</td>\n",
       "      <td>2016-06-01 00:00:00</td>\n",
       "      <td>2016-09-01 00:00:00</td>\n",
       "      <td>2016-12-01 00:00:00</td>\n",
       "      <td>132.0</td>\n",
       "      <td>91.0</td>\n",
       "      <td>183.0</td>\n",
       "      <td>275.0</td>\n",
       "      <td>366.0</td>\n",
       "      <td>498.0</td>\n",
       "      <td>91.0</td>\n",
       "      <td>92.0</td>\n",
       "      <td>92.0</td>\n",
       "      <td>366.0</td>\n",
       "      <td>183.0</td>\n",
       "      <td>183.0</td>\n",
       "    </tr>\n",
       "  </tbody>\n",
       "</table>\n",
       "</div>"
      ],
      "text/plain": [
       "          pid      proj_start_date           first_date            after_d_3  \\\n",
       "0  1446685548  2015-07-22 00:00:00  2015-12-01 00:00:00  2016-03-01 00:00:00   \n",
       "\n",
       "             after_d_6            after_d_9            after_d_1  interval_0  \\\n",
       "0  2016-06-01 00:00:00  2016-09-01 00:00:00  2016-12-01 00:00:00       132.0   \n",
       "\n",
       "   interval_3  interval_6  interval_9  interval_1  interval  interval_0103  \\\n",
       "0        91.0       183.0       275.0       366.0     498.0           91.0   \n",
       "\n",
       "   interval_0406  interval_0709  interval_1012  interval_0106  interval_0712  \n",
       "0           92.0           92.0          366.0          183.0          183.0  "
      ]
     },
     "execution_count": 202,
     "metadata": {},
     "output_type": "execute_result"
    }
   ],
   "source": [
    "dates.head(1)"
   ]
  },
  {
   "cell_type": "code",
   "execution_count": 204,
   "metadata": {},
   "outputs": [
    {
     "data": {
      "text/plain": [
       "26229"
      ]
     },
     "execution_count": 204,
     "metadata": {},
     "output_type": "execute_result"
    }
   ],
   "source": [
    "len(dates)"
   ]
  },
  {
   "cell_type": "markdown",
   "metadata": {},
   "source": [
    "# 6. divide data into 'before the last EDD' and 'within a year after the day'"
   ]
  },
  {
   "cell_type": "code",
   "execution_count": 160,
   "metadata": {},
   "outputs": [],
   "source": [
    "# conn_cmt_all = sqlite3.connect(directory + '/dataPrep/source/ds_ind_26229/' + 'cmt_all.db')\n",
    "# conn_cmt_year = sqlite3.connect(directory + '/dataPrep/source/ds_ind_26229/' + 'cmt_year.db')\n",
    "# conn_cmt_pre = sqlite3.connect(directory + '/dataPrep/source/ds_ind_26229/' + 'cmt_pre.db')\n",
    "\n",
    "# cmt_all = pd.read_sql_query(\"SELECT * FROM cmt_all\", conn_cmt_all)\n",
    "# cmt_year = pd.read_sql_query(\"SELECT * FROM cmt_year\", conn_cmt_year)\n",
    "# cmt_pre = pd.read_sql_query(\"SELECT * FROM cmt_pre\", conn_cmt_pre)\n",
    "\n",
    "# conn_faq_all = sqlite3.connect(directory + '/dataPrep/source/ds_ind_26229/' + 'faq_all.db')\n",
    "# conn_faq_year = sqlite3.connect(directory + '/dataPrep/source/ds_ind_26229/' + 'faq_year.db')\n",
    "# conn_faq_pre = sqlite3.connect(directory + '/dataPrep/source/ds_ind_26229/' + 'faq_pre.db')\n",
    "\n",
    "# faq_all = pd.read_sql_query(\"SELECT * FROM faq_all\", conn_faq_all)\n",
    "# faq_year = pd.read_sql_query(\"SELECT * FROM faq_year\", conn_faq_year)\n",
    "# faq_pre = pd.read_sql_query(\"SELECT * FROM faq_pre\", conn_faq_pre)\n",
    "\n",
    "# conn_upd_all = sqlite3.connect(directory + '/dataPrep/source/ds_ind_26229/' + 'upd_all.db')\n",
    "# conn_upd_year = sqlite3.connect(directory + '/dataPrep/source/ds_ind_26229/' + 'upd_year.db')\n",
    "# conn_upd_pre = sqlite3.connect(directory + '/dataPrep/source/ds_ind_26229/' + 'upd_pre.db')\n",
    "\n",
    "# upd_all = pd.read_sql_query(\"SELECT * FROM upd_all\", conn_upd_all)\n",
    "# upd_year = pd.read_sql_query(\"SELECT * FROM upd_year\", conn_upd_year)\n",
    "# upd_pre = pd.read_sql_query(\"SELECT * FROM upd_pre\", conn_upd_pre)"
   ]
  },
  {
   "cell_type": "markdown",
   "metadata": {},
   "source": [
    "## Comments"
   ]
  },
  {
   "cell_type": "code",
   "execution_count": 112,
   "metadata": {},
   "outputs": [],
   "source": [
    "cmt.cmt_datetime = cmt.cmt_datetime.apply(lambda date: str(date))\n",
    "cmt.cmt_datetime = cmt.cmt_datetime.apply(lambda str_date: re.sub('\\\"', '',str_date))\n",
    "cmt.cmt_datetime = cmt.cmt_datetime.apply(lambda str_date: re.sub('-.[\\d]:.[\\d]$', '',str_date))\n",
    "cmt.cmt_datetime = cmt.cmt_datetime.apply(lambda str_date: re.sub('T', ' ',str_date))\n",
    "cmt.cmt_datetime = cmt.cmt_datetime.apply(\n",
    "    lambda str_date: datetime.datetime.strptime(str_date, \"%Y-%m-%d %H:%M:%S\"))\n",
    "\n",
    "cmt_and_f_l_date = cmt.merge(first_last_date[['pid','first_date', 'last_date']], on=['pid']).copy()"
   ]
  },
  {
   "cell_type": "code",
   "execution_count": 115,
   "metadata": {},
   "outputs": [],
   "source": [
    "# Keep only comments (cmt_all) 'before' one year after the first delivery date\n",
    "cmt_all = cmt_and_f_l_date[cmt_and_f_l_date.cmt_datetime < cmt_and_f_l_date.last_date].copy()\n",
    "cmt_all = cmt_all[cmt_and_f_l_date.columns.values.tolist()[:-2]]\n",
    "\n",
    "# Keep only comments (cmt_year) 'within' the last delivery date and one year after the last delivery date\n",
    "cmt_year = cmt_and_f_l_date[(cmt_and_f_l_date.cmt_datetime >= cmt_and_f_l_date.first_date) & \n",
    "                      (cmt_and_f_l_date.cmt_datetime < cmt_and_f_l_date.last_date)].copy()\n",
    "cmt_year = cmt_year[cmt_and_f_l_date.columns.values.tolist()[:-2]]\n",
    "\n",
    "# Keep only comments (cmt_pre) 'before' the last delivery date\n",
    "cmt_pre = cmt_and_f_l_date[cmt_and_f_l_date.cmt_datetime < cmt_and_f_l_date.first_date].copy()\n",
    "cmt_pre = cmt_pre[cmt_and_f_l_date.columns.values.tolist()[:-2]]"
   ]
  },
  {
   "cell_type": "markdown",
   "metadata": {},
   "source": [
    "## FAQs"
   ]
  },
  {
   "cell_type": "code",
   "execution_count": 118,
   "metadata": {},
   "outputs": [],
   "source": [
    "faq.faq_date = faq.faq_date.apply(lambda str_date: re.sub('\\\"', '',str_date))\n",
    "faq.faq_date = faq.faq_date.apply(lambda str_date: re.sub('-.[\\d]:.[\\d]$', '',str_date))\n",
    "faq.faq_date = faq.faq_date.apply(lambda str_date: datetime.datetime.strptime(str_date, \"%Y-%m-%dT%H:%M:%S\"))\n",
    "\n",
    "faq.pid = faq.pid.apply(lambda f_pid: str(int(f_pid)))\n",
    "faq_and_f_l_date = faq.merge(first_last_date[['pid', 'first_date', 'last_date']], on=['pid']).copy()\n",
    "\n",
    "faq_all = faq_and_f_l_date[faq_and_f_l_date.faq_date < faq_and_f_l_date.last_date].copy()\n",
    "faq_all = faq_all[faq_and_f_l_date.columns.values.tolist()[:-2]]\n",
    "\n",
    "faq_year = faq_and_f_l_date[(faq_and_f_l_date.faq_date >= faq_and_f_l_date.first_date) & \n",
    "                            (faq_and_f_l_date.faq_date < faq_and_f_l_date.last_date)].copy()\n",
    "faq_year = faq_year[faq_and_f_l_date.columns.values.tolist()[:-2]]\n",
    "\n",
    "faq_pre = faq_and_f_l_date[faq_and_f_l_date.faq_date < faq_and_f_l_date.first_date].copy()\n",
    "faq_pre = faq_pre[faq_and_f_l_date.columns.values.tolist()[:-2]]"
   ]
  },
  {
   "cell_type": "markdown",
   "metadata": {},
   "source": [
    "## Updates"
   ]
  },
  {
   "cell_type": "code",
   "execution_count": 122,
   "metadata": {},
   "outputs": [],
   "source": [
    "upd.upd_date = upd.upd_date.apply(lambda str_date: re.sub('\\\"', '',str_date))\n",
    "upd.upd_date = upd.upd_date.apply(lambda str_date: re.sub('-.[\\d]:.[\\d]$', '',str_date))\n",
    "upd.upd_date = upd.upd_date.apply(lambda str_date: datetime.datetime.strptime(str_date, \"%Y-%m-%dT%H:%M:%S\"))\n",
    "\n",
    "upd.pid = upd.pid.apply(lambda f_pid: str(int(f_pid)))\n",
    "upd_and_f_l_date = upd.merge(first_last_date[['pid', 'first_date', 'last_date']], on=['pid']).copy()\n",
    "\n",
    "upd_all = upd_and_f_l_date[upd_and_f_l_date.upd_date < upd_and_f_l_date.last_date].copy()\n",
    "upd_all = upd_all[upd_and_f_l_date.columns.values.tolist()[:-2]]\n",
    "\n",
    "upd_year = upd_and_f_l_date[(upd_and_f_l_date.upd_date >= upd_and_f_l_date.first_date) & \n",
    "                            (upd_and_f_l_date.upd_date < upd_and_f_l_date.last_date)].copy()\n",
    "upd_year = upd_year[upd_and_f_l_date.columns.values.tolist()[:-2]]\n",
    "\n",
    "upd_pre = upd_and_f_l_date[upd_and_f_l_date.upd_date < upd_and_f_l_date.first_date].copy()\n",
    "upd_pre = upd_pre[upd_and_f_l_date.columns.values.tolist()[:-2]]"
   ]
  },
  {
   "cell_type": "markdown",
   "metadata": {},
   "source": [
    "# 7. Eliminate Outliers and Inadequate Data\n",
    "\n",
    "> processed in 2. Descriptive Statistics in Different Date Range"
   ]
  },
  {
   "cell_type": "code",
   "execution_count": 134,
   "metadata": {},
   "outputs": [],
   "source": [
    "conn_cmt_rmO_lm_b03 = sqlite3.connect(directory + '/dataPrep/source/overall/' + 'cmt_rmO_lm_b03.db')\n",
    "cmt_rmO_lm_b03 = pd.read_sql_query(\"SELECT * FROM cmt_rmO_lm_b03\", conn_cmt_rmO_lm_b03)"
   ]
  },
  {
   "cell_type": "code",
   "execution_count": 135,
   "metadata": {},
   "outputs": [
    {
     "data": {
      "text/plain": [
       "2137"
      ]
     },
     "execution_count": 135,
     "metadata": {},
     "output_type": "execute_result"
    }
   ],
   "source": [
    "len(cmt_rmO_lm_b03)"
   ]
  },
  {
   "cell_type": "code",
   "execution_count": 157,
   "metadata": {},
   "outputs": [
    {
     "data": {
      "text/html": [
       "<div>\n",
       "<style>\n",
       "    .dataframe thead tr:only-child th {\n",
       "        text-align: right;\n",
       "    }\n",
       "\n",
       "    .dataframe thead th {\n",
       "        text-align: left;\n",
       "    }\n",
       "\n",
       "    .dataframe tbody tr th {\n",
       "        vertical-align: top;\n",
       "    }\n",
       "</style>\n",
       "<table border=\"1\" class=\"dataframe\">\n",
       "  <thead>\n",
       "    <tr style=\"text-align: right;\">\n",
       "      <th></th>\n",
       "      <th>proj_category</th>\n",
       "      <th>Mean</th>\n",
       "      <th>Min</th>\n",
       "      <th>Q1</th>\n",
       "      <th>Q2</th>\n",
       "      <th>Q3</th>\n",
       "      <th>Max</th>\n",
       "      <th>Total</th>\n",
       "    </tr>\n",
       "  </thead>\n",
       "  <tbody>\n",
       "    <tr>\n",
       "      <th>0</th>\n",
       "      <td>art</td>\n",
       "      <td>106.117647</td>\n",
       "      <td>54.0</td>\n",
       "      <td>69.00</td>\n",
       "      <td>96.0</td>\n",
       "      <td>138.00</td>\n",
       "      <td>211.0</td>\n",
       "      <td>85</td>\n",
       "    </tr>\n",
       "    <tr>\n",
       "      <th>1</th>\n",
       "      <td>comics</td>\n",
       "      <td>235.163462</td>\n",
       "      <td>121.0</td>\n",
       "      <td>149.75</td>\n",
       "      <td>227.0</td>\n",
       "      <td>305.25</td>\n",
       "      <td>466.0</td>\n",
       "      <td>104</td>\n",
       "    </tr>\n",
       "    <tr>\n",
       "      <th>2</th>\n",
       "      <td>crafts</td>\n",
       "      <td>95.465517</td>\n",
       "      <td>50.0</td>\n",
       "      <td>61.00</td>\n",
       "      <td>80.5</td>\n",
       "      <td>131.00</td>\n",
       "      <td>202.0</td>\n",
       "      <td>58</td>\n",
       "    </tr>\n",
       "    <tr>\n",
       "      <th>3</th>\n",
       "      <td>dance</td>\n",
       "      <td>90.000000</td>\n",
       "      <td>64.0</td>\n",
       "      <td>77.00</td>\n",
       "      <td>90.0</td>\n",
       "      <td>103.00</td>\n",
       "      <td>116.0</td>\n",
       "      <td>2</td>\n",
       "    </tr>\n",
       "    <tr>\n",
       "      <th>4</th>\n",
       "      <td>design</td>\n",
       "      <td>477.584178</td>\n",
       "      <td>217.0</td>\n",
       "      <td>283.00</td>\n",
       "      <td>412.0</td>\n",
       "      <td>641.00</td>\n",
       "      <td>1041.0</td>\n",
       "      <td>493</td>\n",
       "    </tr>\n",
       "    <tr>\n",
       "      <th>5</th>\n",
       "      <td>fashion</td>\n",
       "      <td>204.061224</td>\n",
       "      <td>104.0</td>\n",
       "      <td>137.50</td>\n",
       "      <td>179.0</td>\n",
       "      <td>259.50</td>\n",
       "      <td>406.0</td>\n",
       "      <td>147</td>\n",
       "    </tr>\n",
       "    <tr>\n",
       "      <th>6</th>\n",
       "      <td>film%20&amp;%20video</td>\n",
       "      <td>198.596491</td>\n",
       "      <td>87.0</td>\n",
       "      <td>119.00</td>\n",
       "      <td>183.0</td>\n",
       "      <td>260.00</td>\n",
       "      <td>352.0</td>\n",
       "      <td>57</td>\n",
       "    </tr>\n",
       "    <tr>\n",
       "      <th>7</th>\n",
       "      <td>food</td>\n",
       "      <td>239.833333</td>\n",
       "      <td>122.0</td>\n",
       "      <td>156.00</td>\n",
       "      <td>212.5</td>\n",
       "      <td>324.25</td>\n",
       "      <td>406.0</td>\n",
       "      <td>48</td>\n",
       "    </tr>\n",
       "    <tr>\n",
       "      <th>8</th>\n",
       "      <td>games</td>\n",
       "      <td>670.891844</td>\n",
       "      <td>310.0</td>\n",
       "      <td>425.50</td>\n",
       "      <td>598.0</td>\n",
       "      <td>870.00</td>\n",
       "      <td>1457.0</td>\n",
       "      <td>564</td>\n",
       "    </tr>\n",
       "    <tr>\n",
       "      <th>9</th>\n",
       "      <td>journalism</td>\n",
       "      <td>228.333333</td>\n",
       "      <td>107.0</td>\n",
       "      <td>167.50</td>\n",
       "      <td>228.0</td>\n",
       "      <td>289.00</td>\n",
       "      <td>350.0</td>\n",
       "      <td>3</td>\n",
       "    </tr>\n",
       "    <tr>\n",
       "      <th>10</th>\n",
       "      <td>music</td>\n",
       "      <td>124.720000</td>\n",
       "      <td>73.0</td>\n",
       "      <td>89.50</td>\n",
       "      <td>117.5</td>\n",
       "      <td>137.75</td>\n",
       "      <td>236.0</td>\n",
       "      <td>50</td>\n",
       "    </tr>\n",
       "    <tr>\n",
       "      <th>11</th>\n",
       "      <td>photography</td>\n",
       "      <td>165.055556</td>\n",
       "      <td>89.0</td>\n",
       "      <td>112.00</td>\n",
       "      <td>135.5</td>\n",
       "      <td>204.00</td>\n",
       "      <td>285.0</td>\n",
       "      <td>18</td>\n",
       "    </tr>\n",
       "    <tr>\n",
       "      <th>12</th>\n",
       "      <td>publishing</td>\n",
       "      <td>193.524590</td>\n",
       "      <td>89.0</td>\n",
       "      <td>131.00</td>\n",
       "      <td>180.0</td>\n",
       "      <td>249.00</td>\n",
       "      <td>342.0</td>\n",
       "      <td>61</td>\n",
       "    </tr>\n",
       "    <tr>\n",
       "      <th>13</th>\n",
       "      <td>technology</td>\n",
       "      <td>644.480638</td>\n",
       "      <td>278.0</td>\n",
       "      <td>388.50</td>\n",
       "      <td>572.0</td>\n",
       "      <td>833.00</td>\n",
       "      <td>1382.0</td>\n",
       "      <td>439</td>\n",
       "    </tr>\n",
       "    <tr>\n",
       "      <th>14</th>\n",
       "      <td>theater</td>\n",
       "      <td>76.500000</td>\n",
       "      <td>52.0</td>\n",
       "      <td>59.75</td>\n",
       "      <td>65.0</td>\n",
       "      <td>81.25</td>\n",
       "      <td>138.0</td>\n",
       "      <td>8</td>\n",
       "    </tr>\n",
       "  </tbody>\n",
       "</table>\n",
       "</div>"
      ],
      "text/plain": [
       "       proj_category        Mean    Min      Q1     Q2      Q3     Max  Total\n",
       "0                art  106.117647   54.0   69.00   96.0  138.00   211.0     85\n",
       "1             comics  235.163462  121.0  149.75  227.0  305.25   466.0    104\n",
       "2             crafts   95.465517   50.0   61.00   80.5  131.00   202.0     58\n",
       "3              dance   90.000000   64.0   77.00   90.0  103.00   116.0      2\n",
       "4             design  477.584178  217.0  283.00  412.0  641.00  1041.0    493\n",
       "5            fashion  204.061224  104.0  137.50  179.0  259.50   406.0    147\n",
       "6   film%20&%20video  198.596491   87.0  119.00  183.0  260.00   352.0     57\n",
       "7               food  239.833333  122.0  156.00  212.5  324.25   406.0     48\n",
       "8              games  670.891844  310.0  425.50  598.0  870.00  1457.0    564\n",
       "9         journalism  228.333333  107.0  167.50  228.0  289.00   350.0      3\n",
       "10             music  124.720000   73.0   89.50  117.5  137.75   236.0     50\n",
       "11       photography  165.055556   89.0  112.00  135.5  204.00   285.0     18\n",
       "12        publishing  193.524590   89.0  131.00  180.0  249.00   342.0     61\n",
       "13        technology  644.480638  278.0  388.50  572.0  833.00  1382.0    439\n",
       "14           theater   76.500000   52.0   59.75   65.0   81.25   138.0      8"
      ]
     },
     "execution_count": 157,
     "metadata": {},
     "output_type": "execute_result"
    }
   ],
   "source": [
    "describe_table(cmt_rmO_lm_b03)"
   ]
  },
  {
   "cell_type": "markdown",
   "metadata": {},
   "source": [
    "# 8. Failed Projects\n",
    "> processed in 3. Failed Project"
   ]
  },
  {
   "cell_type": "code",
   "execution_count": 197,
   "metadata": {},
   "outputs": [],
   "source": [
    "conn_rmO_lm_b03 = sqlite3.connect(directory + '/dataPrep/source/constructs/' + 'rmO_lm_b03.db')\n",
    "rmO_lm_b03 = pd.read_sql_query(\"SELECT * FROM rmO_lm_b03\", conn_rmO_lm_b03)"
   ]
  },
  {
   "cell_type": "code",
   "execution_count": 199,
   "metadata": {},
   "outputs": [
    {
     "data": {
      "text/plain": [
       "2137"
      ]
     },
     "execution_count": 199,
     "metadata": {},
     "output_type": "execute_result"
    }
   ],
   "source": [
    "len(rmO_lm_b03)"
   ]
  },
  {
   "cell_type": "code",
   "execution_count": 153,
   "metadata": {},
   "outputs": [],
   "source": [
    "conn_rmO_lm_b03_neg = sqlite3.connect(directory + '/dataPrep/source/constructs/' + 'rmO_lm_b03_neg.db')\n",
    "rmO_lm_b03_neg = pd.read_sql_query(\"SELECT * FROM rmO_lm_b03_neg\", conn_rmO_lm_b03_neg)"
   ]
  },
  {
   "cell_type": "code",
   "execution_count": 155,
   "metadata": {},
   "outputs": [
    {
     "data": {
      "text/html": [
       "<div>\n",
       "<style>\n",
       "    .dataframe thead tr:only-child th {\n",
       "        text-align: right;\n",
       "    }\n",
       "\n",
       "    .dataframe thead th {\n",
       "        text-align: left;\n",
       "    }\n",
       "\n",
       "    .dataframe tbody tr th {\n",
       "        vertical-align: top;\n",
       "    }\n",
       "</style>\n",
       "<table border=\"1\" class=\"dataframe\">\n",
       "  <thead>\n",
       "    <tr style=\"text-align: right;\">\n",
       "      <th></th>\n",
       "      <th>proj_category</th>\n",
       "      <th>Mean</th>\n",
       "      <th>Min</th>\n",
       "      <th>Q1</th>\n",
       "      <th>Q2</th>\n",
       "      <th>Q3</th>\n",
       "      <th>Max</th>\n",
       "      <th>neg_rmO_lm_b03</th>\n",
       "    </tr>\n",
       "  </thead>\n",
       "  <tbody>\n",
       "    <tr>\n",
       "      <th>0</th>\n",
       "      <td>art</td>\n",
       "      <td>108.894737</td>\n",
       "      <td>61.0</td>\n",
       "      <td>79.00</td>\n",
       "      <td>97.0</td>\n",
       "      <td>131.00</td>\n",
       "      <td>191.0</td>\n",
       "      <td>19</td>\n",
       "    </tr>\n",
       "    <tr>\n",
       "      <th>1</th>\n",
       "      <td>comics</td>\n",
       "      <td>216.842105</td>\n",
       "      <td>126.0</td>\n",
       "      <td>138.00</td>\n",
       "      <td>177.0</td>\n",
       "      <td>258.00</td>\n",
       "      <td>466.0</td>\n",
       "      <td>19</td>\n",
       "    </tr>\n",
       "    <tr>\n",
       "      <th>2</th>\n",
       "      <td>crafts</td>\n",
       "      <td>105.375000</td>\n",
       "      <td>57.0</td>\n",
       "      <td>60.50</td>\n",
       "      <td>90.5</td>\n",
       "      <td>135.50</td>\n",
       "      <td>201.0</td>\n",
       "      <td>16</td>\n",
       "    </tr>\n",
       "    <tr>\n",
       "      <th>3</th>\n",
       "      <td>design</td>\n",
       "      <td>479.542453</td>\n",
       "      <td>217.0</td>\n",
       "      <td>273.50</td>\n",
       "      <td>412.0</td>\n",
       "      <td>634.50</td>\n",
       "      <td>1041.0</td>\n",
       "      <td>212</td>\n",
       "    </tr>\n",
       "    <tr>\n",
       "      <th>4</th>\n",
       "      <td>fashion</td>\n",
       "      <td>208.557377</td>\n",
       "      <td>104.0</td>\n",
       "      <td>133.00</td>\n",
       "      <td>182.0</td>\n",
       "      <td>272.00</td>\n",
       "      <td>406.0</td>\n",
       "      <td>61</td>\n",
       "    </tr>\n",
       "    <tr>\n",
       "      <th>5</th>\n",
       "      <td>film &amp; video</td>\n",
       "      <td>229.250000</td>\n",
       "      <td>115.0</td>\n",
       "      <td>142.25</td>\n",
       "      <td>256.0</td>\n",
       "      <td>304.50</td>\n",
       "      <td>318.0</td>\n",
       "      <td>8</td>\n",
       "    </tr>\n",
       "    <tr>\n",
       "      <th>6</th>\n",
       "      <td>food</td>\n",
       "      <td>240.500000</td>\n",
       "      <td>127.0</td>\n",
       "      <td>160.00</td>\n",
       "      <td>212.5</td>\n",
       "      <td>323.75</td>\n",
       "      <td>377.0</td>\n",
       "      <td>10</td>\n",
       "    </tr>\n",
       "    <tr>\n",
       "      <th>7</th>\n",
       "      <td>games</td>\n",
       "      <td>703.242038</td>\n",
       "      <td>315.0</td>\n",
       "      <td>458.00</td>\n",
       "      <td>629.0</td>\n",
       "      <td>909.00</td>\n",
       "      <td>1398.0</td>\n",
       "      <td>157</td>\n",
       "    </tr>\n",
       "    <tr>\n",
       "      <th>8</th>\n",
       "      <td>music</td>\n",
       "      <td>111.727273</td>\n",
       "      <td>74.0</td>\n",
       "      <td>80.50</td>\n",
       "      <td>105.0</td>\n",
       "      <td>132.00</td>\n",
       "      <td>182.0</td>\n",
       "      <td>11</td>\n",
       "    </tr>\n",
       "    <tr>\n",
       "      <th>9</th>\n",
       "      <td>photography</td>\n",
       "      <td>160.857143</td>\n",
       "      <td>98.0</td>\n",
       "      <td>122.50</td>\n",
       "      <td>133.0</td>\n",
       "      <td>185.00</td>\n",
       "      <td>280.0</td>\n",
       "      <td>7</td>\n",
       "    </tr>\n",
       "    <tr>\n",
       "      <th>10</th>\n",
       "      <td>publishing</td>\n",
       "      <td>184.538462</td>\n",
       "      <td>109.0</td>\n",
       "      <td>152.00</td>\n",
       "      <td>180.0</td>\n",
       "      <td>231.00</td>\n",
       "      <td>276.0</td>\n",
       "      <td>13</td>\n",
       "    </tr>\n",
       "    <tr>\n",
       "      <th>11</th>\n",
       "      <td>technology</td>\n",
       "      <td>633.013158</td>\n",
       "      <td>278.0</td>\n",
       "      <td>370.25</td>\n",
       "      <td>544.0</td>\n",
       "      <td>832.25</td>\n",
       "      <td>1382.0</td>\n",
       "      <td>228</td>\n",
       "    </tr>\n",
       "    <tr>\n",
       "      <th>12</th>\n",
       "      <td>theater</td>\n",
       "      <td>138.000000</td>\n",
       "      <td>138.0</td>\n",
       "      <td>138.00</td>\n",
       "      <td>138.0</td>\n",
       "      <td>138.00</td>\n",
       "      <td>138.0</td>\n",
       "      <td>1</td>\n",
       "    </tr>\n",
       "  </tbody>\n",
       "</table>\n",
       "</div>"
      ],
      "text/plain": [
       "   proj_category        Mean    Min      Q1     Q2      Q3     Max  \\\n",
       "0            art  108.894737   61.0   79.00   97.0  131.00   191.0   \n",
       "1         comics  216.842105  126.0  138.00  177.0  258.00   466.0   \n",
       "2         crafts  105.375000   57.0   60.50   90.5  135.50   201.0   \n",
       "3         design  479.542453  217.0  273.50  412.0  634.50  1041.0   \n",
       "4        fashion  208.557377  104.0  133.00  182.0  272.00   406.0   \n",
       "5   film & video  229.250000  115.0  142.25  256.0  304.50   318.0   \n",
       "6           food  240.500000  127.0  160.00  212.5  323.75   377.0   \n",
       "7          games  703.242038  315.0  458.00  629.0  909.00  1398.0   \n",
       "8          music  111.727273   74.0   80.50  105.0  132.00   182.0   \n",
       "9    photography  160.857143   98.0  122.50  133.0  185.00   280.0   \n",
       "10    publishing  184.538462  109.0  152.00  180.0  231.00   276.0   \n",
       "11    technology  633.013158  278.0  370.25  544.0  832.25  1382.0   \n",
       "12       theater  138.000000  138.0  138.00  138.0  138.00   138.0   \n",
       "\n",
       "    neg_rmO_lm_b03  \n",
       "0               19  \n",
       "1               19  \n",
       "2               16  \n",
       "3              212  \n",
       "4               61  \n",
       "5                8  \n",
       "6               10  \n",
       "7              157  \n",
       "8               11  \n",
       "9                7  \n",
       "10              13  \n",
       "11             228  \n",
       "12               1  "
      ]
     },
     "execution_count": 155,
     "metadata": {},
     "output_type": "execute_result"
    }
   ],
   "source": [
    "describe_table(neg_rmO_lm_b03)"
   ]
  },
  {
   "cell_type": "code",
   "execution_count": 158,
   "metadata": {},
   "outputs": [
    {
     "data": {
      "text/plain": [
       "762"
      ]
     },
     "execution_count": 158,
     "metadata": {},
     "output_type": "execute_result"
    }
   ],
   "source": [
    "len(neg_rmO_lm_b03)"
   ]
  },
  {
   "cell_type": "markdown",
   "metadata": {},
   "source": [
    "# 9. Constructs"
   ]
  },
  {
   "cell_type": "code",
   "execution_count": 192,
   "metadata": {},
   "outputs": [],
   "source": [
    "conn_proj_factor = sqlite3.connect(directory + '/dataPrep/source/constructs/' + 'proj_factor.db')\n",
    "proj_factor = pd.read_sql_query(\"SELECT * FROM proj_factor\", conn_proj_factor)"
   ]
  },
  {
   "cell_type": "code",
   "execution_count": 183,
   "metadata": {},
   "outputs": [],
   "source": [
    "conn_crt_exp = sqlite3.connect(directory + '/dataPrep/source/constructs/' + 'crt_exp.db')\n",
    "crt_exp = pd.read_sql_query(\"SELECT * FROM crt_exp\", conn_crt_exp)"
   ]
  },
  {
   "cell_type": "code",
   "execution_count": 193,
   "metadata": {},
   "outputs": [],
   "source": [
    "conn_interact_faq_upd = sqlite3.connect(directory + '/dataPrep/source/constructs/' + 'interact_faq_upd.db')\n",
    "interact_faq_upd = pd.read_sql_query(\"SELECT * FROM interact_faq_upd\", conn_interact_faq_upd)"
   ]
  },
  {
   "cell_type": "code",
   "execution_count": 194,
   "metadata": {},
   "outputs": [],
   "source": [
    "conn_interact_cmt = sqlite3.connect(directory + '/dataPrep/source/constructs/' + 'interact_cmt.db')\n",
    "interact_cmt = pd.read_sql_query(\"SELECT * FROM interact_cmt\", conn_interact_cmt)"
   ]
  },
  {
   "cell_type": "code",
   "execution_count": 195,
   "metadata": {},
   "outputs": [
    {
     "name": "stdout",
     "output_type": "stream",
     "text": [
      "2137, 2137, 2137, 2137\n"
     ]
    }
   ],
   "source": [
    "pid_count(proj_factor, crt_exp, interact_faq_upd, interact_cmt)"
   ]
  },
  {
   "cell_type": "code",
   "execution_count": null,
   "metadata": {},
   "outputs": [],
   "source": []
  }
 ],
 "metadata": {
  "kernelspec": {
   "display_name": "Python 3",
   "language": "python",
   "name": "python3"
  },
  "language_info": {
   "codemirror_mode": {
    "name": "ipython",
    "version": 3
   },
   "file_extension": ".py",
   "mimetype": "text/x-python",
   "name": "python",
   "nbconvert_exporter": "python",
   "pygments_lexer": "ipython3",
   "version": "3.6.1"
  }
 },
 "nbformat": 4,
 "nbformat_minor": 2
}
