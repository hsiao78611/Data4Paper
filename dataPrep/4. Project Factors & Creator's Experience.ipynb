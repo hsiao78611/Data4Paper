{
 "cells": [
  {
   "cell_type": "code",
   "execution_count": 153,
   "metadata": {},
   "outputs": [],
   "source": [
    "import numpy as np\n",
    "import pandas as pd\n",
    "import os\n",
    "import sqlite3\n",
    "import re\n",
    "import datetime"
   ]
  },
  {
   "cell_type": "code",
   "execution_count": 2,
   "metadata": {},
   "outputs": [],
   "source": [
    "directory = os.path.abspath(os.path.join(os.getcwd(), os.pardir))"
   ]
  },
  {
   "cell_type": "markdown",
   "metadata": {},
   "source": [
    "# Tools"
   ]
  },
  {
   "cell_type": "code",
   "execution_count": 3,
   "metadata": {},
   "outputs": [],
   "source": [
    "from nltk.tokenize import sent_tokenize\n",
    "from nltk.tokenize import word_tokenize\n",
    "from nltk.corpus import stopwords\n",
    "import string\n",
    "from bs4 import BeautifulSoup\n",
    "stops = set(stopwords.words(\"english\"))\n",
    "regex = re.compile('[%s]' % re.escape(string.punctuation))\n",
    "words = word_tokenize(regex.sub('', 'text sdsd, and sds')) \n",
    "words = [word for word in words if word not in stops]"
   ]
  },
  {
   "cell_type": "code",
   "execution_count": 5,
   "metadata": {},
   "outputs": [],
   "source": [
    "def save_db(db_name, df_name, *path):\n",
    "    if len(path) == 1:\n",
    "        conn_save = sqlite3.connect(directory + path[0] + db_name + '.db')\n",
    "    else:\n",
    "#         conn_save = sqlite3.connect(directory + '/' + db_name + '.db')\n",
    "        conn_save = sqlite3.connect(directory + '/dataPrep/source/overall/' + db_name + '.db')\n",
    "    df_name.to_sql(name=db_name, con=conn_save, if_exists='replace', index=False)"
   ]
  },
  {
   "cell_type": "code",
   "execution_count": 9,
   "metadata": {},
   "outputs": [],
   "source": [
    "def pid_count(df, *the_rest):\n",
    "    def _cal(df):\n",
    "        return len(df.drop_duplicates('pid'))\n",
    "    print(*list(map(_cal, [df]+list(the_rest))), sep=', ')"
   ]
  },
  {
   "cell_type": "code",
   "execution_count": 4,
   "metadata": {},
   "outputs": [],
   "source": [
    "def count_length(body):\n",
    "    soup = BeautifulSoup(body, 'lxml')\n",
    "    text = re.sub('\\n+', ' ', soup.text.strip()).replace('\\xa0', '')\n",
    "    words = word_tokenize(regex.sub('', text)) \n",
    "    words = [word for word in words if word not in stops][14:]   \n",
    "    return len(words)\n",
    "\n",
    "def image_count(body):\n",
    "    soup = BeautifulSoup(body, 'lxml')\n",
    "    tags = soup.find_all('figure')\n",
    "    image_count = len(tags)\n",
    "    for tag in tags:\n",
    "        if tag.find('div', class_='video-player') != None:\n",
    "            image_count = image_count - 1\n",
    "    return image_count\n",
    "\n",
    "def video_count(body):\n",
    "    soup = BeautifulSoup(body, 'lxml')\n",
    "    video_count = len(soup.find_all('div', class_='video-player')) + len(soup.find_all('iframe'))\n",
    "    return video_count"
   ]
  },
  {
   "cell_type": "markdown",
   "metadata": {},
   "source": [
    "# Data"
   ]
  },
  {
   "cell_type": "code",
   "execution_count": 6,
   "metadata": {},
   "outputs": [],
   "source": [
    "conn_cmt_rmO_lm_b03 = sqlite3.connect(directory + '/dataPrep/source/overall/' + 'cmt_rmO_lm_b03.db')\n",
    "cmt_rmO_lm_b03 = pd.read_sql_query(\"SELECT * FROM cmt_rmO_lm_b03\", conn_cmt_rmO_lm_b03)\n",
    "\n",
    "conn_neg_rmO_lm_b03 = sqlite3.connect(directory + '/dataPrep/source/overall/' + 'neg_rmO_lm_b03.db')\n",
    "neg_rmO_lm_b03 = pd.read_sql_query(\"SELECT * FROM neg_rmO_lm_b03\", conn_neg_rmO_lm_b03)"
   ]
  },
  {
   "cell_type": "code",
   "execution_count": 41,
   "metadata": {},
   "outputs": [],
   "source": [
    "conn_proj = sqlite3.connect(directory + '/dataPrep/source/ds_ind_26229/' + 'proj.db')\n",
    "proj = pd.read_sql_query(\"SELECT * FROM proj\", conn_proj)\n",
    "\n",
    "conn_proj_body = sqlite3.connect(directory + '/dataPrep/source/body_name/' + 'proj_body.db')\n",
    "proj_body = pd.read_sql_query('SELECT * FROM proj_body', conn_proj_body)\n",
    "\n",
    "conn_cmt = sqlite3.connect(directory + '/dataPrep/source/ds_ind_26229/' + 'cmt.db')\n",
    "cmt = pd.read_sql_query('SELECT * FROM cmt', conn_cmt)\n",
    "\n",
    "conn_rew = sqlite3.connect(directory + '/dataPrep/source/ds_ind_26229/' + 'rew.db')\n",
    "rew = pd.read_sql_query('SELECT * FROM rew', conn_rew)"
   ]
  },
  {
   "cell_type": "code",
   "execution_count": 55,
   "metadata": {},
   "outputs": [],
   "source": [
    "proj = proj[proj.pid.isin(cmt_rmO_lm_b03.pid)].copy()\n",
    "proj_body = proj_body[proj_body.pid.isin(cmt_rmO_lm_b03.pid)].copy()\n",
    "cmt = cmt[cmt.pid.isin(cmt_rmO_lm_b03.pid)].copy()\n",
    "rew = rew[rew.pid.isin(cmt_rmO_lm_b03.pid)].copy()"
   ]
  },
  {
   "cell_type": "code",
   "execution_count": 149,
   "metadata": {},
   "outputs": [],
   "source": [
    "conn_crt_about = sqlite3.connect(directory + '/dataPrep/source/ds_crt_24404/' + 'crt_about.db')\n",
    "conn_crt_created = sqlite3.connect(directory + '/dataPrep/source/ds_crt_24404/' + 'crt_created.db')\n",
    "conn_crt_backed = sqlite3.connect(directory + '/dataPrep/source/ds_crt_24404/' + 'crt_backed.db')\n",
    "\n",
    "crt_about = pd.read_sql_query(\"SELECT * FROM crt_about\", conn_crt_about)\n",
    "crt_created = pd.read_sql_query('SELECT * FROM crt_created', conn_crt_created)\n",
    "crt_backed = pd.read_sql_query('SELECT * FROM crt_backed', conn_crt_backed)"
   ]
  },
  {
   "cell_type": "code",
   "execution_count": 203,
   "metadata": {},
   "outputs": [],
   "source": [
    "conn_date_fund = sqlite3.connect(directory + '/dataPrep/source/overall/' + 'date_fund.db')\n",
    "date_fund = pd.read_sql_query('SELECT * FROM date_funding', conn_date_fund)"
   ]
  },
  {
   "cell_type": "markdown",
   "metadata": {},
   "source": [
    "# Project Factors"
   ]
  },
  {
   "cell_type": "code",
   "execution_count": 178,
   "metadata": {},
   "outputs": [],
   "source": [
    "# percent_raised\n",
    "proj['percent_raised'] = proj.proj_amount_pledged / proj.proj_goal"
   ]
  },
  {
   "cell_type": "code",
   "execution_count": 172,
   "metadata": {},
   "outputs": [],
   "source": [
    "# duration\n",
    "proj.proj_start_date = proj.proj_start_date.apply(lambda date: str(date))\n",
    "proj.proj_start_date = proj.proj_start_date.apply(lambda str_date: re.sub('-.[\\d]:.[\\d]$', '',str_date))\n",
    "proj.proj_start_date = proj.proj_start_date.apply(lambda str_date: re.sub('T', ' ',str_date))\n",
    "proj.proj_start_date = proj.proj_start_date.apply(lambda str_date: \n",
    "                                                  datetime.datetime.strptime(str_date, \"%Y-%m-%d %H:%M:%S\"))\n",
    "proj.proj_end_date = proj.proj_end_date.apply(lambda date: str(date))\n",
    "proj.proj_end_date = proj.proj_end_date.apply(lambda str_date: re.sub('-.[\\d]:.[\\d]$', '',str_date))\n",
    "proj.proj_end_date = proj.proj_end_date.apply(lambda str_date: re.sub('T', ' ',str_date))\n",
    "proj.proj_end_date = proj.proj_end_date.apply(\n",
    "    lambda str_date: datetime.datetime.strptime(str_date, \"%Y-%m-%d %H:%M:%S\"))\n",
    "proj['duration'] = proj.proj_end_date - proj.proj_start_date\n",
    "\n",
    "proj_factor = proj[['pid', 'proj_category', 'proj_subcategory', 'proj_location', 'proj_currency', 'proj_goal', \n",
    "      'percent_raised', 'duration', 'proj_backer_count']].copy()\n",
    "proj_factor.duration = proj_factor.duration.apply(lambda td: (td / np.timedelta64(1, 'D')).astype(int))"
   ]
  },
  {
   "cell_type": "code",
   "execution_count": 176,
   "metadata": {},
   "outputs": [],
   "source": [
    "# has_collaborator\n",
    "cmt_year_target_crt[cmt_year_target_crt.cmt_creator!=1].groupby('pid').count().cmt_content.count()\n",
    "only 30 (0.043%) creators have collaborators of their projects\n",
    "\n",
    "proj_has_col = cmt[(cmt.cmt_collaborator == 1) & (cmt.cmt_creator!=1)].pid.drop_duplicates()\n",
    "proj_factor['has_collaborator'] = proj_factor.pid.isin(proj_has_col)"
   ]
  },
  {
   "cell_type": "code",
   "execution_count": 179,
   "metadata": {},
   "outputs": [],
   "source": [
    "# reward_quota_rate, reward_ship_limit_rate\n",
    "rew = rew.fillna('None').copy()\n",
    "rew['rew_limited'] = rew.rew_backer_limit != 'None'\n",
    "rew['ship_limited'] = (rew.rew_ships_to != 'None') & (rew.rew_ships_to != 'Anywhere in the world')\n",
    "\n",
    "rew_count = rew.groupby('pid').count().rew_id.reset_index().rename(index=str, columns={'rew_id':'rew_count'})\n",
    "rew_rew_l_count = rew[rew.rew_limited==True].groupby('pid').count().rew_id.reset_index().rename(\n",
    "    index=str, columns={'rew_id':'rew_rew_l_count'})\n",
    "rew_ship_l_count = rew[rew.ship_limited==True].groupby('pid').count().rew_id.reset_index().rename(\n",
    "    index=str, columns={'rew_id':'rew_ship_l_count'})\n",
    "\n",
    "rew_count = rew_count.merge(rew_rew_l_count, on=['pid'], how='outer')\n",
    "rew_count = rew_count.merge(rew_ship_l_count, on=['pid'], how='outer')\n",
    "rew_count = rew_count.fillna(0).copy()\n",
    "rew_count['reward_quota_rate'] = rew_count.rew_rew_l_count / rew_count.rew_count\n",
    "rew_count['reward_ship_limit_rate'] = rew_count.rew_ship_l_count / rew_count.rew_count\n",
    "rew_count = rew_count[['pid', 'reward_quota_rate', 'reward_ship_limit_rate']]\n",
    "\n",
    "proj_factor = proj_factor.merge(rew_count, on=['pid']).copy()"
   ]
  },
  {
   "cell_type": "code",
   "execution_count": 180,
   "metadata": {},
   "outputs": [],
   "source": [
    "# body_length\n",
    "proj_body['body_length'] = proj_body.apply(lambda row: count_length(row.proj_body), axis=1)\n",
    "\n",
    "# body_image_count\n",
    "proj_body['body_image_count'] = proj_body.apply(lambda row: image_count(row.proj_body), axis=1)\n",
    "\n",
    "# body_video_count\n",
    "proj_body['body_video_count'] = proj_body.apply(lambda row: video_count(row.proj_body), axis=1)\n",
    "\n",
    "\n",
    "proj_factor = proj_factor.merge(\n",
    "    proj_body[['pid', 'body_length', 'body_image_count', 'body_video_count']], on=['pid']).copy()"
   ]
  },
  {
   "cell_type": "markdown",
   "metadata": {},
   "source": [
    "## Early Bird"
   ]
  },
  {
   "cell_type": "code",
   "execution_count": 334,
   "metadata": {},
   "outputs": [],
   "source": [
    "rew_text = rew[['pid', 'rew_id', 'rew_description']].copy()\n",
    "rew_text.rew_description = rew_text.rew_description.apply(lambda up_str: up_str.lower())\n",
    "def check_keywords(test_df, keywords):\n",
    "    df = test_df.copy()\n",
    "    df = df.apply(lambda row: any(x in row.rew_description for x in keywords), axis=1)\n",
    "    return df\n",
    "early_bird = ['early bird']\n",
    "rew_text['early_bird'] = check_keywords(rew_text, early_bird)\n",
    "\n",
    "early_bird = proj_factor[['pid']].merge(rew_text.groupby('pid').sum().early_bird.reset_index().rename(index=str, \n",
    "                                            columns={'early_bird':'early_bird_count'}), on=['pid'])\n",
    "early_bird = early_bird.merge(rew_text.groupby('pid').count().early_bird.reset_index().rename(index=str, \n",
    "                                            columns={'early_bird':'rew_count'}), on=['pid'])\n",
    "early_bird['eb_rate'] = early_bird.early_bird_count / early_bird.rew_count\n",
    "# save_db('early_bird', early_bird)"
   ]
  },
  {
   "cell_type": "code",
   "execution_count": 337,
   "metadata": {},
   "outputs": [],
   "source": [
    "proj_factor = proj_factor.merge(early_bird, on='pid')"
   ]
  },
  {
   "cell_type": "code",
   "execution_count": 338,
   "metadata": {},
   "outputs": [],
   "source": [
    "proj_factor = proj_factor[['pid', 'proj_category', 'proj_subcategory', 'proj_location',\n",
    " 'proj_currency', 'proj_goal', 'percent_raised', 'duration', 'proj_backer_count',\n",
    " 'has_collaborator', 'early_bird_count', 'rew_count', 'eb_rate', 'reward_quota_rate',\n",
    " 'reward_ship_limit_rate', 'body_length', 'body_image_count', 'body_video_count']]"
   ]
  },
  {
   "cell_type": "code",
   "execution_count": 339,
   "metadata": {},
   "outputs": [],
   "source": [
    "save_db('proj_factor', proj_factor)"
   ]
  },
  {
   "cell_type": "markdown",
   "metadata": {},
   "source": [
    "# Creators' Experience"
   ]
  },
  {
   "cell_type": "code",
   "execution_count": 184,
   "metadata": {},
   "outputs": [
    {
     "data": {
      "text/plain": [
       "2137"
      ]
     },
     "execution_count": 184,
     "metadata": {},
     "output_type": "execute_result"
    }
   ],
   "source": [
    "len(proj)"
   ]
  },
  {
   "cell_type": "code",
   "execution_count": 328,
   "metadata": {},
   "outputs": [],
   "source": [
    "crt = crt_about[crt_about.cid.isin(proj.proj_creator_id)].copy()\n",
    "created = crt_created[crt_created.cid.isin(crt_about.cid)].drop_duplicates()\n",
    "backed = crt_backed[crt_backed.cid.isin(crt_about.cid)].drop_duplicates()"
   ]
  },
  {
   "cell_type": "code",
   "execution_count": 255,
   "metadata": {},
   "outputs": [
    {
     "data": {
      "text/plain": [
       "1961"
      ]
     },
     "execution_count": 255,
     "metadata": {},
     "output_type": "execute_result"
    }
   ],
   "source": [
    "len(crt)"
   ]
  },
  {
   "cell_type": "markdown",
   "metadata": {},
   "source": [
    "## Created"
   ]
  },
  {
   "cell_type": "code",
   "execution_count": 188,
   "metadata": {},
   "outputs": [],
   "source": [
    "# next_suc\n",
    "\n",
    "## find the created order of project\n",
    "created_no = pd.DataFrame({'pid': [], 'cid': [], 'no': [], 'state': [], 'next_proj': [], 'next_suc': []})\n",
    "for i in created.drop_duplicates('cid').cid:\n",
    "    cid = i\n",
    "    total = created[created.cid==i].pid.drop_duplicates().count()\n",
    "    next_suc = False\n",
    "    for j in created[created.cid==i].pid.drop_duplicates():\n",
    "        pid = j\n",
    "        no = total\n",
    "        total = no - 1\n",
    "        state = created[created.pid==j].project_state.values[0]\n",
    "        next_proj = True if no != created[created.cid==i].pid.drop_duplicates().count() else False\n",
    "        temp = pd.DataFrame({'pid': [pid], 'cid': [cid], 'no': [no], 'state': [state], \n",
    "                             'next_proj': [next_proj], 'next_suc': [next_suc]})\n",
    "        if state == 'successful':\n",
    "            next_suc = True\n",
    "        else:\n",
    "            next_suc = False\n",
    "        created_no = created_no.append(temp)"
   ]
  },
  {
   "cell_type": "code",
   "execution_count": 195,
   "metadata": {},
   "outputs": [],
   "source": [
    "## created_state\n",
    "created_state = pd.DataFrame({'pid': [], 'cid': [], 'no': [], 'state': [], 'crt_suc': [], \n",
    "                              'crt_fail': [], 'crt_cancel': []})\n",
    "for i in created_no.drop_duplicates('cid').cid:\n",
    "    cid = i\n",
    "    crt_suc = 0\n",
    "    crt_fail = 0\n",
    "    crt_cancel = 0\n",
    "    for j in created_no[created_no.cid==i].sort_values('no').pid:\n",
    "        pid = j\n",
    "        no = created_no[created_no.pid==j].no.values[0]\n",
    "        state = created_no[created_no.pid==j].state.values[0]\n",
    "        temp = pd.DataFrame({'pid': [pid], 'cid': [cid], 'no': [no], 'state': [state], 'crt_suc': [crt_suc], \n",
    "                             'crt_fail': [crt_fail], 'crt_cancel': [crt_cancel]})\n",
    "        \n",
    "        if state == 'successful':\n",
    "            crt_suc = crt_suc + 1\n",
    "        elif state == 'failed':\n",
    "            crt_fail = crt_fail + 1\n",
    "        elif state == 'canceled':\n",
    "            crt_cancel = crt_cancel + 1   \n",
    "        \n",
    "        created_state = created_state.append(temp)"
   ]
  },
  {
   "cell_type": "code",
   "execution_count": 197,
   "metadata": {},
   "outputs": [
    {
     "data": {
      "text/plain": [
       "42696"
      ]
     },
     "execution_count": 197,
     "metadata": {},
     "output_type": "execute_result"
    }
   ],
   "source": [
    "len(created_state)"
   ]
  },
  {
   "cell_type": "code",
   "execution_count": 198,
   "metadata": {},
   "outputs": [
    {
     "data": {
      "text/plain": [
       "42696"
      ]
     },
     "execution_count": 198,
     "metadata": {},
     "output_type": "execute_result"
    }
   ],
   "source": [
    "len(created_no)"
   ]
  },
  {
   "cell_type": "code",
   "execution_count": 199,
   "metadata": {
    "scrolled": true
   },
   "outputs": [
    {
     "data": {
      "text/html": [
       "<div>\n",
       "<style>\n",
       "    .dataframe thead tr:only-child th {\n",
       "        text-align: right;\n",
       "    }\n",
       "\n",
       "    .dataframe thead th {\n",
       "        text-align: left;\n",
       "    }\n",
       "\n",
       "    .dataframe tbody tr th {\n",
       "        vertical-align: top;\n",
       "    }\n",
       "</style>\n",
       "<table border=\"1\" class=\"dataframe\">\n",
       "  <thead>\n",
       "    <tr style=\"text-align: right;\">\n",
       "      <th></th>\n",
       "      <th>cid</th>\n",
       "      <th>crt_cancel</th>\n",
       "      <th>crt_fail</th>\n",
       "      <th>crt_suc</th>\n",
       "      <th>no</th>\n",
       "      <th>pid</th>\n",
       "      <th>state</th>\n",
       "    </tr>\n",
       "  </thead>\n",
       "  <tbody>\n",
       "    <tr>\n",
       "      <th>0</th>\n",
       "      <td>brexitthemovie</td>\n",
       "      <td>0.0</td>\n",
       "      <td>0.0</td>\n",
       "      <td>0.0</td>\n",
       "      <td>1.0</td>\n",
       "      <td>1264072338</td>\n",
       "      <td>successful</td>\n",
       "    </tr>\n",
       "    <tr>\n",
       "      <th>0</th>\n",
       "      <td>brexitthemovie</td>\n",
       "      <td>0.0</td>\n",
       "      <td>0.0</td>\n",
       "      <td>1.0</td>\n",
       "      <td>2.0</td>\n",
       "      <td>1531926102</td>\n",
       "      <td>successful</td>\n",
       "    </tr>\n",
       "    <tr>\n",
       "      <th>0</th>\n",
       "      <td>1209541329</td>\n",
       "      <td>0.0</td>\n",
       "      <td>0.0</td>\n",
       "      <td>0.0</td>\n",
       "      <td>1.0</td>\n",
       "      <td>911532921</td>\n",
       "      <td>successful</td>\n",
       "    </tr>\n",
       "    <tr>\n",
       "      <th>0</th>\n",
       "      <td>1579383219</td>\n",
       "      <td>0.0</td>\n",
       "      <td>0.0</td>\n",
       "      <td>0.0</td>\n",
       "      <td>1.0</td>\n",
       "      <td>2063094794</td>\n",
       "      <td>successful</td>\n",
       "    </tr>\n",
       "    <tr>\n",
       "      <th>0</th>\n",
       "      <td>plxdevices</td>\n",
       "      <td>0.0</td>\n",
       "      <td>0.0</td>\n",
       "      <td>0.0</td>\n",
       "      <td>1.0</td>\n",
       "      <td>1595337096</td>\n",
       "      <td>successful</td>\n",
       "    </tr>\n",
       "  </tbody>\n",
       "</table>\n",
       "</div>"
      ],
      "text/plain": [
       "              cid  crt_cancel  crt_fail  crt_suc   no         pid       state\n",
       "0  brexitthemovie         0.0       0.0      0.0  1.0  1264072338  successful\n",
       "0  brexitthemovie         0.0       0.0      1.0  2.0  1531926102  successful\n",
       "0      1209541329         0.0       0.0      0.0  1.0   911532921  successful\n",
       "0      1579383219         0.0       0.0      0.0  1.0  2063094794  successful\n",
       "0      plxdevices         0.0       0.0      0.0  1.0  1595337096  successful"
      ]
     },
     "execution_count": 199,
     "metadata": {},
     "output_type": "execute_result"
    }
   ],
   "source": [
    "created_state.head()"
   ]
  },
  {
   "cell_type": "markdown",
   "metadata": {},
   "source": [
    "## Backed"
   ]
  },
  {
   "cell_type": "markdown",
   "metadata": {},
   "source": [
    "Since we do have the funding date data of successfully funded projects, we only can count how many successful projects backed by the creator.\n"
   ]
  },
  {
   "cell_type": "code",
   "execution_count": 329,
   "metadata": {},
   "outputs": [],
   "source": [
    "# backed\n",
    "backed = backed.merge(date_fund[['pid', 'proj_end_date']], on=['pid']).copy()\n",
    "backed = backed.rename(index=str, columns={'pid': 'backed_pid', 'cid': 'proj_creator_id', \n",
    "                                           'proj_end_date': 'backed_proj_end_date'}).copy()\n",
    "proj_crt_backed = proj.merge(backed[['proj_creator_id', 'backed_pid', 'backed_proj_end_date', \n",
    "                                     'project_state']], on=['proj_creator_id'])\n",
    "\n",
    "proj_crt_backed = proj_crt_backed[proj_crt_backed.backed_proj_end_date!='hidden project'].copy()\n",
    "proj_crt_backed = proj_crt_backed[proj_crt_backed.backed_proj_end_date!='hidden'].copy()\n",
    "\n",
    "# proj_crt_backed.proj_end_date = proj_crt_backed.proj_end_date.apply(\n",
    "#     lambda str_date: re.sub('-.[\\d]:.[\\d]$', '',str_date))\n",
    "# proj_crt_backed.proj_end_date = proj_crt_backed.proj_end_date.apply(\n",
    "#     lambda str_date: datetime.datetime.strptime(str_date, \"%Y-%m-%dT%H:%M:%S\"))\n",
    "\n",
    "proj_crt_backed.backed_proj_end_date = proj_crt_backed.backed_proj_end_date.apply(\n",
    "    lambda str_date: re.sub('-.[\\d]:.[\\d]$', '',str_date))\n",
    "proj_crt_backed.backed_proj_end_date = proj_crt_backed.backed_proj_end_date.apply(\n",
    "    lambda str_date: datetime.datetime.strptime(str_date, \"%Y-%m-%dT%H:%M:%S\"))\n",
    "\n",
    "\n",
    "# backed_suc_count\n",
    "\n",
    "proj_crt_backed = proj_crt_backed[proj_crt_backed.backed_proj_end_date < proj_crt_backed.proj_end_date].copy()\n",
    "proj_crt_backed_count = proj_crt_backed.groupby('pid').count()[['backed_pid']].copy().reset_index()\n",
    "proj_crt_backed_count = proj_crt_backed_count.rename(index=str, columns={'backed_pid': 'backed_count'}).copy()\n"
   ]
  },
  {
   "cell_type": "markdown",
   "metadata": {},
   "source": [
    "## Experience "
   ]
  },
  {
   "cell_type": "code",
   "execution_count": 331,
   "metadata": {},
   "outputs": [],
   "source": [
    "crt_exp = proj[['pid','proj_creator_id', 'proj_start_date']\n",
    "              ].rename(index=str, columns={'proj_creator_id':'cid'}).copy()\n",
    "crt_exp = crt_exp.merge(crt[['cid', 'joined_date']], on=['cid']).copy()\n",
    "## but created_count and backed_count are not correspond the number in that times\n",
    "\n",
    "crt_exp.joined_date = crt_exp.joined_date.apply(lambda str_date: str(str_date))\n",
    "crt_exp = crt_exp.loc[crt_exp.joined_date != 'None'] # 6 creators has been deleted.\n",
    "\n",
    "crt_exp.joined_date = crt_exp.joined_date.apply(lambda str_date: re.sub('T.[\\d]:.[\\d]:.[\\d]-.[\\d]:.[\\d]$', '',str_date))\n",
    "crt_exp.joined_date = crt_exp.joined_date.apply(\n",
    "    lambda str_date: datetime.datetime.strptime(str_date, \"%Y-%m-%d\"))\n",
    "\n",
    "\n",
    "# firstTime\n",
    "\n",
    "crt_exp = crt_exp.merge(created_state[['pid', 'no', 'crt_suc']], on=['pid']).copy()\n",
    "crt_exp = crt_exp.merge(created_no[['pid', 'next_proj', 'next_suc']], on=['pid']).copy()\n",
    "\n",
    "crt_exp = crt_exp.merge(proj_crt_backed_count, on=['pid'], how='outer').fillna(0).copy()\n",
    "crt_exp['firstTime'] =  crt_exp.no==1\n",
    "\n",
    "# created_count\n",
    "\n",
    "# created_suc_rate\n",
    "\n",
    "crt_exp = crt_exp[['pid', 'cid', 'firstTime', 'no', 'crt_suc', 'backed_count', 'next_suc']]\n",
    "crt_exp = crt_exp.rename(index=str, columns={'no': 'created_count', 'crt_suc': 'created_suc_rate'}).copy()"
   ]
  },
  {
   "cell_type": "code",
   "execution_count": 333,
   "metadata": {},
   "outputs": [],
   "source": [
    "crt_exp = crt_exp.drop_duplicates()\n",
    "save_db('crt_exp', crt_exp)"
   ]
  },
  {
   "cell_type": "code",
   "execution_count": null,
   "metadata": {},
   "outputs": [],
   "source": []
  }
 ],
 "metadata": {
  "kernelspec": {
   "display_name": "Python 3",
   "language": "python",
   "name": "python3"
  },
  "language_info": {
   "codemirror_mode": {
    "name": "ipython",
    "version": 3
   },
   "file_extension": ".py",
   "mimetype": "text/x-python",
   "name": "python",
   "nbconvert_exporter": "python",
   "pygments_lexer": "ipython3",
   "version": "3.6.1"
  }
 },
 "nbformat": 4,
 "nbformat_minor": 2
}
