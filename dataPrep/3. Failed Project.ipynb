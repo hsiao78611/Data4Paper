{
 "cells": [
  {
   "cell_type": "code",
   "execution_count": 60,
   "metadata": {},
   "outputs": [],
   "source": [
    "import pandas as pd\n",
    "import sqlite3\n",
    "import os\n",
    "\n",
    "%matplotlib inline\n",
    "import matplotlib as mpl\n",
    "import matplotlib.pyplot as plt\n",
    "import seaborn as sns"
   ]
  },
  {
   "cell_type": "code",
   "execution_count": 2,
   "metadata": {},
   "outputs": [],
   "source": [
    "directory = os.path.abspath(os.path.join(os.getcwd(), os.pardir))"
   ]
  },
  {
   "cell_type": "markdown",
   "metadata": {},
   "source": [
    "# Tools"
   ]
  },
  {
   "cell_type": "code",
   "execution_count": 8,
   "metadata": {},
   "outputs": [],
   "source": [
    "def pid_count(df, *the_rest):\n",
    "    def _cal(df):\n",
    "        return len(df.drop_duplicates('pid'))\n",
    "    print(*list(map(_cal, [df]+list(the_rest))), sep=', ')"
   ]
  },
  {
   "cell_type": "code",
   "execution_count": 4,
   "metadata": {},
   "outputs": [],
   "source": [
    "def save_db(db_name, df_name, *path):\n",
    "    if len(path) == 1:\n",
    "        conn_save = sqlite3.connect(directory + path[0] + db_name + '.db')\n",
    "    else:\n",
    "#         conn_save = sqlite3.connect(directory + '/' + db_name + '.db')\n",
    "        conn_save = sqlite3.connect(directory + '/dataPrep/source/overall/' + db_name + '.db')\n",
    "    df_name.to_sql(name=db_name, con=conn_save, if_exists='replace', index=False)"
   ]
  },
  {
   "cell_type": "code",
   "execution_count": 5,
   "metadata": {},
   "outputs": [],
   "source": [
    "def check_keywords(test_df, keywords):\n",
    "    df = test_df.copy()\n",
    "    df = df.apply(lambda row: any(x in row.cmt_content for x in keywords), axis=1)\n",
    "    return df"
   ]
  },
  {
   "cell_type": "code",
   "execution_count": 55,
   "metadata": {},
   "outputs": [],
   "source": [
    "def describe_table(df):\n",
    "    table = df.groupby('proj_category').mean()[['proj_backer_count']].rename(\n",
    "    columns={'proj_backer_count': 'Mean'}).reset_index().merge(\n",
    "    df.groupby('proj_category').min()[['proj_backer_count']].rename(\n",
    "        columns={'proj_backer_count': 'Min'}).reset_index(), \n",
    "    on=['proj_category']).merge(\n",
    "    df.groupby('proj_category').quantile(.25)[['proj_backer_count']].rename(\n",
    "        columns={'proj_backer_count': 'Q1'}).reset_index(), \n",
    "    on=['proj_category']).merge(\n",
    "    df.groupby('proj_category').quantile(.5)[['proj_backer_count']].rename(\n",
    "        columns={'proj_backer_count': 'Q2'}).reset_index(), \n",
    "    on=['proj_category']).merge(\n",
    "    df.groupby('proj_category').quantile(.75)[['proj_backer_count']].rename(\n",
    "        columns={'proj_backer_count': 'Q3'}).reset_index(),\n",
    "    on=['proj_category']).merge(    \n",
    "    df.groupby('proj_category').max()[['proj_backer_count']].rename(\n",
    "        columns={'proj_backer_count': 'Max'}).reset_index(), \n",
    "    on=['proj_category']).merge(\n",
    "    df.groupby('proj_category').count()[['pid']].rename(\n",
    "        columns={'pid': 'Total'}).reset_index(), on=['proj_category'])\n",
    "    return table"
   ]
  },
  {
   "cell_type": "markdown",
   "metadata": {},
   "source": [
    "# Data"
   ]
  },
  {
   "cell_type": "code",
   "execution_count": 47,
   "metadata": {},
   "outputs": [],
   "source": [
    "conn_cmt_rmO_lm_b03 = sqlite3.connect(directory + '/dataPrep/source/overall/' + 'cmt_rmO_lm_b03.db')\n",
    "cmt_rmO_lm_b03 = pd.read_sql_query(\"SELECT * FROM cmt_rmO_lm_b03\", conn_cmt_rmO_lm_b03)"
   ]
  },
  {
   "cell_type": "code",
   "execution_count": 64,
   "metadata": {},
   "outputs": [],
   "source": [
    "conn_cmt_year = sqlite3.connect(directory + '/dataPrep/source/ds_ind_26229/' + 'cmt_year.db')\n",
    "cmt_year = pd.read_sql_query(\"SELECT * FROM cmt_year\", conn_cmt_year)"
   ]
  },
  {
   "cell_type": "markdown",
   "metadata": {},
   "source": [
    "# Check Keywords and Phrases"
   ]
  },
  {
   "cell_type": "code",
   "execution_count": 65,
   "metadata": {},
   "outputs": [
    {
     "name": "stdout",
     "output_type": "stream",
     "text": [
      "2137, 11042\n"
     ]
    }
   ],
   "source": [
    "pid_count(cmt_rmO_lm_b03, cmt_year)"
   ]
  },
  {
   "cell_type": "code",
   "execution_count": 29,
   "metadata": {},
   "outputs": [],
   "source": [
    "cmt_year = cmt_year[cmt_year.pid.isin(cmt_rmO_lm_b03.pid)]"
   ]
  },
  {
   "cell_type": "code",
   "execution_count": 30,
   "metadata": {},
   "outputs": [
    {
     "name": "stdout",
     "output_type": "stream",
     "text": [
      "2137\n"
     ]
    }
   ],
   "source": [
    "pid_count(cmt_year)"
   ]
  },
  {
   "cell_type": "code",
   "execution_count": 15,
   "metadata": {},
   "outputs": [],
   "source": [
    "cmt_year_bac = cmt_year[cmt_year.cmt_collaborator == 0].copy()\n",
    "# must transform to lowercase !\n",
    "cmt_year_bac['cmt_content'] = cmt_year_bac.cmt_content.str.lower() "
   ]
  },
  {
   "cell_type": "code",
   "execution_count": 16,
   "metadata": {},
   "outputs": [],
   "source": [
    "yet2receive = ['yet to receive', 'haven\\'t received', 'not receive', 'no received', # receive\n",
    "               'can\\'t receive', 'when can i receive', 'when am i receiving', 'when i should receive', \n",
    "               'when ship', 'when are you ship',\n",
    "               'when will i be receiving', 'who have receive', 'who has received', 'anyone receive', \n",
    "               ' didn\\'t receive', 'never receive', 'received nothing', 'nothing receive',\n",
    "               'still wait', 'still no', 'nothing at all', 'nothing yet', 'nothing has appeared',  # nothing\n",
    "               'nothing here', 'nothing in yet',\n",
    "               'n\\'t see anything',\n",
    "               'what about shipment', 'when will i get', 'when is shipping', 'when mine will be shipped',  # ship\n",
    "               'not ship', 'no ship', 'shipment?',\n",
    "               'tired of waiting', 'still waiting', 'awaiting', 'wait longer','where is my', 'where\\'s my',\n",
    "               'never got', 'no product', 'not get', 'not got', 'n\\'t get', 'n\\'t got', 'anyone already get',\n",
    "               'n\\'t seen', 'not seen', 'n\\'t arrive', 'not arrive', 'never arrive',\n",
    "               'forgotten', 'delay', 'yet to be delivered', 'no deliver', 'never deliver',\n",
    "               'no tracking', 'never fulfilled']\n",
    "\n",
    "dissatisfy = ['worse', 'faulty', 'fail', 'damaged', 'busted', 'broken', 'destroyed', 'defective', \n",
    "              'disaster', 'crap', 'poor', 'terrible', 'dud', 'shoddy', 'worthless', 'garbage', \n",
    "              'junk', 'trash', 'never work', 'n\\'t work', 'joke', 'kidding', 'awful', 'ridiculous', \n",
    "              'bullshit', 'humbug', 'ripoff', 'rip-off', 'ripped',  'not test', # about reward\n",
    "              'worst experience', 'disappointed', 'disappointment', 'disappointing', # about feeling\n",
    "              'unhappy', 'not fun', 'regret pledg', 'upset', 'never trust', 'frustrating',\n",
    "              'lack of communication', 'no communication', 'no repl', 'not repl',  # about reply\n",
    "              'never repl', 'no answers', 'not respon', 'no respon', 'never respon', \n",
    "              'no update', 'any update', 'please update', 'update please', 'no mail',\n",
    "              'unhelpful', 'useless', ':(']\n",
    "\n",
    "other = ['asshole', 'thief', 'thieve','shame', 'disgrace', 'scam', 'fraud', 'lawsuit', 'lawyer',\n",
    "         'can i get a refund', 'can we get refund', 'refund option ', 'like a refund', 'demanding a refund',\n",
    "         'no refund', 'back the money', 'want a refund', 'waste of money', 'want my money back', \n",
    "         'want what i paid for', 'against kickstarter', 'wake kickstarter'] "
   ]
  },
  {
   "cell_type": "code",
   "execution_count": 18,
   "metadata": {},
   "outputs": [],
   "source": [
    "cmt_year_bac['neg_1'] = check_keywords(cmt_year_bac, yet2receive)\n",
    "cmt_year_bac['neg_2'] = check_keywords(cmt_year_bac, dissatisfy)\n",
    "cmt_year_bac['neg_3'] = check_keywords(cmt_year_bac, other)\n",
    "cmt_year_bac['neg_2_3'] = check_keywords(cmt_year_bac, dissatisfy + other) # severity\n",
    "cmt_year_bac['neg_all'] = check_keywords(cmt_year_bac, yet2receive + dissatisfy + other)"
   ]
  },
  {
   "cell_type": "code",
   "execution_count": 19,
   "metadata": {},
   "outputs": [],
   "source": [
    "neg_1_count = cmt_year_bac[cmt_year_bac.neg_1 == True].groupby('pid').neg_1.count()\n",
    "neg_2_count = cmt_year_bac[cmt_year_bac.neg_2 == True].groupby('pid').neg_2.count()\n",
    "neg_3_count = cmt_year_bac[cmt_year_bac.neg_3 == True].groupby('pid').neg_3.count()\n",
    "neg_2_3_count = cmt_year_bac[cmt_year_bac.neg_2_3 == True].groupby('pid').neg_2_3.count()\n",
    "neg_all_count = cmt_year_bac[cmt_year_bac.neg_all == True].groupby('pid').neg_all.count()\n",
    "\n",
    "\n",
    "cmt_bac_count = cmt_year_bac.groupby('pid').count().cmt_content\n",
    "cmt_bac_count = pd.DataFrame({'pid': cmt_bac_count.index, 'backer_cmt': cmt_bac_count, \n",
    "                              'neg_1': neg_1_count, 'neg_1_rate': neg_1_count/cmt_bac_count,\n",
    "                              'neg_2': neg_2_count, 'neg_2_rate': neg_2_count/cmt_bac_count,\n",
    "                              'neg_3': neg_3_count, 'neg_3_rate': neg_3_count/cmt_bac_count,\n",
    "                              'neg_2_3': neg_2_3_count, 'neg_2_3_rate': neg_2_3_count/cmt_bac_count,\n",
    "                              'neg_all': neg_all_count, 'neg_all_rate': neg_all_count/cmt_bac_count})"
   ]
  },
  {
   "cell_type": "code",
   "execution_count": 72,
   "metadata": {},
   "outputs": [],
   "source": [
    "stat = cmt_bac_count.merge(cmt_year.groupby('pid').count().reset_index()[['cmt_content', 'pid']], on=['pid']).copy()\n",
    "stat = stat.rename(columns={'cmt_content': 'cmt_total'})\n",
    "\n",
    "stat['backer_rate'] = stat.backer_cmt/stat.cmt_total\n",
    "stat = stat.merge(cmt_rmO_lm_b03[['pid', 'proj_backer_count', 'proj_category']], on=['pid'])\n",
    "stat = stat[['pid', 'proj_category', 'cmt_total', 'backer_cmt', 'backer_rate', \n",
    "             'proj_backer_count',\n",
    "             'neg_1', 'neg_2', 'neg_3', 'neg_all', 'neg_2_3', \n",
    "             'neg_1_rate', 'neg_2_rate', 'neg_3_rate',\n",
    "             'neg_all_rate', 'neg_2_3_rate']]#.sort_values('neg_3_rate', ascending=False)"
   ]
  },
  {
   "cell_type": "code",
   "execution_count": 81,
   "metadata": {},
   "outputs": [],
   "source": [
    "rmO_lm_b03 = stat.copy()\n",
    "save_db('rmO_lm_b03', rmO_lm_b03)"
   ]
  },
  {
   "cell_type": "code",
   "execution_count": 76,
   "metadata": {},
   "outputs": [],
   "source": [
    "rmO_lm_b03_neg = stat[stat.neg_all > stat.proj_backer_count*.03] # 762\n",
    "rmO_lm_b03_pos = stat[~stat.pid.isin(neg_rmO_lm_b03.pid)] #1,375"
   ]
  },
  {
   "cell_type": "code",
   "execution_count": 79,
   "metadata": {},
   "outputs": [
    {
     "data": {
      "text/html": [
       "<div>\n",
       "<style>\n",
       "    .dataframe thead tr:only-child th {\n",
       "        text-align: right;\n",
       "    }\n",
       "\n",
       "    .dataframe thead th {\n",
       "        text-align: left;\n",
       "    }\n",
       "\n",
       "    .dataframe tbody tr th {\n",
       "        vertical-align: top;\n",
       "    }\n",
       "</style>\n",
       "<table border=\"1\" class=\"dataframe\">\n",
       "  <thead>\n",
       "    <tr style=\"text-align: right;\">\n",
       "      <th></th>\n",
       "      <th>proj_category</th>\n",
       "      <th>Mean</th>\n",
       "      <th>Min</th>\n",
       "      <th>Q1</th>\n",
       "      <th>Q2</th>\n",
       "      <th>Q3</th>\n",
       "      <th>Max</th>\n",
       "      <th>Total</th>\n",
       "    </tr>\n",
       "  </thead>\n",
       "  <tbody>\n",
       "    <tr>\n",
       "      <th>0</th>\n",
       "      <td>art</td>\n",
       "      <td>108.894737</td>\n",
       "      <td>61.0</td>\n",
       "      <td>79.00</td>\n",
       "      <td>97.0</td>\n",
       "      <td>131.00</td>\n",
       "      <td>191.0</td>\n",
       "      <td>19</td>\n",
       "    </tr>\n",
       "    <tr>\n",
       "      <th>1</th>\n",
       "      <td>comics</td>\n",
       "      <td>216.842105</td>\n",
       "      <td>126.0</td>\n",
       "      <td>138.00</td>\n",
       "      <td>177.0</td>\n",
       "      <td>258.00</td>\n",
       "      <td>466.0</td>\n",
       "      <td>19</td>\n",
       "    </tr>\n",
       "    <tr>\n",
       "      <th>2</th>\n",
       "      <td>crafts</td>\n",
       "      <td>105.375000</td>\n",
       "      <td>57.0</td>\n",
       "      <td>60.50</td>\n",
       "      <td>90.5</td>\n",
       "      <td>135.50</td>\n",
       "      <td>201.0</td>\n",
       "      <td>16</td>\n",
       "    </tr>\n",
       "    <tr>\n",
       "      <th>3</th>\n",
       "      <td>design</td>\n",
       "      <td>479.542453</td>\n",
       "      <td>217.0</td>\n",
       "      <td>273.50</td>\n",
       "      <td>412.0</td>\n",
       "      <td>634.50</td>\n",
       "      <td>1041.0</td>\n",
       "      <td>212</td>\n",
       "    </tr>\n",
       "    <tr>\n",
       "      <th>4</th>\n",
       "      <td>fashion</td>\n",
       "      <td>208.557377</td>\n",
       "      <td>104.0</td>\n",
       "      <td>133.00</td>\n",
       "      <td>182.0</td>\n",
       "      <td>272.00</td>\n",
       "      <td>406.0</td>\n",
       "      <td>61</td>\n",
       "    </tr>\n",
       "    <tr>\n",
       "      <th>5</th>\n",
       "      <td>film &amp; video</td>\n",
       "      <td>229.250000</td>\n",
       "      <td>115.0</td>\n",
       "      <td>142.25</td>\n",
       "      <td>256.0</td>\n",
       "      <td>304.50</td>\n",
       "      <td>318.0</td>\n",
       "      <td>8</td>\n",
       "    </tr>\n",
       "    <tr>\n",
       "      <th>6</th>\n",
       "      <td>food</td>\n",
       "      <td>240.500000</td>\n",
       "      <td>127.0</td>\n",
       "      <td>160.00</td>\n",
       "      <td>212.5</td>\n",
       "      <td>323.75</td>\n",
       "      <td>377.0</td>\n",
       "      <td>10</td>\n",
       "    </tr>\n",
       "    <tr>\n",
       "      <th>7</th>\n",
       "      <td>games</td>\n",
       "      <td>703.242038</td>\n",
       "      <td>315.0</td>\n",
       "      <td>458.00</td>\n",
       "      <td>629.0</td>\n",
       "      <td>909.00</td>\n",
       "      <td>1398.0</td>\n",
       "      <td>157</td>\n",
       "    </tr>\n",
       "    <tr>\n",
       "      <th>8</th>\n",
       "      <td>music</td>\n",
       "      <td>111.727273</td>\n",
       "      <td>74.0</td>\n",
       "      <td>80.50</td>\n",
       "      <td>105.0</td>\n",
       "      <td>132.00</td>\n",
       "      <td>182.0</td>\n",
       "      <td>11</td>\n",
       "    </tr>\n",
       "    <tr>\n",
       "      <th>9</th>\n",
       "      <td>photography</td>\n",
       "      <td>160.857143</td>\n",
       "      <td>98.0</td>\n",
       "      <td>122.50</td>\n",
       "      <td>133.0</td>\n",
       "      <td>185.00</td>\n",
       "      <td>280.0</td>\n",
       "      <td>7</td>\n",
       "    </tr>\n",
       "    <tr>\n",
       "      <th>10</th>\n",
       "      <td>publishing</td>\n",
       "      <td>184.538462</td>\n",
       "      <td>109.0</td>\n",
       "      <td>152.00</td>\n",
       "      <td>180.0</td>\n",
       "      <td>231.00</td>\n",
       "      <td>276.0</td>\n",
       "      <td>13</td>\n",
       "    </tr>\n",
       "    <tr>\n",
       "      <th>11</th>\n",
       "      <td>technology</td>\n",
       "      <td>633.013158</td>\n",
       "      <td>278.0</td>\n",
       "      <td>370.25</td>\n",
       "      <td>544.0</td>\n",
       "      <td>832.25</td>\n",
       "      <td>1382.0</td>\n",
       "      <td>228</td>\n",
       "    </tr>\n",
       "    <tr>\n",
       "      <th>12</th>\n",
       "      <td>theater</td>\n",
       "      <td>138.000000</td>\n",
       "      <td>138.0</td>\n",
       "      <td>138.00</td>\n",
       "      <td>138.0</td>\n",
       "      <td>138.00</td>\n",
       "      <td>138.0</td>\n",
       "      <td>1</td>\n",
       "    </tr>\n",
       "  </tbody>\n",
       "</table>\n",
       "</div>"
      ],
      "text/plain": [
       "   proj_category        Mean    Min      Q1     Q2      Q3     Max  Total\n",
       "0            art  108.894737   61.0   79.00   97.0  131.00   191.0     19\n",
       "1         comics  216.842105  126.0  138.00  177.0  258.00   466.0     19\n",
       "2         crafts  105.375000   57.0   60.50   90.5  135.50   201.0     16\n",
       "3         design  479.542453  217.0  273.50  412.0  634.50  1041.0    212\n",
       "4        fashion  208.557377  104.0  133.00  182.0  272.00   406.0     61\n",
       "5   film & video  229.250000  115.0  142.25  256.0  304.50   318.0      8\n",
       "6           food  240.500000  127.0  160.00  212.5  323.75   377.0     10\n",
       "7          games  703.242038  315.0  458.00  629.0  909.00  1398.0    157\n",
       "8          music  111.727273   74.0   80.50  105.0  132.00   182.0     11\n",
       "9    photography  160.857143   98.0  122.50  133.0  185.00   280.0      7\n",
       "10    publishing  184.538462  109.0  152.00  180.0  231.00   276.0     13\n",
       "11    technology  633.013158  278.0  370.25  544.0  832.25  1382.0    228\n",
       "12       theater  138.000000  138.0  138.00  138.0  138.00   138.0      1"
      ]
     },
     "execution_count": 79,
     "metadata": {},
     "output_type": "execute_result"
    }
   ],
   "source": [
    "describe_table(rmO_lm_b03_neg)"
   ]
  },
  {
   "cell_type": "code",
   "execution_count": 83,
   "metadata": {},
   "outputs": [],
   "source": [
    "save_db('rmO_lm_b03_neg', rmO_lm_b03_neg)"
   ]
  },
  {
   "cell_type": "code",
   "execution_count": 84,
   "metadata": {},
   "outputs": [
    {
     "data": {
      "text/html": [
       "<div>\n",
       "<style>\n",
       "    .dataframe thead tr:only-child th {\n",
       "        text-align: right;\n",
       "    }\n",
       "\n",
       "    .dataframe thead th {\n",
       "        text-align: left;\n",
       "    }\n",
       "\n",
       "    .dataframe tbody tr th {\n",
       "        vertical-align: top;\n",
       "    }\n",
       "</style>\n",
       "<table border=\"1\" class=\"dataframe\">\n",
       "  <thead>\n",
       "    <tr style=\"text-align: right;\">\n",
       "      <th></th>\n",
       "      <th>pid</th>\n",
       "      <th>proj_category</th>\n",
       "      <th>cmt_total</th>\n",
       "      <th>backer_cmt</th>\n",
       "      <th>backer_rate</th>\n",
       "      <th>proj_backer_count</th>\n",
       "      <th>neg_1</th>\n",
       "      <th>neg_2</th>\n",
       "      <th>neg_3</th>\n",
       "      <th>neg_all</th>\n",
       "      <th>neg_2_3</th>\n",
       "      <th>neg_1_rate</th>\n",
       "      <th>neg_2_rate</th>\n",
       "      <th>neg_3_rate</th>\n",
       "      <th>neg_all_rate</th>\n",
       "      <th>neg_2_3_rate</th>\n",
       "    </tr>\n",
       "  </thead>\n",
       "  <tbody>\n",
       "    <tr>\n",
       "      <th>0</th>\n",
       "      <td>1000232288</td>\n",
       "      <td>games</td>\n",
       "      <td>184</td>\n",
       "      <td>146</td>\n",
       "      <td>0.793478</td>\n",
       "      <td>448.0</td>\n",
       "      <td>14.0</td>\n",
       "      <td>11.0</td>\n",
       "      <td>2.0</td>\n",
       "      <td>24.0</td>\n",
       "      <td>13.0</td>\n",
       "      <td>0.09589</td>\n",
       "      <td>0.075342</td>\n",
       "      <td>0.013699</td>\n",
       "      <td>0.164384</td>\n",
       "      <td>0.089041</td>\n",
       "    </tr>\n",
       "  </tbody>\n",
       "</table>\n",
       "</div>"
      ],
      "text/plain": [
       "          pid proj_category  cmt_total  backer_cmt  backer_rate  \\\n",
       "0  1000232288         games        184         146     0.793478   \n",
       "\n",
       "   proj_backer_count  neg_1  neg_2  neg_3  neg_all  neg_2_3  neg_1_rate  \\\n",
       "0              448.0   14.0   11.0    2.0     24.0     13.0     0.09589   \n",
       "\n",
       "   neg_2_rate  neg_3_rate  neg_all_rate  neg_2_3_rate  \n",
       "0    0.075342    0.013699      0.164384      0.089041  "
      ]
     },
     "execution_count": 84,
     "metadata": {},
     "output_type": "execute_result"
    }
   ],
   "source": [
    "rmO_lm_b03_neg.head(1)"
   ]
  },
  {
   "cell_type": "code",
   "execution_count": 63,
   "metadata": {},
   "outputs": [
    {
     "data": {
      "image/png": "[encoded data removed]",
      "text/plain": [
       "<matplotlib.figure.Figure at 0x11492bc50>"
      ]
     },
     "metadata": {},
     "output_type": "display_data"
    }
   ],
   "source": [
    "ax = plt.subplots(figsize=(10, 5))\n",
    "sns.set(font_scale=1.6)\n",
    "\n",
    "data = neg_rmO_lm_b03[['neg_1_rate', 'neg_2_rate', 'neg_3_rate', 'neg_2_3_rate','neg_all_rate']].rename(\n",
    "    columns={'neg_1_rate': 'About Delivery',\n",
    "             'neg_2_rate': 'Dissatisfaction',\n",
    "             'neg_3_rate': 'Other Serious',\n",
    "             'neg_2_3_rate': 'Severity Complaints',\n",
    "             'neg_all_rate': 'All Complaints'})\n",
    "ax = sns.boxplot(data=data, orient=\"h\", palette=\"Set2\")"
   ]
  },
  {
   "cell_type": "code",
   "execution_count": null,
   "metadata": {},
   "outputs": [],
   "source": []
  }
 ],
 "metadata": {
  "kernelspec": {
   "display_name": "Python 3",
   "language": "python",
   "name": "python3"
  },
  "language_info": {
   "codemirror_mode": {
    "name": "ipython",
    "version": 3
   },
   "file_extension": ".py",
   "mimetype": "text/x-python",
   "name": "python",
   "nbconvert_exporter": "python",
   "pygments_lexer": "ipython3",
   "version": "3.6.1"
  }
 },
 "nbformat": 4,
 "nbformat_minor": 2
}
