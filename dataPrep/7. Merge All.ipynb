{
 "cells": [
  {
   "cell_type": "code",
   "execution_count": 75,
   "metadata": {},
   "outputs": [],
   "source": [
    "import pandas as pd\n",
    "import sqlite3\n",
    "import os\n",
    "import re\n",
    "import numpy as np"
   ]
  },
  {
   "cell_type": "code",
   "execution_count": 2,
   "metadata": {},
   "outputs": [],
   "source": [
    "directory = os.path.abspath(os.path.join(os.getcwd(), os.pardir))"
   ]
  },
  {
   "cell_type": "markdown",
   "metadata": {},
   "source": [
    "# Tools"
   ]
  },
  {
   "cell_type": "code",
   "execution_count": 3,
   "metadata": {},
   "outputs": [],
   "source": [
    "def pid_count(df, *the_rest):\n",
    "    def _cal(df):\n",
    "        return len(df.drop_duplicates('pid'))\n",
    "    print(*list(map(_cal, [df]+list(the_rest))), sep=', ')"
   ]
  },
  {
   "cell_type": "code",
   "execution_count": 4,
   "metadata": {},
   "outputs": [],
   "source": [
    "def save_db(db_name, df_name, *path):\n",
    "    if len(path) == 1:\n",
    "        conn_save = sqlite3.connect(directory + path[0] + db_name + '.db')\n",
    "    else:\n",
    "#         conn_save = sqlite3.connect(directory + '/' + db_name + '.db')\n",
    "        conn_save = sqlite3.connect(directory + '/dataPrep/source/overall/' + db_name + '.db')\n",
    "    df_name.to_sql(name=db_name, con=conn_save, if_exists='replace', index=False)"
   ]
  },
  {
   "cell_type": "markdown",
   "metadata": {},
   "source": [
    "# Data"
   ]
  },
  {
   "cell_type": "code",
   "execution_count": 5,
   "metadata": {},
   "outputs": [],
   "source": [
    "conn_proj_factor = sqlite3.connect(directory + '/dataPrep/source/constructs/' + 'proj_factor.db')\n",
    "proj_factor = pd.read_sql_query(\"SELECT * FROM proj_factor\", conn_proj_factor)\n",
    "\n",
    "conn_crt_exp = sqlite3.connect(directory + '/dataPrep/source/constructs/' + 'crt_exp.db')\n",
    "crt_exp = pd.read_sql_query(\"SELECT * FROM crt_exp\", conn_crt_exp)\n",
    "\n",
    "conn_interact_faq_upd = sqlite3.connect(directory + '/dataPrep/source/constructs/' + 'interact_faq_upd.db')\n",
    "interact_faq_upd = pd.read_sql_query(\"SELECT * FROM interact_faq_upd\", conn_interact_faq_upd)\n",
    "\n",
    "conn_interact_cmt = sqlite3.connect(directory + '/dataPrep/source/constructs/' + 'interact_cmt.db')\n",
    "interact_cmt = pd.read_sql_query(\"SELECT * FROM interact_cmt\", conn_interact_cmt)"
   ]
  },
  {
   "cell_type": "code",
   "execution_count": 8,
   "metadata": {},
   "outputs": [
    {
     "name": "stdout",
     "output_type": "stream",
     "text": [
      "2137, 2137, 2137, 2137\n"
     ]
    }
   ],
   "source": [
    "pid_count(proj_factor, crt_exp, interact_faq_upd, interact_cmt)"
   ]
  },
  {
   "cell_type": "code",
   "execution_count": 45,
   "metadata": {},
   "outputs": [],
   "source": [
    "conn_proj = sqlite3.connect(directory + '/dataPrep/source/ds_ind_26229/' + 'proj.db')\n",
    "proj = pd.read_sql_query(\"SELECT * FROM proj\", conn_proj)\n",
    "proj = proj[proj.pid.isin(proj_factor.pid)].copy()"
   ]
  },
  {
   "cell_type": "code",
   "execution_count": 32,
   "metadata": {},
   "outputs": [],
   "source": [
    "conn_rmO_lm_b03 = sqlite3.connect(directory + '/dataPrep/source/constructs/' + 'rmO_lm_b03.db')\n",
    "rmO_lm_b03 = pd.read_sql_query(\"SELECT * FROM rmO_lm_b03\", conn_rmO_lm_b03)\n",
    "\n",
    "conn_rmO_lm_b03_neg = sqlite3.connect(directory + '/dataPrep/source/constructs/' + 'rmO_lm_b03_neg.db')\n",
    "rmO_lm_b03_neg = pd.read_sql_query(\"SELECT * FROM rmO_lm_b03_neg\", conn_rmO_lm_b03_neg)"
   ]
  },
  {
   "cell_type": "code",
   "execution_count": 46,
   "metadata": {},
   "outputs": [
    {
     "name": "stdout",
     "output_type": "stream",
     "text": [
      "2137, 2137, 762\n"
     ]
    }
   ],
   "source": [
    "pid_count(proj, rmO_lm_b03, neg_rmO_lm_b03)"
   ]
  },
  {
   "cell_type": "code",
   "execution_count": 61,
   "metadata": {},
   "outputs": [],
   "source": [
    "conn_dates = sqlite3.connect(directory + '/dataPrep/source/overall/' + 'dates.db')\n",
    "dates = pd.read_sql_query(\"SELECT * FROM dates\", conn_dates)"
   ]
  },
  {
   "cell_type": "code",
   "execution_count": 81,
   "metadata": {
    "scrolled": true
   },
   "outputs": [
    {
     "data": {
      "text/plain": [
       "array(['pid', 'proj_category', 'proj_subcategory', 'proj_location',\n",
       "       'proj_currency', 'proj_goal', 'percent_raised', 'duration',\n",
       "       'proj_backer_count', 'has_collaborator', 'early_bird_count',\n",
       "       'rew_count', 'eb_rate', 'reward_quota_rate',\n",
       "       'reward_ship_limit_rate', 'body_length', 'body_image_count',\n",
       "       'body_video_count', 'cid', 'firstTime', 'created_count',\n",
       "       'created_suc_rate', 'backed_count', 'next_suc', 'has_faq',\n",
       "       'has_faq_0', 'has_faq_1', 'upd_count', 'upd_count_b', 'upd_freq',\n",
       "       'backer_only', 'upd_len', 'upd_image', 'upd_video', 'upd_avg_len',\n",
       "       'upd_avg_image', 'upd_avg_video', 'upd_count_0', 'upd_count_a_0',\n",
       "       'upd_freq_0', 'upd_len_0', 'upd_image_0', 'upd_video_0',\n",
       "       'upd_avg_len_0', 'upd_avg_image_0', 'upd_avg_video_0',\n",
       "       'upd_count_3', 'upd_count_a_3', 'upd_freq_3', 'upd_len_3',\n",
       "       'upd_image_3', 'upd_video_3', 'upd_avg_len_3', 'upd_avg_image_3',\n",
       "       'upd_avg_video_3', 'upd_count_6', 'upd_count_a_6', 'upd_freq_6',\n",
       "       'upd_len_6', 'upd_image_6', 'upd_video_6', 'upd_avg_len_6',\n",
       "       'upd_avg_image_6', 'upd_avg_video_6', 'upd_count_9',\n",
       "       'upd_count_a_9', 'upd_freq_9', 'upd_len_9', 'upd_image_9',\n",
       "       'upd_video_9', 'upd_avg_len_9', 'upd_avg_image_9',\n",
       "       'upd_avg_video_9', 'upd_count_1', 'upd_count_a_1', 'upd_freq_1',\n",
       "       'upd_len_1', 'upd_image_1', 'upd_video_1', 'upd_avg_len_1',\n",
       "       'upd_avg_image_1', 'upd_avg_video_1', 'upd_count_0103',\n",
       "       'upd_count_a_0103', 'upd_freq_0103', 'upd_len_0103',\n",
       "       'upd_image_0103', 'upd_video_0103', 'upd_avg_len_0103',\n",
       "       'upd_avg_image_0103', 'upd_avg_video_0103', 'upd_count_0406',\n",
       "       'upd_count_a_0406', 'upd_freq_0406', 'upd_len_0406',\n",
       "       'upd_image_0406', 'upd_video_0406', 'upd_avg_len_0406',\n",
       "       'upd_avg_image_0406', 'upd_avg_video_0406', 'upd_count_0709',\n",
       "       'upd_count_a_0709', 'upd_freq_0709', 'upd_len_0709',\n",
       "       'upd_image_0709', 'upd_video_0709', 'upd_avg_len_0709',\n",
       "       'upd_avg_image_0709', 'upd_avg_video_0709', 'upd_count_1012',\n",
       "       'upd_count_a_1012', 'upd_freq_1012', 'upd_len_1012',\n",
       "       'upd_image_1012', 'upd_video_1012', 'upd_avg_len_1012',\n",
       "       'upd_avg_image_1012', 'upd_avg_video_1012', 'upd_count_0106',\n",
       "       'upd_count_a_0106', 'upd_freq_0106', 'upd_len_0106',\n",
       "       'upd_image_0106', 'upd_video_0106', 'upd_avg_len_0106',\n",
       "       'upd_avg_image_0106', 'upd_avg_video_0106', 'upd_count_0712',\n",
       "       'upd_count_a_0712', 'upd_freq_0712', 'upd_len_0712',\n",
       "       'upd_image_0712', 'upd_video_0712', 'upd_avg_len_0712',\n",
       "       'upd_avg_image_0712', 'upd_avg_video_0712', 'cmt_count',\n",
       "       'cmt_crt_count', 'cmt_bac_count', 'cmt_collaborator', 'cmt_creator',\n",
       "       'cmt_superbaker', 'cmt_len', 'cmt_email', 'cmt_rpt_l', 'cmt_rpt_f',\n",
       "       'cmt_rbn', 'cmt_crt_rate', 'cmt_avg_len', 'cmt_avg_rpt_f',\n",
       "       'cmt_avg_rpt_l', 'cmt_email_rate', 'cmt_rbn_rate', 'cmt_count_0',\n",
       "       'cmt_crt_count_0', 'cmt_bac_count_0', 'cmt_len_0', 'cmt_rpt_l_0',\n",
       "       'cmt_rpt_f_0', 'cmt_email_0', 'cmt_rbn_0', 'cmt_crt_rate_0',\n",
       "       'cmt_avg_len_0', 'cmt_avg_rpt_f_0', 'cmt_avg_rpt_l_0',\n",
       "       'cmt_email_rate_0', 'cmt_rbn_rate_0', 'cmt_count_3',\n",
       "       'cmt_crt_count_3', 'cmt_bac_count_3', 'cmt_len_3', 'cmt_rpt_l_3',\n",
       "       'cmt_rpt_f_3', 'cmt_email_3', 'cmt_rbn_3', 'cmt_crt_rate_3',\n",
       "       'cmt_avg_len_3', 'cmt_avg_rpt_f_3', 'cmt_avg_rpt_l_3',\n",
       "       'cmt_email_rate_3', 'cmt_rbn_rate_3', 'cmt_count_6',\n",
       "       'cmt_crt_count_6', 'cmt_bac_count_6', 'cmt_len_6', 'cmt_rpt_l_6',\n",
       "       'cmt_rpt_f_6', 'cmt_email_6', 'cmt_rbn_6', 'cmt_crt_rate_6',\n",
       "       'cmt_avg_len_6', 'cmt_avg_rpt_f_6', 'cmt_avg_rpt_l_6',\n",
       "       'cmt_email_rate_6', 'cmt_rbn_rate_6', 'cmt_count_9',\n",
       "       'cmt_crt_count_9', 'cmt_bac_count_9', 'cmt_len_9', 'cmt_rpt_l_9',\n",
       "       'cmt_rpt_f_9', 'cmt_email_9', 'cmt_rbn_9', 'cmt_crt_rate_9',\n",
       "       'cmt_avg_len_9', 'cmt_avg_rpt_f_9', 'cmt_avg_rpt_l_9',\n",
       "       'cmt_email_rate_9', 'cmt_rbn_rate_9', 'cmt_count_1',\n",
       "       'cmt_crt_count_1', 'cmt_bac_count_1', 'cmt_len_1', 'cmt_rpt_l_1',\n",
       "       'cmt_rpt_f_1', 'cmt_email_1', 'cmt_rbn_1', 'cmt_crt_rate_1',\n",
       "       'cmt_avg_len_1', 'cmt_avg_rpt_f_1', 'cmt_avg_rpt_l_1',\n",
       "       'cmt_email_rate_1', 'cmt_rbn_rate_1', 'cmt_count_0103',\n",
       "       'cmt_crt_count_0103', 'cmt_bac_count_0103', 'cmt_len_0103',\n",
       "       'cmt_rpt_l_0103', 'cmt_rpt_f_0103', 'cmt_email_0103',\n",
       "       'cmt_rbn_0103', 'cmt_crt_rate_0103', 'cmt_avg_len_0103',\n",
       "       'cmt_avg_rpt_f_0103', 'cmt_avg_rpt_l_0103', 'cmt_email_rate_0103',\n",
       "       'cmt_rbn_rate_0103', 'cmt_count_0406', 'cmt_crt_count_0406',\n",
       "       'cmt_bac_count_0406', 'cmt_len_0406', 'cmt_rpt_l_0406',\n",
       "       'cmt_rpt_f_0406', 'cmt_email_0406', 'cmt_rbn_0406',\n",
       "       'cmt_crt_rate_0406', 'cmt_avg_len_0406', 'cmt_avg_rpt_f_0406',\n",
       "       'cmt_avg_rpt_l_0406', 'cmt_email_rate_0406', 'cmt_rbn_rate_0406',\n",
       "       'cmt_count_0709', 'cmt_crt_count_0709', 'cmt_bac_count_0709',\n",
       "       'cmt_len_0709', 'cmt_rpt_l_0709', 'cmt_rpt_f_0709',\n",
       "       'cmt_email_0709', 'cmt_rbn_0709', 'cmt_crt_rate_0709',\n",
       "       'cmt_avg_len_0709', 'cmt_avg_rpt_f_0709', 'cmt_avg_rpt_l_0709',\n",
       "       'cmt_email_rate_0709', 'cmt_rbn_rate_0709', 'cmt_count_1012',\n",
       "       'cmt_crt_count_1012', 'cmt_bac_count_1012', 'cmt_len_1012',\n",
       "       'cmt_rpt_l_1012', 'cmt_rpt_f_1012', 'cmt_email_1012',\n",
       "       'cmt_rbn_1012', 'cmt_crt_rate_1012', 'cmt_avg_len_1012',\n",
       "       'cmt_avg_rpt_f_1012', 'cmt_avg_rpt_l_1012', 'cmt_email_rate_1012',\n",
       "       'cmt_rbn_rate_1012', 'cmt_count_0106', 'cmt_crt_count_0106',\n",
       "       'cmt_bac_count_0106', 'cmt_len_0106', 'cmt_rpt_l_0106',\n",
       "       'cmt_rpt_f_0106', 'cmt_email_0106', 'cmt_rbn_0106',\n",
       "       'cmt_crt_rate_0106', 'cmt_avg_len_0106', 'cmt_avg_rpt_f_0106',\n",
       "       'cmt_avg_rpt_l_0106', 'cmt_email_rate_0106', 'cmt_rbn_rate_0106',\n",
       "       'cmt_count_0712', 'cmt_crt_count_0712', 'cmt_bac_count_0712',\n",
       "       'cmt_len_0712', 'cmt_rpt_l_0712', 'cmt_rpt_f_0712',\n",
       "       'cmt_email_0712', 'cmt_rbn_0712', 'cmt_crt_rate_0712',\n",
       "       'cmt_avg_len_0712', 'cmt_avg_rpt_f_0712', 'cmt_avg_rpt_l_0712',\n",
       "       'cmt_email_rate_0712', 'cmt_rbn_rate_0712', 'cmt_total',\n",
       "       'backer_cmt', 'backer_rate', 'neg_1', 'neg_2', 'neg_3', 'neg_all',\n",
       "       'neg_2_3', 'neg_1_rate', 'neg_2_rate', 'neg_3_rate', 'neg_all_rate',\n",
       "       'neg_2_3_rate', 'severity', 'waiting_days', 'early_bird',\n",
       "       'ship_limit'], dtype=object)"
      ]
     },
     "execution_count": 81,
     "metadata": {},
     "output_type": "execute_result"
    }
   ],
   "source": [
    "mergeAll.head(1).columns.values"
   ]
  },
  {
   "cell_type": "markdown",
   "metadata": {},
   "source": [
    "# Merge"
   ]
  },
  {
   "cell_type": "code",
   "execution_count": 93,
   "metadata": {},
   "outputs": [],
   "source": [
    "proj = proj[['pid', 'proj_start_date', 'proj_end_date', 'proj_url']].copy()\n",
    "proj.proj_start_date = proj.proj_start_date.apply(lambda str_date: re.sub('T.*', '', str_date))\n",
    "proj.proj_start_date = proj.proj_start_date.apply(\n",
    "    lambda str_date: datetime.datetime.strptime(str_date, \"%Y-%m-%d\"))\n",
    "proj.proj_end_date = proj.proj_end_date.apply(lambda str_date: re.sub('T.*', '', str_date))\n",
    "proj.proj_end_date = proj.proj_end_date.apply(\n",
    "    lambda str_date: datetime.datetime.strptime(str_date, \"%Y-%m-%d\"))\n",
    "proj.proj_url = proj.proj_url.apply(lambda i: re.sub(' ', '', i))"
   ]
  },
  {
   "cell_type": "code",
   "execution_count": 16,
   "metadata": {},
   "outputs": [],
   "source": [
    "mergeAll = proj.merge(proj_factor, on=['pid'])\n",
    "mergeAll = mergeAll.merge(crt_exp, on=['pid'])\n",
    "mergeAll = mergeAll.merge(interact_faq_upd, on=['pid'])\n",
    "mergeAll = mergeAll.merge(interact_cmt, on=['pid']).copy()"
   ]
  },
  {
   "cell_type": "code",
   "execution_count": 34,
   "metadata": {},
   "outputs": [],
   "source": [
    "mergeAll = mergeAll.merge(rmO_lm_b03[[\n",
    "    'pid', 'cmt_total', 'backer_cmt', 'backer_rate', 'neg_1', 'neg_2', 'neg_3', 'neg_all', 'neg_2_3',\n",
    "    'neg_1_rate', 'neg_2_rate', 'neg_3_rate', 'neg_all_rate', 'neg_2_3_rate']], on=['pid'])"
   ]
  },
  {
   "cell_type": "code",
   "execution_count": 38,
   "metadata": {},
   "outputs": [],
   "source": [
    "# check whether is severe case\n",
    "mergeAll['severity'] = mergeAll.neg_2_3_rate > mergeAll.neg_all_rate * 0.5\n",
    "mergeAll.severity = mergeAll.severity.apply(lambda i: 1 if i==True else 0)"
   ]
  },
  {
   "cell_type": "code",
   "execution_count": 72,
   "metadata": {},
   "outputs": [],
   "source": [
    "# calculate creation period\n",
    "creation_period = dates[['pid', 'first_date', 'proj_end_date']].copy()\n",
    "creation_period.first_date = creation_period.first_date.apply(\n",
    "    lambda str_date: datetime.datetime.strptime(str_date, \"%Y-%m-%d %H:%M:%S\"))\n",
    "creation_period.proj_end_date = creation_period.proj_end_date.apply(\n",
    "    lambda str_date: datetime.datetime.strptime(str_date, \"%Y-%m-%d %H:%M:%S\"))\n",
    "\n",
    "creation_period['waiting_days'] = creation_period.first_date - creation_period.proj_end_date\n",
    "creation_period.waiting_days = creation_period.waiting_days.apply(lambda td: (td / np.timedelta64(1, 'D')).astype(int))\n",
    "\n",
    "mergeAll = mergeAll.merge(creation_period[['pid', 'waiting_days']], on=['pid'])"
   ]
  },
  {
   "cell_type": "code",
   "execution_count": 80,
   "metadata": {},
   "outputs": [],
   "source": [
    "# check whether using early bird and shipping limit\n",
    "mergeAll['early_bird'] = mergeAll.eb_rate > 0\n",
    "mergeAll.early_bird = mergeAll.early_bird.apply(lambda i: 1 if i==True else 0)\n",
    "\n",
    "mergeAll['ship_limit'] = mergeAll.reward_ship_limit_rate > 0\n",
    "mergeAll.ship_limit = mergeAll.ship_limit.apply(lambda i: 1 if i==True else 0)"
   ]
  },
  {
   "cell_type": "code",
   "execution_count": 97,
   "metadata": {},
   "outputs": [],
   "source": [
    "save_db('mergeAll', mergeAll)"
   ]
  },
  {
   "cell_type": "code",
   "execution_count": 103,
   "metadata": {},
   "outputs": [],
   "source": [
    "dataset = mergeAll[[\n",
    "    'pid', 'proj_start_date', 'proj_end_date', 'waiting_days',\n",
    "    'proj_category', 'proj_subcategory', 'proj_url', 'percent_raised',\n",
    "    'duration', 'proj_backer_count', 'early_bird', 'ship_limit',\n",
    "    'body_length', 'body_image_count', 'body_video_count', 'has_faq',\n",
    "    'firstTime', 'created_count', 'backed_count', \n",
    "    \n",
    "    'upd_count_0',\n",
    "    'upd_avg_len_0', 'upd_avg_image_0', 'upd_avg_video_0',\n",
    "    'cmt_crt_rate_0', 'cmt_avg_len_0', 'cmt_avg_rpt_l_0',\n",
    "    'cmt_email_rate_0', 'cmt_rbn_rate_0', \n",
    "    \n",
    "    'upd_count_1',\n",
    "    'upd_avg_len_1', 'upd_avg_image_1', 'upd_avg_video_1',\n",
    "    'cmt_crt_rate_1', 'cmt_avg_len_1', 'cmt_avg_rpt_l_1',\n",
    "    'cmt_email_rate_1', 'cmt_rbn_rate_1', \n",
    "    \n",
    "    'upd_count_0106',\n",
    "    'upd_avg_len_0106', 'upd_avg_image_0106', 'upd_avg_video_0106',\n",
    "    'cmt_crt_rate_0106', 'cmt_avg_len_0106', 'cmt_avg_rpt_l_0106',\n",
    "    'cmt_email_rate_0106', 'cmt_rbn_rate_0106', \n",
    "    \n",
    "    'upd_count_0712',\n",
    "    'upd_avg_len_0712', 'upd_avg_image_0712', 'upd_avg_video_0712',\n",
    "    'cmt_crt_rate_0712', 'cmt_avg_len_0712', 'cmt_avg_rpt_l_0712',\n",
    "    'cmt_email_rate_0712', 'cmt_rbn_rate_0712', \n",
    "    \n",
    "    'neg_1_rate','neg_2_rate', 'neg_3_rate', 'neg_2_3_rate', 'neg_all_rate', 'severity']]"
   ]
  },
  {
   "cell_type": "code",
   "execution_count": 108,
   "metadata": {},
   "outputs": [],
   "source": [
    "dataset = dataset.rename(index=str, columns={\n",
    "    'percent_raised':'percentRaised',\n",
    "    'duration':'projectDuration',    \n",
    "    'proj_backer_count':'backers',\n",
    "    'early_bird':'earlyBird',\n",
    "    'ship_limit':'limit',\n",
    "    'body_length':'word_count',\n",
    "    'body_image_count':'image_count', \n",
    "    'body_video_count':'video_count',\n",
    "    'has_faq':'faqs',\n",
    "    'firstTime':'novice',\n",
    "    'created_count':'created',\n",
    "    'backed_count':'backed',\n",
    "    'upd_count_0':'updates_BEDD',\n",
    "    'upd_avg_len_0':'upd_avg_word_BEDD', \n",
    "    'upd_avg_image_0':'upd_avg_image_BEDD',\n",
    "    'upd_avg_video_0':'upd_avg_video_BEDD', \n",
    "    'cmt_crt_rate_0':'replyRate_BEDD', \n",
    "    'cmt_avg_len_0':'avgWord_BEDD',\n",
    "    'cmt_avg_rpt_l_0':'avgTime_BEDD', \n",
    "    'cmt_email_rate_0':'emailRate_BEDD', \n",
    "    'cmt_rbn_rate_0':'nameRate_BEDD', \n",
    "    'upd_count_1':'updates_AEDD',\n",
    "    'upd_avg_len_1':'upd_avg_word_AEDD', \n",
    "    'upd_avg_image_1':'upd_avg_image_AEDD', \n",
    "    'upd_avg_video_1':'upd_avg_video_AEDD',\n",
    "    'cmt_crt_rate_1':'replyRate_AEDD', \n",
    "    'cmt_avg_len_1':'avgWord_AEDD', \n",
    "    'cmt_avg_rpt_l_1':'avgTime_AEDD', \n",
    "    'cmt_email_rate_1':'emailRate_AEDD',\n",
    "    'cmt_rbn_rate_1':'nameRate_AEDD', \n",
    "    'upd_count_0106':'updates_0106', \n",
    "    'upd_avg_len_0106':'upd_avg_word_0106', \n",
    "    'cmt_crt_rate_0106':'replyRate_0106',\n",
    "    'cmt_avg_len_0106':'avgWord_0106', \n",
    "    'cmt_avg_rpt_l_0106':'avgTime_0106', \n",
    "    'cmt_email_rate_0106':'emailRate_0106', \n",
    "    'cmt_rbn_rate_0106':'nameRate_0106',\n",
    "    'upd_count_0712':'updates_0712', \n",
    "    'upd_avg_len_0712':'upd_avg_word_0712', \n",
    "    'cmt_crt_rate_0712':'replyRate_0712', \n",
    "    'cmt_avg_len_0712':'avgWord_0712',\n",
    "    'cmt_avg_rpt_l_0712':'avgTime_0712', \n",
    "    'cmt_email_rate_0712':'emailRate_0712', \n",
    "    'cmt_rbn_rate_0712':'nameRate_0712',\n",
    "    'neg_all_rate':'complaintRate'})"
   ]
  },
  {
   "cell_type": "markdown",
   "metadata": {},
   "source": [
    "# Null Value"
   ]
  },
  {
   "cell_type": "code",
   "execution_count": 109,
   "metadata": {
    "scrolled": true
   },
   "outputs": [
    {
     "name": "stdout",
     "output_type": "stream",
     "text": [
      "updates_BEDD\n",
      "upd_avg_word_BEDD\n",
      "upd_avg_image_BEDD\n",
      "upd_avg_video_BEDD\n",
      "replyRate_BEDD\n",
      "avgWord_BEDD\n",
      "avgTime_BEDD\n",
      "emailRate_BEDD\n",
      "nameRate_BEDD\n",
      "updates_AEDD\n",
      "upd_avg_word_AEDD\n",
      "upd_avg_image_AEDD\n",
      "upd_avg_video_AEDD\n",
      "replyRate_AEDD\n",
      "avgWord_AEDD\n",
      "avgTime_AEDD\n",
      "emailRate_AEDD\n",
      "nameRate_AEDD\n",
      "updates_0106\n",
      "upd_avg_word_0106\n",
      "upd_avg_image_0106\n",
      "upd_avg_video_0106\n",
      "replyRate_0106\n",
      "avgWord_0106\n",
      "avgTime_0106\n",
      "emailRate_0106\n",
      "nameRate_0106\n",
      "updates_0712\n",
      "upd_avg_word_0712\n",
      "upd_avg_image_0712\n",
      "upd_avg_video_0712\n",
      "replyRate_0712\n",
      "avgWord_0712\n",
      "avgTime_0712\n",
      "emailRate_0712\n",
      "nameRate_0712\n",
      "neg_1_rate\n",
      "neg_2_rate\n",
      "neg_3_rate\n",
      "neg_2_3_rate\n",
      "complaintRate\n"
     ]
    }
   ],
   "source": [
    "count = 0\n",
    "for i in dataset.columns.values.tolist():\n",
    "    while dataset[i].isnull().values.any(): count+=1;print(i); break"
   ]
  },
  {
   "cell_type": "code",
   "execution_count": 121,
   "metadata": {},
   "outputs": [],
   "source": [
    "fill_0 = [\n",
    "'updates_BEDD',\n",
    "'updates_AEDD',\n",
    "'updates_0106',\n",
    "'updates_0712',\n",
    "'neg_1_rate','neg_2_rate','neg_3_rate', 'neg_2_3_rate', 'complaintRate'\n",
    "]\n",
    "\n",
    "fill_mean = [\n",
    "    'replyRate_BEDD','replyRate_AEDD','replyRate_0106','replyRate_0712',\n",
    "    \n",
    "    'upd_avg_word_BEDD','upd_avg_image_BEDD','upd_avg_video_BEDD',\n",
    "    'avgWord_BEDD','avgTime_BEDD','emailRate_BEDD','nameRate_BEDD',\n",
    "    \n",
    "    'upd_avg_word_AEDD','upd_avg_image_AEDD','upd_avg_video_AEDD',\n",
    "    'avgWord_AEDD','avgTime_AEDD','emailRate_AEDD','nameRate_AEDD',\n",
    "    \n",
    "    'upd_avg_word_0106','upd_avg_image_0106','upd_avg_video_0106',\n",
    "    'avgWord_0106','avgTime_0106','emailRate_0106','nameRate_0106',\n",
    "    \n",
    "    'upd_avg_word_0712','upd_avg_image_0712','upd_avg_video_0712',\n",
    "    'avgWord_0712','avgTime_0712','emailRate_0712','nameRate_0712']\n",
    "    "
   ]
  },
  {
   "cell_type": "code",
   "execution_count": 122,
   "metadata": {},
   "outputs": [],
   "source": [
    "dataSet_fill0 = dataset.copy()\n",
    "for i in fill_0:\n",
    "    dataSet_fill0[i] = dataSet_fill0[i].fillna(0)"
   ]
  },
  {
   "cell_type": "code",
   "execution_count": 123,
   "metadata": {},
   "outputs": [],
   "source": [
    "dataSet_fillMean = dataSet_fill0.copy()\n",
    "for i in fill_mean:\n",
    "    dataSet_fillMean[i] = dataSet_fillMean[i].fillna(dataSet_fillMean[i].mean())"
   ]
  },
  {
   "cell_type": "code",
   "execution_count": 124,
   "metadata": {},
   "outputs": [],
   "source": [
    "count = 0\n",
    "for i in dataSet_fillMean.columns.values.tolist():\n",
    "    while dataSet_fillMean[i].isnull().values.any(): count+=1;print(i); break"
   ]
  },
  {
   "cell_type": "code",
   "execution_count": 126,
   "metadata": {},
   "outputs": [
    {
     "data": {
      "text/html": [
       "<div>\n",
       "<style>\n",
       "    .dataframe thead tr:only-child th {\n",
       "        text-align: right;\n",
       "    }\n",
       "\n",
       "    .dataframe thead th {\n",
       "        text-align: left;\n",
       "    }\n",
       "\n",
       "    .dataframe tbody tr th {\n",
       "        vertical-align: top;\n",
       "    }\n",
       "</style>\n",
       "<table border=\"1\" class=\"dataframe\">\n",
       "  <thead>\n",
       "    <tr style=\"text-align: right;\">\n",
       "      <th></th>\n",
       "      <th>pid</th>\n",
       "      <th>proj_start_date</th>\n",
       "      <th>proj_end_date</th>\n",
       "      <th>waiting_days</th>\n",
       "      <th>proj_category</th>\n",
       "      <th>proj_subcategory</th>\n",
       "      <th>proj_url</th>\n",
       "      <th>percentRaised</th>\n",
       "      <th>projectDuration</th>\n",
       "      <th>backers</th>\n",
       "      <th>...</th>\n",
       "      <th>avgWord_0712</th>\n",
       "      <th>avgTime_0712</th>\n",
       "      <th>emailRate_0712</th>\n",
       "      <th>nameRate_0712</th>\n",
       "      <th>neg_1_rate</th>\n",
       "      <th>neg_2_rate</th>\n",
       "      <th>neg_3_rate</th>\n",
       "      <th>neg_2_3_rate</th>\n",
       "      <th>complaintRate</th>\n",
       "      <th>severity</th>\n",
       "    </tr>\n",
       "  </thead>\n",
       "  <tbody>\n",
       "    <tr>\n",
       "      <th>0</th>\n",
       "      <td>156564766</td>\n",
       "      <td>2016-02-10</td>\n",
       "      <td>2016-03-11</td>\n",
       "      <td>21</td>\n",
       "      <td>design</td>\n",
       "      <td>Product Design</td>\n",
       "      <td>https://www.kickstarter.com/projects/541540245...</td>\n",
       "      <td>1.035771</td>\n",
       "      <td>30</td>\n",
       "      <td>508.0</td>\n",
       "      <td>...</td>\n",
       "      <td>40.600000</td>\n",
       "      <td>1.186699</td>\n",
       "      <td>0.000000</td>\n",
       "      <td>0.800000</td>\n",
       "      <td>0.240000</td>\n",
       "      <td>0.130000</td>\n",
       "      <td>0.030000</td>\n",
       "      <td>0.150000</td>\n",
       "      <td>0.370000</td>\n",
       "      <td>0</td>\n",
       "    </tr>\n",
       "    <tr>\n",
       "      <th>1</th>\n",
       "      <td>52884144</td>\n",
       "      <td>2015-12-07</td>\n",
       "      <td>2016-01-19</td>\n",
       "      <td>73</td>\n",
       "      <td>design</td>\n",
       "      <td>Product Design</td>\n",
       "      <td>https://www.kickstarter.com/projects/123777977...</td>\n",
       "      <td>11.327083</td>\n",
       "      <td>43</td>\n",
       "      <td>674.0</td>\n",
       "      <td>...</td>\n",
       "      <td>25.000000</td>\n",
       "      <td>3.236111</td>\n",
       "      <td>0.000000</td>\n",
       "      <td>1.000000</td>\n",
       "      <td>0.150327</td>\n",
       "      <td>0.137255</td>\n",
       "      <td>0.000000</td>\n",
       "      <td>0.137255</td>\n",
       "      <td>0.267974</td>\n",
       "      <td>1</td>\n",
       "    </tr>\n",
       "    <tr>\n",
       "      <th>2</th>\n",
       "      <td>1770840100</td>\n",
       "      <td>2016-01-16</td>\n",
       "      <td>2016-03-01</td>\n",
       "      <td>31</td>\n",
       "      <td>design</td>\n",
       "      <td>Product Design</td>\n",
       "      <td>https://www.kickstarter.com/projects/optiscoop...</td>\n",
       "      <td>1.089200</td>\n",
       "      <td>45</td>\n",
       "      <td>228.0</td>\n",
       "      <td>...</td>\n",
       "      <td>30.325107</td>\n",
       "      <td>3.776239</td>\n",
       "      <td>0.103495</td>\n",
       "      <td>0.723373</td>\n",
       "      <td>0.454545</td>\n",
       "      <td>0.090909</td>\n",
       "      <td>0.000000</td>\n",
       "      <td>0.090909</td>\n",
       "      <td>0.545455</td>\n",
       "      <td>0</td>\n",
       "    </tr>\n",
       "    <tr>\n",
       "      <th>3</th>\n",
       "      <td>1907099186</td>\n",
       "      <td>2016-01-05</td>\n",
       "      <td>2016-02-19</td>\n",
       "      <td>11</td>\n",
       "      <td>technology</td>\n",
       "      <td>Hardware</td>\n",
       "      <td>https://www.kickstarter.com/projects/593018456...</td>\n",
       "      <td>3.530480</td>\n",
       "      <td>45</td>\n",
       "      <td>541.0</td>\n",
       "      <td>...</td>\n",
       "      <td>95.777778</td>\n",
       "      <td>0.207773</td>\n",
       "      <td>0.222222</td>\n",
       "      <td>0.555556</td>\n",
       "      <td>0.171515</td>\n",
       "      <td>0.125376</td>\n",
       "      <td>0.054664</td>\n",
       "      <td>0.166499</td>\n",
       "      <td>0.299900</td>\n",
       "      <td>1</td>\n",
       "    </tr>\n",
       "    <tr>\n",
       "      <th>4</th>\n",
       "      <td>215985998</td>\n",
       "      <td>2015-04-14</td>\n",
       "      <td>2015-05-15</td>\n",
       "      <td>231</td>\n",
       "      <td>games</td>\n",
       "      <td>Tabletop Games</td>\n",
       "      <td>https://www.kickstarter.com/projects/ruddygame...</td>\n",
       "      <td>2.239200</td>\n",
       "      <td>30</td>\n",
       "      <td>1049.0</td>\n",
       "      <td>...</td>\n",
       "      <td>30.325107</td>\n",
       "      <td>3.776239</td>\n",
       "      <td>0.103495</td>\n",
       "      <td>0.723373</td>\n",
       "      <td>0.053571</td>\n",
       "      <td>0.035714</td>\n",
       "      <td>0.000000</td>\n",
       "      <td>0.035714</td>\n",
       "      <td>0.089286</td>\n",
       "      <td>0</td>\n",
       "    </tr>\n",
       "  </tbody>\n",
       "</table>\n",
       "<p>5 rows × 61 columns</p>\n",
       "</div>"
      ],
      "text/plain": [
       "          pid proj_start_date proj_end_date  waiting_days proj_category  \\\n",
       "0   156564766      2016-02-10    2016-03-11            21        design   \n",
       "1    52884144      2015-12-07    2016-01-19            73        design   \n",
       "2  1770840100      2016-01-16    2016-03-01            31        design   \n",
       "3  1907099186      2016-01-05    2016-02-19            11    technology   \n",
       "4   215985998      2015-04-14    2015-05-15           231         games   \n",
       "\n",
       "  proj_subcategory                                           proj_url  \\\n",
       "0   Product Design  https://www.kickstarter.com/projects/541540245...   \n",
       "1   Product Design  https://www.kickstarter.com/projects/123777977...   \n",
       "2   Product Design  https://www.kickstarter.com/projects/optiscoop...   \n",
       "3         Hardware  https://www.kickstarter.com/projects/593018456...   \n",
       "4   Tabletop Games  https://www.kickstarter.com/projects/ruddygame...   \n",
       "\n",
       "   percentRaised  projectDuration  backers    ...     avgWord_0712  \\\n",
       "0       1.035771               30    508.0    ...        40.600000   \n",
       "1      11.327083               43    674.0    ...        25.000000   \n",
       "2       1.089200               45    228.0    ...        30.325107   \n",
       "3       3.530480               45    541.0    ...        95.777778   \n",
       "4       2.239200               30   1049.0    ...        30.325107   \n",
       "\n",
       "   avgTime_0712  emailRate_0712  nameRate_0712  neg_1_rate  neg_2_rate  \\\n",
       "0      1.186699        0.000000       0.800000    0.240000    0.130000   \n",
       "1      3.236111        0.000000       1.000000    0.150327    0.137255   \n",
       "2      3.776239        0.103495       0.723373    0.454545    0.090909   \n",
       "3      0.207773        0.222222       0.555556    0.171515    0.125376   \n",
       "4      3.776239        0.103495       0.723373    0.053571    0.035714   \n",
       "\n",
       "   neg_3_rate  neg_2_3_rate  complaintRate  severity  \n",
       "0    0.030000      0.150000       0.370000         0  \n",
       "1    0.000000      0.137255       0.267974         1  \n",
       "2    0.000000      0.090909       0.545455         0  \n",
       "3    0.054664      0.166499       0.299900         1  \n",
       "4    0.000000      0.035714       0.089286         0  \n",
       "\n",
       "[5 rows x 61 columns]"
      ]
     },
     "execution_count": 126,
     "metadata": {},
     "output_type": "execute_result"
    }
   ],
   "source": [
    "dataSet_fillMean.head()"
   ]
  },
  {
   "cell_type": "code",
   "execution_count": null,
   "metadata": {},
   "outputs": [],
   "source": [
    "save_db()"
   ]
  },
  {
   "cell_type": "code",
   "execution_count": 259,
   "metadata": {},
   "outputs": [],
   "source": [
    "dataSet_fillMean.to_csv(directory + '/' + 'dataSet_fillMean0509' + '.csv', encoding='utf-8-sig')"
   ]
  },
  {
   "cell_type": "code",
   "execution_count": null,
   "metadata": {},
   "outputs": [],
   "source": []
  },
  {
   "cell_type": "code",
   "execution_count": null,
   "metadata": {},
   "outputs": [],
   "source": []
  }
 ],
 "metadata": {
  "kernelspec": {
   "display_name": "Python 3",
   "language": "python",
   "name": "python3"
  },
  "language_info": {
   "codemirror_mode": {
    "name": "ipython",
    "version": 3
   },
   "file_extension": ".py",
   "mimetype": "text/x-python",
   "name": "python",
   "nbconvert_exporter": "python",
   "pygments_lexer": "ipython3",
   "version": "3.6.1"
  }
 },
 "nbformat": 4,
 "nbformat_minor": 2
}
