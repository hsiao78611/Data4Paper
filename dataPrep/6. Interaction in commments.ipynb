{
 "cells": [
  {
   "cell_type": "code",
   "execution_count": 1,
   "metadata": {},
   "outputs": [],
   "source": [
    "import os\n",
    "import sqlite3\n",
    "import pandas as pd\n",
    "import re\n",
    "import datetime\n",
    "import numpy as np\n",
    "import time\n",
    "from dateutil.relativedelta import relativedelta"
   ]
  },
  {
   "cell_type": "code",
   "execution_count": 2,
   "metadata": {},
   "outputs": [],
   "source": [
    "directory = os.path.abspath(os.path.join(os.getcwd(), os.pardir))"
   ]
  },
  {
   "cell_type": "markdown",
   "metadata": {},
   "source": [
    "# Tools"
   ]
  },
  {
   "cell_type": "code",
   "execution_count": 4,
   "metadata": {},
   "outputs": [],
   "source": [
    "from nltk.tokenize import sent_tokenize\n",
    "from nltk.tokenize import word_tokenize\n",
    "from nltk.corpus import stopwords\n",
    "import string\n",
    "from bs4 import BeautifulSoup\n",
    "stops = set(stopwords.words(\"english\"))\n",
    "regex = re.compile('[%s]' % re.escape(string.punctuation))\n",
    "words = word_tokenize(regex.sub('', 'text sdsd, and sds')) \n",
    "words = [word for word in words if word not in stops]"
   ]
  },
  {
   "cell_type": "code",
   "execution_count": 60,
   "metadata": {},
   "outputs": [],
   "source": [
    "def count_length(body):\n",
    "    text = re.sub('\\n+', ' ', body).replace('\\xa0', '')\n",
    "    words = word_tokenize(regex.sub('', text))\n",
    "    words = [word for word in words if word not in stops]\n",
    "    return len(words)\n",
    "\n",
    "def image_count(body):\n",
    "    soup = BeautifulSoup(body, 'lxml')\n",
    "    tags = soup.find_all('figure')\n",
    "    image_count = len(tags)\n",
    "    for tag in tags:\n",
    "        if tag.find('div', class_='video-player') != None:\n",
    "            image_count = image_count - 1\n",
    "    return image_count\n",
    "\n",
    "def video_count(body):\n",
    "    soup = BeautifulSoup(body, 'lxml')\n",
    "    video_count = len(soup.find_all('div', class_='video-player')) + len(soup.find_all('iframe'))\n",
    "    return video_count\n",
    "\n",
    "# do it before separating.\n",
    "def reply_time_last(cmt):\n",
    "    num = len(cmt)\n",
    "    result = pd.DataFrame({'pid':[], 'cmt_id':[], 'cmt_datetime':[], 'cmt_rpt_l':[]})\n",
    "    for i in range(num):\n",
    "        pid = cmt.iloc[i].pid\n",
    "        cmt_datetime = cmt.iloc[i].cmt_datetime\n",
    "        cmt_id = cmt.iloc[i].cmt_id\n",
    "        if (cmt.iloc[i].cmt_collaborator != 0) & (i != num-1):\n",
    "            if (cmt.iloc[i + 1].cmt_collaborator == 0) & (cmt.iloc[i + 1].pid == pid):\n",
    "                rep_time = cmt.iloc[i].cmt_datetime - cmt.iloc[i + 1].cmt_datetime\n",
    "                df_temp = pd.DataFrame({'pid':[pid], 'cmt_id':[cmt_id], \n",
    "                                        'cmt_datetime':[cmt_datetime], 'cmt_rpt_l':[rep_time]})\n",
    "                result = result.append(df_temp)\n",
    "    return result\n",
    "\n",
    "# another version\n",
    "def reply_time_first(cmt):\n",
    "    num = len(cmt)\n",
    "    result = pd.DataFrame({'pid':[], 'cmt_id':[], 'cmt_datetime':[], 'cmt_rpt_f':[]})\n",
    "    for i in range(num):\n",
    "        pid = cmt.iloc[i].pid\n",
    "        cmt_datetime = cmt.iloc[i].cmt_datetime\n",
    "        cmt_id = cmt.iloc[i].cmt_id\n",
    "        if (cmt.iloc[i].cmt_collaborator != 0) & (i != num-1):\n",
    "            j = i\n",
    "            while (cmt.iloc[j + 1].cmt_collaborator == 0) & (cmt.iloc[j + 1].pid == pid):\n",
    "                j = j + 1\n",
    "                if j == num-1: \n",
    "                    break\n",
    "            if i != j:\n",
    "                rep_time = cmt.iloc[i].cmt_datetime - cmt.iloc[j].cmt_datetime\n",
    "                df_temp = pd.DataFrame({'pid':[pid], 'cmt_id':[cmt_id], 'cmt_datetime':[cmt_datetime], \n",
    "                                        'cmt_rpt_f':[rep_time]})\n",
    "                result = result.append(df_temp)\n",
    "    return result\n",
    "\n",
    "def wait_rep(cmt):\n",
    "    num = len(cmt)\n",
    "    result = pd.DataFrame({'pid':[], 'cmt_id':[], 'cmt_datetime':[], 'cmt_wt':[]})\n",
    "    for i in range(num):\n",
    "        pid = cmt.iloc[i].pid\n",
    "        cmt_datetime = cmt.iloc[i].cmt_datetime\n",
    "        cmt_id = cmt.iloc[i].cmt_id\n",
    "        if (cmt.iloc[i].cmt_collaborator != 0) & (i != num-1):\n",
    "            j = i\n",
    "            while (cmt.iloc[j + 1].cmt_collaborator == 0) & (cmt.iloc[j + 1].pid == pid):\n",
    "                j = j + 1\n",
    "                if j == num-1: \n",
    "                    break\n",
    "            if i != j:\n",
    "                num_bac = j-i\n",
    "                df_temp = pd.DataFrame({'pid':[pid], 'cmt_id':[cmt_id], 'cmt_datetime':[cmt_datetime], \n",
    "                                        'cmt_wt':[num_bac]})\n",
    "                result = result.append(df_temp)\n",
    "    return result\n",
    "\n",
    "\n",
    "# list backers' names by projects\n",
    "def name_list(df):\n",
    "    pid_lst = df.pid.drop_duplicates().tolist()\n",
    "    result = pd.DataFrame({'pid':[], 'name_lst':[]})\n",
    "    for i in range(len(pid_lst)):\n",
    "        pid = pid_lst[i]\n",
    "        name_lst = list(set(cmt_all_n[(cmt_all_n.pid==pid) & (cmt_all_n.cmt_collaborator==0)].first_name))\n",
    "        df_temp = pd.DataFrame({'pid':[pid], 'name_lst':[name_lst]})\n",
    "        result = result.append(df_temp)\n",
    "    return result\n",
    "\n",
    "\n",
    "def check_rep(cmt): # True or list of strings\n",
    "    def _filter(str_lst):\n",
    "        temp = str_lst.copy()\n",
    "        for x in range(len(temp)):\n",
    "            if (temp[x][:1]=='@'):\n",
    "                temp = True\n",
    "                return temp\n",
    "            else:\n",
    "                temp[x] = temp[x][:40]\n",
    "        return temp \n",
    "    def _check_names(cmt_df):\n",
    "        def _names(pid):\n",
    "            return pid_name[pid_name.pid==pid].name_lst[0]\n",
    "        df_temp = cmt_df.copy()\n",
    "\n",
    "        pid = df_temp.iloc[0].pid \n",
    "        last_loc = len(df_temp[df_temp.pid==pid])\n",
    "        names = _names(pid)\n",
    "\n",
    "        for i in range(len(cmt_df)):\n",
    "            while i >= last_loc:\n",
    "                pid = df_temp.iloc[i].pid  \n",
    "                last_loc = last_loc + len(df_temp[df_temp.pid==pid])\n",
    "                names = _names(pid)\n",
    "\n",
    "            str_lst = df_temp.iloc[i].cmt_content\n",
    "            if str_lst!=True:\n",
    "                df_temp.iloc[i, df_temp.columns.get_loc('cmt_content')] = any(\n",
    "                    y in x for x in str_lst for y in names)\n",
    "        return df_temp.cmt_content\n",
    "    \n",
    "    df_temp = cmt.copy()\n",
    "    df_temp.cmt_content = df_temp.cmt_content.str.lower() # must transform to lowercase !\n",
    "    df_temp.cmt_content = df_temp.cmt_content.apply(lambda str_cmt: sent_tokenize(str_cmt))\n",
    "    df_temp.cmt_content = df_temp.cmt_content.apply(lambda str_lst: _filter(str_lst))\n",
    "    df = _check_names(df_temp)\n",
    "    return df"
   ]
  },
  {
   "cell_type": "code",
   "execution_count": 27,
   "metadata": {},
   "outputs": [],
   "source": [
    "def save_db(db_name, df_name, *path):\n",
    "    if len(path) == 1:\n",
    "        conn_save = sqlite3.connect(directory + path[0] + db_name + '.db')\n",
    "    else:\n",
    "        conn_save = sqlite3.connect(directory + '/dataPrep/source/' + db_name + '.db')\n",
    "    df_name.to_sql(name=db_name, con=conn_save, if_exists='replace', index=False)"
   ]
  },
  {
   "cell_type": "markdown",
   "metadata": {},
   "source": [
    "# Data"
   ]
  },
  {
   "cell_type": "code",
   "execution_count": 5,
   "metadata": {},
   "outputs": [],
   "source": [
    "conn_crt_exp = sqlite3.connect(directory + '/dataPrep/source/constructs/' + 'crt_exp.db')\n",
    "crt_exp = pd.read_sql_query(\"SELECT * FROM crt_exp\", conn_crt_exp)\n",
    "\n",
    "conn_dates = sqlite3.connect(directory + '/dataPrep/source/overall/' + 'dates.db')\n",
    "dates = pd.read_sql_query(\"SELECT * FROM dates\", conn_dates)\n",
    "\n",
    "conn_cmt_all = sqlite3.connect(directory + '/dataPrep/source/ds_ind_26229/' + 'cmt_all.db')\n",
    "cmt_all = pd.read_sql_query(\"SELECT * FROM cmt_all\", conn_cmt_all)\n",
    "\n",
    "conn_backer_names = sqlite3.connect(directory + '/dataPrep/source/body_name/' + 'backer_names.db')\n",
    "backer_names = pd.read_sql_query('SELECT * FROM backer_names', conn_backer_names)"
   ]
  },
  {
   "cell_type": "code",
   "execution_count": 15,
   "metadata": {},
   "outputs": [],
   "source": [
    "ta_pid = crt_exp.pid.drop_duplicates().tolist()"
   ]
  },
  {
   "cell_type": "code",
   "execution_count": 50,
   "metadata": {},
   "outputs": [],
   "source": [
    "backer_name = backer_names.drop_duplicates()"
   ]
  },
  {
   "cell_type": "code",
   "execution_count": 17,
   "metadata": {},
   "outputs": [],
   "source": [
    "dates = dates[dates.pid.isin(ta_pid)].copy()\n",
    "cmt_all = cmt_all[cmt_all.pid.isin(ta_pid)].copy()\n",
    "cmt_all = cmt_all.drop_duplicates('cmt_id', keep='last')"
   ]
  },
  {
   "cell_type": "code",
   "execution_count": 21,
   "metadata": {},
   "outputs": [],
   "source": [
    "backer_id = cmt_all[['cmt_profile_id']].drop_duplicates()"
   ]
  },
  {
   "cell_type": "code",
   "execution_count": 99,
   "metadata": {},
   "outputs": [],
   "source": [
    "dates.proj_start_date = dates.proj_start_date.apply(\n",
    "    lambda str_date: datetime.datetime.strptime(str_date, \"%Y-%m-%d %H:%M:%S\"))\n",
    "dates.first_date = dates.first_date.apply(\n",
    "    lambda str_date: datetime.datetime.strptime(str_date, \"%Y-%m-%d %H:%M:%S\"))\n",
    "dates.after_d_3 = dates.after_d_3.apply(\n",
    "    lambda str_date: datetime.datetime.strptime(str_date, \"%Y-%m-%d %H:%M:%S\"))\n",
    "dates.after_d_6 = dates.after_d_6.apply(\n",
    "    lambda str_date: datetime.datetime.strptime(str_date, \"%Y-%m-%d %H:%M:%S\"))\n",
    "dates.after_d_9 = dates.after_d_9.apply(\n",
    "    lambda str_date: datetime.datetime.strptime(str_date, \"%Y-%m-%d %H:%M:%S\"))\n",
    "dates.after_d_1 = dates.after_d_1.apply(\n",
    "    lambda str_date: datetime.datetime.strptime(str_date, \"%Y-%m-%d %H:%M:%S\"))"
   ]
  },
  {
   "cell_type": "code",
   "execution_count": 54,
   "metadata": {
    "scrolled": true
   },
   "outputs": [
    {
     "data": {
      "text/plain": [
       "18"
      ]
     },
     "execution_count": 54,
     "metadata": {},
     "output_type": "execute_result"
    }
   ],
   "source": [
    "# users not found\n",
    "len(backer_id[~backer_id.cmt_profile_id.isin(backer_names.cid)])"
   ]
  },
  {
   "cell_type": "markdown",
   "metadata": {},
   "source": [
    "# Creator's comments"
   ]
  },
  {
   "cell_type": "code",
   "execution_count": 61,
   "metadata": {},
   "outputs": [],
   "source": [
    "cmt_all.cmt_datetime = cmt_all.cmt_datetime.apply(\n",
    "    lambda str_date: datetime.datetime.strptime(str_date, \"%Y-%m-%d %H:%M:%S\"))\n",
    "\n",
    "cmt_all_crt = cmt_all[cmt_all.cmt_collaborator==1].copy()\n",
    "cmt_all_bac = cmt_all[cmt_all.cmt_collaborator==0].copy()\n",
    "\n",
    "\n",
    "# count comment length\n",
    "cmt_all_crt['cmt_len'] = cmt_all_crt.apply(lambda row: count_length(row.cmt_content), axis=1)\n",
    "\n",
    "\n",
    "# check whether using email\n",
    "cmt_all_crt['cmt_email'] = cmt_all_crt.apply(lambda row: re.search(\"\\w+@\\w+\", row.cmt_content) != None, axis=1)\n",
    "# save_db('cmt_all_crt', cmt_all_crt)"
   ]
  },
  {
   "cell_type": "code",
   "execution_count": 62,
   "metadata": {},
   "outputs": [],
   "source": [
    "# reply_time\n",
    "cmt_all = cmt_all.sort_values(['pid','cmt_datetime'], ascending=False).copy() # Important!!!\n",
    "rpt_l = reply_time_last(cmt_all)"
   ]
  },
  {
   "cell_type": "code",
   "execution_count": 63,
   "metadata": {},
   "outputs": [],
   "source": [
    "rpt_f = reply_time_first(cmt_all)"
   ]
  },
  {
   "cell_type": "code",
   "execution_count": 64,
   "metadata": {},
   "outputs": [
    {
     "data": {
      "text/html": [
       "<div>\n",
       "<style>\n",
       "    .dataframe thead tr:only-child th {\n",
       "        text-align: right;\n",
       "    }\n",
       "\n",
       "    .dataframe thead th {\n",
       "        text-align: left;\n",
       "    }\n",
       "\n",
       "    .dataframe tbody tr th {\n",
       "        vertical-align: top;\n",
       "    }\n",
       "</style>\n",
       "<table border=\"1\" class=\"dataframe\">\n",
       "  <thead>\n",
       "    <tr style=\"text-align: right;\">\n",
       "      <th></th>\n",
       "      <th>cmt_datetime</th>\n",
       "      <th>cmt_id</th>\n",
       "      <th>cmt_rpt_l</th>\n",
       "      <th>pid</th>\n",
       "    </tr>\n",
       "  </thead>\n",
       "  <tbody>\n",
       "    <tr>\n",
       "      <th>0</th>\n",
       "      <td>2015-09-17 19:11:47</td>\n",
       "      <td>comment-11112693</td>\n",
       "      <td>01:14:17</td>\n",
       "      <td>99825633</td>\n",
       "    </tr>\n",
       "  </tbody>\n",
       "</table>\n",
       "</div>"
      ],
      "text/plain": [
       "         cmt_datetime            cmt_id cmt_rpt_l       pid\n",
       "0 2015-09-17 19:11:47  comment-11112693  01:14:17  99825633"
      ]
     },
     "execution_count": 64,
     "metadata": {},
     "output_type": "execute_result"
    }
   ],
   "source": [
    "rpt_l.head(1)"
   ]
  },
  {
   "cell_type": "code",
   "execution_count": 26,
   "metadata": {},
   "outputs": [],
   "source": [
    "# backers were waiting\n",
    "# waiting_bac = wait_rep(cmt_all)"
   ]
  },
  {
   "cell_type": "code",
   "execution_count": 67,
   "metadata": {},
   "outputs": [],
   "source": [
    "# check whether using names\n",
    "\n",
    "# find first name excepting name is just a letter or stop words\n",
    "stops_titles = set(stopwords.words(\"english\")) | set(['miss', 'mr', 'ms', 'mrs'])\n",
    "\n",
    "first_name = backer_name.copy().rename(index=str, columns={'name': 'first_name'})\n",
    "first_name.first_name = first_name.first_name.apply(lambda name: str(name).lower())\n",
    "\n",
    "backer_name = backer_name.merge(first_name, on=['cid'])\n",
    "backer_name.first_name = backer_name.first_name.apply(lambda name: name if name == None else regex.sub('', name))\n",
    "backer_name.first_name = backer_name.first_name.apply(lambda name: word_tokenize(name))\n",
    "backer_name.first_name = backer_name.first_name.apply(lambda name: [word for word in name if word not in stops_titles])\n",
    "backer_name.first_name = backer_name.first_name.apply(lambda lst: None if len(lst) == 0 else \n",
    "    (lst[0] if len(lst[0]) > 2 else (max(lst, key=len) if len(max(lst, key=len)) > 1 else ' '.join(lst))))\n",
    "backer_name.first_name = backer_name.first_name.apply(\n",
    "    lambda name: name if name == None else (None if len(name) <= 2 else name))\n",
    "backer_name.first_name = backer_name.first_name.apply(lambda name: str(name))\n",
    "\n",
    "backer_name = backer_name[backer_name.first_name!='None']\n",
    "backer_name = backer_name[backer_name.name != 'non-exist'].copy()\n",
    "backer_name = backer_name.rename(index=str, columns={'cid':'cmt_profile_id'})\n",
    "\n",
    "# prepared for two definitions: name_list, check_rep.\n",
    "cmt_all_n = cmt_all.merge(backer_name, on=['cmt_profile_id']).copy()\n",
    "pid_name = name_list(cmt_all_n) # return the list of names by pid"
   ]
  },
  {
   "cell_type": "code",
   "execution_count": 84,
   "metadata": {},
   "outputs": [
    {
     "data": {
      "text/html": [
       "<div>\n",
       "<style>\n",
       "    .dataframe thead tr:only-child th {\n",
       "        text-align: right;\n",
       "    }\n",
       "\n",
       "    .dataframe thead th {\n",
       "        text-align: left;\n",
       "    }\n",
       "\n",
       "    .dataframe tbody tr th {\n",
       "        vertical-align: top;\n",
       "    }\n",
       "</style>\n",
       "<table border=\"1\" class=\"dataframe\">\n",
       "  <thead>\n",
       "    <tr style=\"text-align: right;\">\n",
       "      <th></th>\n",
       "      <th>name_lst</th>\n",
       "      <th>pid</th>\n",
       "    </tr>\n",
       "  </thead>\n",
       "  <tbody>\n",
       "    <tr>\n",
       "      <th>0</th>\n",
       "      <td>[janahan, stephen, stuart, allan, rob, nick, a...</td>\n",
       "      <td>998633411</td>\n",
       "    </tr>\n",
       "  </tbody>\n",
       "</table>\n",
       "</div>"
      ],
      "text/plain": [
       "                                            name_lst        pid\n",
       "0  [janahan, stephen, stuart, allan, rob, nick, a...  998633411"
      ]
     },
     "execution_count": 84,
     "metadata": {},
     "output_type": "execute_result"
    }
   ],
   "source": [
    "pid_name.head(1)"
   ]
  },
  {
   "cell_type": "code",
   "execution_count": 81,
   "metadata": {},
   "outputs": [],
   "source": [
    "cmt_rbn = cmt_all_crt.copy()\n",
    "cmt_rbn['cmt_rbn'] = check_rep(cmt_rbn).copy()"
   ]
  },
  {
   "cell_type": "code",
   "execution_count": 85,
   "metadata": {},
   "outputs": [],
   "source": [
    "cmt = cmt_all.merge(cmt_all_crt[['cmt_id', 'cmt_len', 'cmt_email']], on=['cmt_id'], how='outer').copy()\n",
    "cmt = cmt.merge(rpt_l[['cmt_id', 'cmt_rpt_l']], on=['cmt_id'], how='outer').copy()\n",
    "cmt = cmt.merge(rpt_f[['cmt_id', 'cmt_rpt_f']], on=['cmt_id'], how='outer').copy()\n",
    "# cmt = cmt.merge(waiting_bac[['cmt_id', 'cmt_wt']], on=['cmt_id'], how='outer').copy()\n",
    "cmt = cmt.merge(cmt_rbn[['cmt_id', 'cmt_rbn']], on=['cmt_id'], how='outer').copy()\n",
    "\n",
    "cmt.cmt_len = cmt.cmt_len.fillna(0)\n",
    "cmt.cmt_email = cmt.cmt_email.fillna(False)\n",
    "cmt.cmt_rbn = cmt.cmt_rbn.fillna(False)\n",
    "cmt.cmt_email = cmt.cmt_email.apply(lambda bl: int(bl))\n",
    "cmt.cmt_rbn = cmt.cmt_rbn.apply(lambda bl: int(bl))\n",
    "cmt.cmt_rpt_l = cmt.cmt_rpt_l.apply(lambda td: (td / np.timedelta64(1, 'D')))\n",
    "cmt.cmt_rpt_f = cmt.cmt_rpt_f.apply(lambda td: (td / np.timedelta64(1, 'D')))\n",
    "#time: time.total_seconds())#sec: datetime.timedelta(seconds=sec))"
   ]
  },
  {
   "cell_type": "code",
   "execution_count": 92,
   "metadata": {},
   "outputs": [
    {
     "data": {
      "text/html": [
       "<div>\n",
       "<style>\n",
       "    .dataframe thead tr:only-child th {\n",
       "        text-align: right;\n",
       "    }\n",
       "\n",
       "    .dataframe thead th {\n",
       "        text-align: left;\n",
       "    }\n",
       "\n",
       "    .dataframe tbody tr th {\n",
       "        vertical-align: top;\n",
       "    }\n",
       "</style>\n",
       "<table border=\"1\" class=\"dataframe\">\n",
       "  <thead>\n",
       "    <tr style=\"text-align: right;\">\n",
       "      <th></th>\n",
       "      <th>cmt_collaborator</th>\n",
       "      <th>cmt_content</th>\n",
       "      <th>cmt_creator</th>\n",
       "      <th>cmt_datetime</th>\n",
       "      <th>cmt_id</th>\n",
       "      <th>cmt_profile_id</th>\n",
       "      <th>cmt_superbaker</th>\n",
       "      <th>pid</th>\n",
       "      <th>proj_creator_id</th>\n",
       "      <th>cmt_len</th>\n",
       "      <th>cmt_email</th>\n",
       "      <th>cmt_rpt_l</th>\n",
       "      <th>cmt_rpt_f</th>\n",
       "      <th>cmt_rbn</th>\n",
       "    </tr>\n",
       "  </thead>\n",
       "  <tbody>\n",
       "    <tr>\n",
       "      <th>0</th>\n",
       "      <td>0.0</td>\n",
       "      <td>And the bairn revealed that a parcel of plectr...</td>\n",
       "      <td>0</td>\n",
       "      <td>2016-01-27 02:01:18</td>\n",
       "      <td>comment-12320544</td>\n",
       "      <td>1391895283</td>\n",
       "      <td>0.0</td>\n",
       "      <td>998633411</td>\n",
       "      <td>1944039953</td>\n",
       "      <td>0.0</td>\n",
       "      <td>0</td>\n",
       "      <td>NaN</td>\n",
       "      <td>NaN</td>\n",
       "      <td>0</td>\n",
       "    </tr>\n",
       "  </tbody>\n",
       "</table>\n",
       "</div>"
      ],
      "text/plain": [
       "   cmt_collaborator                                        cmt_content  \\\n",
       "0               0.0  And the bairn revealed that a parcel of plectr...   \n",
       "\n",
       "   cmt_creator        cmt_datetime            cmt_id cmt_profile_id  \\\n",
       "0            0 2016-01-27 02:01:18  comment-12320544     1391895283   \n",
       "\n",
       "   cmt_superbaker        pid proj_creator_id  cmt_len  cmt_email  cmt_rpt_l  \\\n",
       "0             0.0  998633411      1944039953      0.0          0        NaN   \n",
       "\n",
       "   cmt_rpt_f  cmt_rbn  \n",
       "0        NaN        0  "
      ]
     },
     "execution_count": 92,
     "metadata": {},
     "output_type": "execute_result"
    }
   ],
   "source": [
    "cmt.head(1)"
   ]
  },
  {
   "cell_type": "code",
   "execution_count": 86,
   "metadata": {},
   "outputs": [],
   "source": [
    "cmt_crt = cmt[cmt.cmt_collaborator == 1].copy()\n",
    "cmt_bac = cmt[cmt.cmt_collaborator == 0].copy()\n",
    "\n",
    "# cmt_crt_count, cmt_bac_count\n",
    "cmt_pid = dates.merge(cmt.groupby('pid').cmt_id.count().reset_index().rename(\n",
    "    index=str, columns={'cmt_id': 'cmt_count'}), on=['pid'], how='outer')\n",
    "cmt_pid = cmt_pid.merge(cmt_crt.groupby('pid').cmt_id.count().reset_index().rename(\n",
    "    index=str, columns={'cmt_id': 'cmt_crt_count'}), on=['pid'], how='outer')\n",
    "cmt_pid = cmt_pid.merge(cmt_bac.groupby('pid').cmt_id.count().reset_index().rename(\n",
    "    index=str, columns={'cmt_id': 'cmt_bac_count'}), on=['pid'], how='outer')\n",
    "\n",
    "cmt_stat = cmt_crt.groupby('pid').sum().reset_index().copy() # sum all\n",
    "cmt_stat = cmt_pid.merge(cmt_stat, on=['pid'], how='outer').copy()\n",
    "\n",
    "# cmt_crt_rate\n",
    "cmt_stat['cmt_crt_rate'] = cmt_stat.cmt_crt_count / cmt_stat.cmt_count\n",
    "# cmt_avg_len\n",
    "cmt_stat['cmt_avg_len'] =  cmt_stat.cmt_len / cmt_stat.cmt_crt_count\n",
    "# cmt_avg_rpt_f\n",
    "cmt_stat['cmt_avg_rpt_f'] =  cmt_stat.cmt_rpt_f / cmt_stat.cmt_crt_count\n",
    "# cmt_avg_rpt_l\n",
    "cmt_stat['cmt_avg_rpt_l'] =  cmt_stat.cmt_rpt_l / cmt_stat.cmt_crt_count\n",
    "# cmt_avg_wt\n",
    "# cmt_stat['cmt_avg_wt'] =  cmt_stat.cmt_wt / cmt_stat.cmt_crt_count\n",
    "# cmt_email_rate\n",
    "cmt_stat['cmt_email_rate'] =  cmt_stat.cmt_email / cmt_stat.cmt_crt_count\n",
    "# cmt_name_rate\n",
    "cmt_stat['cmt_rbn_rate'] =  cmt_stat.cmt_rbn / cmt_stat.cmt_crt_count"
   ]
  },
  {
   "cell_type": "code",
   "execution_count": 93,
   "metadata": {},
   "outputs": [
    {
     "data": {
      "text/html": [
       "<div>\n",
       "<style>\n",
       "    .dataframe thead tr:only-child th {\n",
       "        text-align: right;\n",
       "    }\n",
       "\n",
       "    .dataframe thead th {\n",
       "        text-align: left;\n",
       "    }\n",
       "\n",
       "    .dataframe tbody tr th {\n",
       "        vertical-align: top;\n",
       "    }\n",
       "</style>\n",
       "<table border=\"1\" class=\"dataframe\">\n",
       "  <thead>\n",
       "    <tr style=\"text-align: right;\">\n",
       "      <th></th>\n",
       "      <th>pid</th>\n",
       "      <th>proj_start_date</th>\n",
       "      <th>first_date</th>\n",
       "      <th>after_d_3</th>\n",
       "      <th>after_d_6</th>\n",
       "      <th>after_d_9</th>\n",
       "      <th>after_d_1</th>\n",
       "      <th>interval_0</th>\n",
       "      <th>interval_3</th>\n",
       "      <th>interval_6</th>\n",
       "      <th>...</th>\n",
       "      <th>cmt_email</th>\n",
       "      <th>cmt_rpt_l</th>\n",
       "      <th>cmt_rpt_f</th>\n",
       "      <th>cmt_rbn</th>\n",
       "      <th>cmt_crt_rate</th>\n",
       "      <th>cmt_avg_len</th>\n",
       "      <th>cmt_avg_rpt_f</th>\n",
       "      <th>cmt_avg_rpt_l</th>\n",
       "      <th>cmt_email_rate</th>\n",
       "      <th>cmt_rbn_rate</th>\n",
       "    </tr>\n",
       "  </thead>\n",
       "  <tbody>\n",
       "    <tr>\n",
       "      <th>0</th>\n",
       "      <td>1369691611</td>\n",
       "      <td>2015-06-10</td>\n",
       "      <td>2015-10-01 00:00:00</td>\n",
       "      <td>2016-01-01</td>\n",
       "      <td>2016-04-01</td>\n",
       "      <td>2016-07-01</td>\n",
       "      <td>2016-10-01</td>\n",
       "      <td>113.0</td>\n",
       "      <td>92.0</td>\n",
       "      <td>183.0</td>\n",
       "      <td>...</td>\n",
       "      <td>0.0</td>\n",
       "      <td>0.097373</td>\n",
       "      <td>454.124213</td>\n",
       "      <td>0.0</td>\n",
       "      <td>0.076923</td>\n",
       "      <td>26.0</td>\n",
       "      <td>454.124213</td>\n",
       "      <td>0.097373</td>\n",
       "      <td>0.0</td>\n",
       "      <td>0.0</td>\n",
       "    </tr>\n",
       "  </tbody>\n",
       "</table>\n",
       "<p>1 rows × 36 columns</p>\n",
       "</div>"
      ],
      "text/plain": [
       "          pid proj_start_date           first_date  after_d_3  after_d_6  \\\n",
       "0  1369691611      2015-06-10  2015-10-01 00:00:00 2016-01-01 2016-04-01   \n",
       "\n",
       "   after_d_9  after_d_1  interval_0  interval_3  interval_6      ...       \\\n",
       "0 2016-07-01 2016-10-01       113.0        92.0       183.0      ...        \n",
       "\n",
       "   cmt_email  cmt_rpt_l   cmt_rpt_f  cmt_rbn  cmt_crt_rate  cmt_avg_len  \\\n",
       "0        0.0   0.097373  454.124213      0.0      0.076923         26.0   \n",
       "\n",
       "   cmt_avg_rpt_f  cmt_avg_rpt_l  cmt_email_rate  cmt_rbn_rate  \n",
       "0     454.124213       0.097373             0.0           0.0  \n",
       "\n",
       "[1 rows x 36 columns]"
      ]
     },
     "execution_count": 93,
     "metadata": {},
     "output_type": "execute_result"
    }
   ],
   "source": [
    "cmt_stat.head(1)"
   ]
  },
  {
   "cell_type": "code",
   "execution_count": 94,
   "metadata": {},
   "outputs": [],
   "source": [
    "def inter_cmt(name, str_lb, str_ub):\n",
    "    temp = cmt.merge(dates, on=['pid']).copy()\n",
    "    temp = temp[(temp.cmt_datetime >= temp[str_lb]) & (temp.cmt_datetime < temp[str_ub])]\n",
    "        \n",
    "    result = dates[dates.pid.isin(ta_pid)].copy()\n",
    "    result = result.merge(temp.groupby('pid').count().reset_index()[['pid', 'cmt_datetime']].rename(\n",
    "        index=str, columns={'cmt_datetime':'cmt_count_' + name}), on=['pid'], how='outer')\n",
    "    result = result.merge(temp[temp.cmt_collaborator==1].groupby('pid').count().reset_index()[\n",
    "        ['pid', 'cmt_datetime']].rename(index=str, columns={'cmt_datetime':'cmt_crt_count_' + name}), \n",
    "                          on=['pid'], how='outer')\n",
    "    result = result.merge(temp[temp.cmt_collaborator==0].groupby('pid').count().reset_index()[\n",
    "        ['pid', 'cmt_datetime']].rename(index=str, columns={'cmt_datetime':'cmt_bac_count_' + name}), \n",
    "                          on=['pid'], how='outer')\n",
    "\n",
    "    # including cmt_crt_rate, cmt_avg_len, cmt_avg_rpt_f, cmt_avg_rpt_l, cmt_avg_wt, cmt_email_rate, cmt_name_rate\n",
    "    temp = temp.groupby('pid').sum().reset_index().copy()[\n",
    "        ['pid', 'cmt_len', 'cmt_rpt_l', 'cmt_rpt_f', 'cmt_email', 'cmt_rbn']] #, 'cmt_wt'\n",
    "    result = result.merge(temp, on=['pid'], how='outer').rename(\n",
    "        index=str, columns={'cmt_len': 'cmt_len_' + name, 'cmt_rpt_f': 'cmt_rpt_f_' + name, \n",
    "                            'cmt_rpt_l': 'cmt_rpt_l_' + name, #'cmt_wt': 'cmt_wt_' + name, \n",
    "                            'cmt_email': 'cmt_email_' + name, 'cmt_rbn': 'cmt_rbn_' + name})\n",
    "    \n",
    "    # cmt_crt_rate\n",
    "    result['cmt_crt_rate_' + name] = result['cmt_crt_count_' + name] / result['cmt_count_' + name]\n",
    "    # cmt_avg_len\n",
    "    result['cmt_avg_len_' + name] = result['cmt_len_' + name] / result['cmt_crt_count_' + name]\n",
    "    # cmt_avg_rpt_f\n",
    "    result['cmt_avg_rpt_f_' + name] = result['cmt_rpt_f_' + name] / result['cmt_crt_count_' + name]\n",
    "    # cmt_avg_rpt_l\n",
    "    result['cmt_avg_rpt_l_' + name] = result['cmt_rpt_l_' + name] / result['cmt_crt_count_' + name]\n",
    "    # cmt_avg_wt\n",
    "#     result['cmt_avg_wt_' + name] = result['cmt_wt_' + name] / result['cmt_crt_count_' + name]\n",
    "    # cmt_email_rate\n",
    "    result['cmt_email_rate_' + name] = result['cmt_email_' + name] / result['cmt_crt_count_' + name]\n",
    "    # cmt_name_rate\n",
    "    result['cmt_rbn_rate_' + name] = result['cmt_rbn_' + name] / result['cmt_crt_count_' + name]\n",
    "\n",
    "    return result"
   ]
  },
  {
   "cell_type": "code",
   "execution_count": 100,
   "metadata": {},
   "outputs": [],
   "source": [
    "cmt_0 = inter_cmt('0', 'proj_start_date', 'first_date')\n",
    "\n",
    "cmt_3 = inter_cmt('3', 'first_date', 'after_d_3')\n",
    "cmt_6 = inter_cmt('6', 'first_date', 'after_d_6')\n",
    "cmt_9 = inter_cmt('9', 'first_date', 'after_d_9')\n",
    "cmt_1 = inter_cmt('1', 'first_date', 'after_d_1')\n",
    "\n",
    "cmt_0103 = inter_cmt('0103', 'first_date', 'after_d_3')\n",
    "cmt_0406 = inter_cmt('0406', 'after_d_3', 'after_d_6')\n",
    "cmt_0709 = inter_cmt('0709', 'after_d_6', 'after_d_9')\n",
    "cmt_1012 = inter_cmt('1012', 'after_d_9', 'after_d_1')\n",
    "\n",
    "cmt_0106 = inter_cmt('0106', 'first_date', 'after_d_6')\n",
    "cmt_0712 = inter_cmt('0712', 'after_d_6', 'after_d_1')"
   ]
  },
  {
   "cell_type": "code",
   "execution_count": 101,
   "metadata": {},
   "outputs": [],
   "source": [
    "interact_cmt = cmt_stat[['pid'] + cmt_stat.columns.tolist()[19:]]\n",
    "interact_cmt = interact_cmt.merge(cmt_0[['pid'] + cmt_0.columns.tolist()[19:]], on=['pid'], how='outer')\n",
    "\n",
    "interact_cmt = interact_cmt.merge(cmt_3[['pid'] + cmt_3.columns.tolist()[19:]], on=['pid'], how='outer')\n",
    "interact_cmt = interact_cmt.merge(cmt_6[['pid'] + cmt_6.columns.tolist()[19:]], on=['pid'], how='outer')\n",
    "interact_cmt = interact_cmt.merge(cmt_9[['pid'] + cmt_9.columns.tolist()[19:]], on=['pid'], how='outer')\n",
    "interact_cmt = interact_cmt.merge(cmt_1[['pid'] + cmt_1.columns.tolist()[19:]], on=['pid'], how='outer')\n",
    "\n",
    "interact_cmt = interact_cmt.merge(cmt_0103[['pid'] + cmt_0103.columns.tolist()[19:]], on=['pid'], how='outer')\n",
    "interact_cmt = interact_cmt.merge(cmt_0406[['pid'] + cmt_0406.columns.tolist()[19:]], on=['pid'], how='outer')\n",
    "interact_cmt = interact_cmt.merge(cmt_0709[['pid'] + cmt_0709.columns.tolist()[19:]], on=['pid'], how='outer')\n",
    "interact_cmt = interact_cmt.merge(cmt_1012[['pid'] + cmt_1012.columns.tolist()[19:]], on=['pid'], how='outer')\n",
    "\n",
    "interact_cmt = interact_cmt.merge(cmt_0106[['pid'] + cmt_0106.columns.tolist()[19:]], on=['pid'], how='outer')\n",
    "interact_cmt = interact_cmt.merge(cmt_0712[['pid'] + cmt_0712.columns.tolist()[19:]], on=['pid'], how='outer')"
   ]
  },
  {
   "cell_type": "code",
   "execution_count": 102,
   "metadata": {},
   "outputs": [],
   "source": [
    "interact_cmt = interact_cmt.rename(\n",
    "        index=str, columns={'rpt_l': 'cmt_rpt_l', 'rpt_f': 'cmt_rpt_f', \n",
    "                            'num_bac': 'cmt_wt', 'rep_by_name': 'cmt_rbn', 'cmt_name_rate': 'cmt_rbn_rate'})"
   ]
  },
  {
   "cell_type": "code",
   "execution_count": 103,
   "metadata": {
    "scrolled": false
   },
   "outputs": [],
   "source": [
    "save_db('interact_cmt', interact_cmt)"
   ]
  },
  {
   "cell_type": "code",
   "execution_count": null,
   "metadata": {},
   "outputs": [],
   "source": [
    ""
   ]
  }
 ],
 "metadata": {
  "kernelspec": {
   "display_name": "Python 3",
   "language": "python",
   "name": "python3"
  },
  "language_info": {
   "codemirror_mode": {
    "name": "ipython",
    "version": 3.0
   },
   "file_extension": ".py",
   "mimetype": "text/x-python",
   "name": "python",
   "nbconvert_exporter": "python",
   "pygments_lexer": "ipython3",
   "version": "3.6.1"
  }
 },
 "nbformat": 4,
 "nbformat_minor": 0
}